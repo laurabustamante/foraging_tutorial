{
  "nbformat": 4,
  "nbformat_minor": 0,
  "metadata": {
    "colab": {
      "provenance": [],
      "toc_visible": true,
      "include_colab_link": true
    },
    "kernelspec": {
      "name": "ir",
      "display_name": "R"
    },
    "language_info": {
      "name": "R"
    }
  },
  "cells": [
    {
      "cell_type": "markdown",
      "metadata": {
        "id": "view-in-github",
        "colab_type": "text"
      },
      "source": [
        "<a href=\"https://colab.research.google.com/github/laurabustamante/foraging_tutorial/blob/main/foraging_tutorial_git.ipynb\" target=\"_parent\"><img src=\"https://colab.research.google.com/assets/colab-badge.svg\" alt=\"Open In Colab\"/></a>"
      ]
    },
    {
      "cell_type": "markdown",
      "source": [
        "# Foraging theory: models and applications to effort-based decision-making\n",
        "<br>\n",
        "Welcome to the tutorial! This tutorial was written by Laura Ana Bustamante from Washington University in St. Louis in April, 2024. Much of the code was adapted from scripts provided to me by Nathaniel Daw, Sean Devine, Kevin Lloyd and Sam Zorowitz, many thanks to them.\n",
        "<br>\n",
        "In this tutorial you will learn about how to run simulations to get the optimal policy in a patch foraging environment. Then you will estimate individual differences in willingness to exert cognitive and physical effort by fitting a hierarchical Bayesian MVT model. We will also cover how to utilize hierarchical models to estimate correlations between inter-parameter individual differences. We will use open source Effort Foraging Task data from Bustamante and colleagues (2023).\n",
        "<br>\n",
        "See the [paper](https://www.pnas.org/doi/10.1073/pnas.2221510120) and [OSF](https://osf.io/a4r2e/) repository for complete information."
      ],
      "metadata": {
        "id": "g-VCbVgb9bhC"
      }
    },
    {
      "cell_type": "markdown",
      "source": [
        "# Setup\n",
        "Install and load packages, load data, and other required files."
      ],
      "metadata": {
        "id": "vrDN0U1o2SZy"
      }
    },
    {
      "cell_type": "code",
      "source": [
        "install.packages(\"R.utils\", repos = c(\"https://mc-stan.org/r-packages/\", getOption(\"repos\")))\n",
        "install.packages(\"HDInterval\", repos = c(\"https://mc-stan.org/r-packages/\", getOption(\"repos\")))\n",
        "install.packages(\"lme4\", repos = c(\"https://mc-stan.org/r-packages/\", getOption(\"repos\")))"
      ],
      "metadata": {
        "id": "KCPg_tfKUaoB",
        "outputId": "4590eeb3-eca9-40b6-b96b-9f7b2ca1038c",
        "colab": {
          "base_uri": "https://localhost:8080/"
        }
      },
      "execution_count": 1,
      "outputs": [
        {
          "output_type": "stream",
          "name": "stderr",
          "text": [
            "Installing package into ‘/usr/local/lib/R/site-library’\n",
            "(as ‘lib’ is unspecified)\n",
            "\n",
            "also installing the dependencies ‘R.oo’, ‘R.methodsS3’\n",
            "\n",
            "\n",
            "Installing package into ‘/usr/local/lib/R/site-library’\n",
            "(as ‘lib’ is unspecified)\n",
            "\n",
            "Installing package into ‘/usr/local/lib/R/site-library’\n",
            "(as ‘lib’ is unspecified)\n",
            "\n",
            "also installing the dependencies ‘minqa’, ‘nloptr’, ‘Rcpp’, ‘RcppEigen’\n",
            "\n",
            "\n"
          ]
        }
      ]
    },
    {
      "cell_type": "code",
      "source": [
        "library(lme4)\n",
        "library(R.utils)\n",
        "library(magrittr)\n",
        "library(tidyr)\n",
        "library(data.table)\n",
        "library(dplyr)\n",
        "library(ggplot2)"
      ],
      "metadata": {
        "id": "YKp3o77kYqgG",
        "outputId": "ef55b548-3b1e-492d-c783-a08c03f70751",
        "colab": {
          "base_uri": "https://localhost:8080/"
        }
      },
      "execution_count": 5,
      "outputs": [
        {
          "output_type": "stream",
          "name": "stderr",
          "text": [
            "Loading required package: Matrix\n",
            "\n",
            "Loading required package: R.oo\n",
            "\n",
            "Loading required package: R.methodsS3\n",
            "\n",
            "R.methodsS3 v1.8.2 (2022-06-13 22:00:14 UTC) successfully loaded. See ?R.methodsS3 for help.\n",
            "\n",
            "R.oo v1.26.0 (2024-01-24 05:12:50 UTC) successfully loaded. See ?R.oo for help.\n",
            "\n",
            "\n",
            "Attaching package: ‘R.oo’\n",
            "\n",
            "\n",
            "The following object is masked from ‘package:R.methodsS3’:\n",
            "\n",
            "    throw\n",
            "\n",
            "\n",
            "The following objects are masked from ‘package:methods’:\n",
            "\n",
            "    getClasses, getMethods\n",
            "\n",
            "\n",
            "The following objects are masked from ‘package:base’:\n",
            "\n",
            "    attach, detach, load, save\n",
            "\n",
            "\n",
            "R.utils v2.12.3 (2023-11-18 01:00:02 UTC) successfully loaded. See ?R.utils for help.\n",
            "\n",
            "\n",
            "Attaching package: ‘R.utils’\n",
            "\n",
            "\n",
            "The following object is masked from ‘package:utils’:\n",
            "\n",
            "    timestamp\n",
            "\n",
            "\n",
            "The following objects are masked from ‘package:base’:\n",
            "\n",
            "    cat, commandArgs, getOption, isOpen, nullfile, parse, warnings\n",
            "\n",
            "\n",
            "\n",
            "Attaching package: ‘magrittr’\n",
            "\n",
            "\n",
            "The following object is masked from ‘package:R.utils’:\n",
            "\n",
            "    extract\n",
            "\n",
            "\n",
            "The following object is masked from ‘package:R.oo’:\n",
            "\n",
            "    equals\n",
            "\n",
            "\n",
            "\n",
            "Attaching package: ‘tidyr’\n",
            "\n",
            "\n",
            "The following object is masked from ‘package:magrittr’:\n",
            "\n",
            "    extract\n",
            "\n",
            "\n",
            "The following object is masked from ‘package:R.utils’:\n",
            "\n",
            "    extract\n",
            "\n",
            "\n",
            "The following objects are masked from ‘package:Matrix’:\n",
            "\n",
            "    expand, pack, unpack\n",
            "\n",
            "\n",
            "\n",
            "Attaching package: ‘dplyr’\n",
            "\n",
            "\n",
            "The following objects are masked from ‘package:data.table’:\n",
            "\n",
            "    between, first, last\n",
            "\n",
            "\n",
            "The following objects are masked from ‘package:stats’:\n",
            "\n",
            "    filter, lag\n",
            "\n",
            "\n",
            "The following objects are masked from ‘package:base’:\n",
            "\n",
            "    intersect, setdiff, setequal, union\n",
            "\n",
            "\n"
          ]
        }
      ]
    },
    {
      "cell_type": "markdown",
      "source": [
        "# Simulating patch foraging task to find the best policy\n",
        "\n",
        "First we are going to find the MVT best threshold policy for the foraging environment that participants experiences. This simulated foraging agent, will complete a patch foraging task using fixed exit threshold, and we can then observe the observing the resulting reward rate achieved.\n",
        "\n",
        "To find the best threshold, we used a policy iteration algorithm to find the maximal reward rate for a given foraging environment. The foraging environment was defined by the following parameters from our experiments; the harvest time (2 seconds), travel time (8.33 seconds), the distribution of initial rewards to a tree (N(15, 1)) distribution of the decay function (beta distribution,(alpha=14.90873, beta=2.033008). We assumed the agent knew the mean depletion rate (0.88 multiplied by the previous reward) and used this value to predict the expected reward on the current trial. If the predicted reward ```Er``` was less than or equal to the agent’s threshold ```thresh``` it exited the patch, otherwise it harvested the patch which yielded reward.\n",
        "\n",
        "```\n",
        "# Calculate expected reward based on decay rate\n",
        "Er <- E_kappa * r\n",
        "if (Er < thresh) {\n",
        "  # If expected reward is below threshold, exit\n",
        "  t_counter <- t_counter + d\n",
        "  exit_harvest_counter <- c(exit_harvest_counter, harvest_counter)\n",
        "  exit_harvest_counter_i <- c(exit_harvest_counter_i, harvest_counter)\n",
        "  harvest_counter <- 0\n",
        "} else {\n",
        "  # If expected reward is above threshold, continue harvesting\n",
        "  kappa <- rbeta(1, shape1 = a, shape2 = b)\n",
        "  r <- kappa * r\n",
        "  r_counter <- r_counter + r\n",
        "  t_counter <- t_counter + h\n",
        "  harvest_counter <- harvest_counter + 1\n",
        "}\n",
        "```\n",
        "\n",
        "We simulated 480 ‘seconds’ of foraging time for all experiments (though the result should be robust to duration). The simulation outputs were the ‘best threshold’ (threshold that yielded the highest reward rate, results vary slightly by simulation run), the resulting `best reward rate', as well as the mean and standard deviation number of harvests to reach that exit threshold.\n",
        "\n",
        "The agents' threshold parameter was initialized at 4 apples. For an iteration i, the threshold was set as the mean reward rate observed in iteration i-1, this allowed the threshold to gradually improve in terms of reward rate between iterations. The simulation stopped and the best threshold was determined based on the stopping threshold of a 0.001 apple per second improvement in reward rate on iteration i compared iteration i-1 (with a maximum of 200 iterations)."
      ],
      "metadata": {
        "id": "577PG60SUouD"
      }
    },
    {
      "cell_type": "code",
      "execution_count": 7,
      "metadata": {
        "id": "jt9Zf5Wz8vt7"
      },
      "outputs": [],
      "source": [
        "# Define the optimal_threshold function\n",
        "optimal_threshold <- function(d, h, mu, sigma, a, b, time) {\n",
        "\n",
        "  # Initialize variables\n",
        "  thresh_old <- 4\n",
        "  tol <- 1e-3\n",
        "  max_iter <- 200\n",
        "  diff <- 1e3\n",
        "  iter_opt <- 0\n",
        "\n",
        "  # Iterate until convergence or maximum iterations reached\n",
        "  while (diff > tol && iter_opt < max_iter) {\n",
        "    iter_opt <- iter_opt + 1\n",
        "    # Call evaluate_threshold function to get results\n",
        "    results <- evaluate_threshold(thresh_old, max_iter, d, h, mu, sigma, a, b, time)\n",
        "    # Update threshold based on average reward rate\n",
        "    thresh_new <- results$rho_mean * h\n",
        "    diff <- abs(thresh_new - thresh_old)\n",
        "    thresh_old <- thresh_new\n",
        "    # Display iteration information\n",
        "    cat(\"iteration\", iter_opt, \"...\")\n",
        "    cat(\"... threshold value =\", thresh_old, \"...\")\n",
        "    cat(\"... average rho =\", results$rho_mean, \"\\n\")\n",
        "  }\n",
        "\n",
        "  # Return results as a list\n",
        "  list(thresh = thresh_new,\n",
        "       rho = results$rho_mean,\n",
        "       n_harvests_mean = results$n_harvest_mean,\n",
        "       n_harvests_sd = results$n_harvest_sd,\n",
        "       n_exits_mean = results$n_exit_mean,\n",
        "       n_exits_sd = results$n_exit_sd)\n",
        "}\n",
        "\n",
        "# Define the evaluate_threshold function\n",
        "evaluate_threshold <- function(thresh, iter_eval, d, h, mu, sigma, a, b, time) {\n",
        "\n",
        "  # Initialize variables\n",
        "  r_max <- mu + 5\n",
        "  E_kappa <- a / (a + b)\n",
        "  exit_harvest_counter <- c()\n",
        "  rho <- numeric(iter_eval)\n",
        "  num_exit <- numeric(iter_eval)\n",
        "\n",
        "  # Iterate for the specified number of evaluations\n",
        "  for (i in 1:iter_eval) {\n",
        "    t_counter <- 0\n",
        "    r_counter <- 0\n",
        "    harvest_counter <- 0\n",
        "    exit_harvest_counter_i <- c()\n",
        "\n",
        "    # Simulate foraging process\n",
        "    while ((t_counter + h) <= time) {\n",
        "      if (harvest_counter == 0) {\n",
        "        # Get initial reward from a normal distribution\n",
        "        r <- rnorm(1, mean = mu, sd = sigma)\n",
        "        if (r > r_max) {\n",
        "          r <- r_max\n",
        "        }\n",
        "        t_counter <- t_counter + h\n",
        "        r_counter <- r_counter + r\n",
        "        harvest_counter <- harvest_counter + 1\n",
        "      } else {\n",
        "        # Calculate expected reward based on decay rate\n",
        "        Er <- E_kappa * r\n",
        "        if (Er < thresh) {\n",
        "          # If expected reward is below threshold, exit\n",
        "          t_counter <- t_counter + d\n",
        "          exit_harvest_counter <- c(exit_harvest_counter, harvest_counter)\n",
        "          exit_harvest_counter_i <- c(exit_harvest_counter_i, harvest_counter)\n",
        "          harvest_counter <- 0\n",
        "        } else {\n",
        "          # If expected reward is above threshold, continue harvesting\n",
        "          kappa <- rbeta(1, shape1 = a, shape2 = b)\n",
        "          r <- kappa * r\n",
        "          r_counter <- r_counter + r\n",
        "          t_counter <- t_counter + h\n",
        "          harvest_counter <- harvest_counter + 1\n",
        "        }\n",
        "      }\n",
        "    }\n",
        "    # Calculate average reward rate and number of exits\n",
        "    rho[i] <- r_counter / time\n",
        "    num_exit[i] <- length(exit_harvest_counter_i)\n",
        "  }\n",
        "\n",
        "  # Return results as a list\n",
        "  list(rho_mean = mean(rho),\n",
        "       n_harvest_mean = mean(exit_harvest_counter),\n",
        "       n_harvest_sd = sd(exit_harvest_counter),\n",
        "       n_exit_mean = mean(num_exit),\n",
        "       n_exit_sd = sd(num_exit))\n",
        "}"
      ]
    },
    {
      "cell_type": "markdown",
      "source": [
        "Now we are going to find the best threshold for the environment use in Experiment 1 of Bustamante et al. 2023. You can find the numbers reported in the paper in Supplementary Table S7."
      ],
      "metadata": {
        "id": "ACx5FFdI9iIV"
      }
    },
    {
      "cell_type": "code",
      "source": [
        "# call the optimal_threshold function with inputs: (d, h, mu, sigma, a, b, time)\n",
        "# d = travel time, h = harvest time; start reward, normal distribution: mu, sigma; decay, beta distribution: a, b, time = total orchard time\n",
        "result <- optimal_threshold(8.33, 2, 15, 1, 14.90873, 2.033008, 480)\n",
        "\n",
        "# Display the results\n",
        "print(paste(\"best exit threshold:\",\n",
        "            round(result$thresh,5)))\n",
        "print(paste(\"reward rate achieved:\",\n",
        "            round(result$rho,5)))\n",
        "print(paste(\"mean number of harvests before exit:\",\n",
        "            round(result$n_harvests_mean,5)))\n",
        "print(paste(\"sd number of harvests before exit:\",\n",
        "            round(result$n_harvests_sd,5)))\n",
        "print(paste(\"mean number of exits within simulation time:\",\n",
        "            round(result$n_exits_mean,5)))\n",
        "print(paste(\"sd number of exits within simulation time:\",\n",
        "            round(result$n_exits_sd,5)))"
      ],
      "metadata": {
        "id": "7A29BeDw9pZ_",
        "outputId": "6fd659cf-a4a5-416f-9cc1-b53f822bab13",
        "colab": {
          "base_uri": "https://localhost:8080/"
        }
      },
      "execution_count": null,
      "outputs": [
        {
          "output_type": "stream",
          "name": "stdout",
          "text": [
            "iteration 1 ...... threshold value = 6.420907 ...... average rho = 3.210454 \n",
            "iteration 2 ...... threshold value = 6.794896 ...... average rho = 3.397448 \n",
            "iteration 3 ...... threshold value = 6.80303 ...... average rho = 3.401515 \n",
            "iteration 4 ...... threshold value = 6.769229 ...... average rho = 3.384614 \n",
            "iteration 5 ...... threshold value = 6.780238 ...... average rho = 3.390119 \n",
            "iteration 6 ...... threshold value = 6.779861 ...... average rho = 3.38993 \n",
            "[1] \"best exit threshold: 6.77986\"\n",
            "[1] \"reward rate achieved: 3.38993\"\n",
            "[1] \"mean number of harvests before exit: 6.76228\"\n",
            "[1] \"sd number of harvests before exit: 1.63756\"\n",
            "[1] \"mean number of exits within simulation time: 21.79\"\n",
            "[1] \"sd number of exits within simulation time: 0.71305\"\n"
          ]
        }
      ]
    },
    {
      "cell_type": "markdown",
      "source": [
        "# Question 1: how will the best exit threshold change if you increase the average starting reward from 15 to 20 apples?\n",
        "Write code below to find out:"
      ],
      "metadata": {
        "id": "wBgNv8lX-DMT"
      }
    },
    {
      "cell_type": "code",
      "source": [
        "# Question 1, find the best exit threshold when the starting reward (mu) is set to 20 apples"
      ],
      "metadata": {
        "id": "aDKK5FAz-HLS"
      },
      "execution_count": null,
      "outputs": []
    },
    {
      "cell_type": "markdown",
      "source": [
        "# Question 2: Which parameters of the environment could you change to decrease the exit threshold?\n",
        " Confirm your predictions with code.\n"
      ],
      "metadata": {
        "id": "rY_J-32i-JUY"
      }
    },
    {
      "cell_type": "code",
      "source": [
        "# Question 2, starting from the environment used in Experiment 1\n",
        "# reference:\n",
        "# result <- optimal_threshold(8.33, 2, 15, 1, 14.90873, 2.033008, 480)\n",
        "# make as many changes as you can think of to decrease the best exit threshold"
      ],
      "metadata": {
        "id": "EEgXeRH3-MY0"
      },
      "execution_count": null,
      "outputs": []
    },
    {
      "cell_type": "markdown",
      "source": [
        "# Empirical patch foraging behavior in humans\n",
        "How do human participants forage compared to the optimal policy? We will look at behavior in Experiment 1 from the low effort conditions (cognitive and physical)"
      ],
      "metadata": {
        "id": "JgzTfDDj-P4W"
      }
    },
    {
      "cell_type": "code",
      "source": [
        "urlfile=\"https://raw.githubusercontent.com/laurabustamante/foraging_tutorial/main/choiceData_experiment_1.csv.zip\"\n",
        "download.file(urlfile, destfile = \"choiceData_experiment_1.csv.zip\")\n",
        "unzip(\"choiceData_experiment_1.csv.zip\")\n",
        "choiceData_experiment_1 <- readr::read_csv(\"choiceData_experiment_1.csv\")\n",
        "head(choiceData_experiment_1)"
      ],
      "metadata": {
        "id": "XKKxfjn4DlxS",
        "outputId": "3d5c1cd8-af9a-432a-8cfc-aa0eb08d9815",
        "colab": {
          "base_uri": "https://localhost:8080/",
          "height": 567
        }
      },
      "execution_count": 6,
      "outputs": [
        {
          "output_type": "stream",
          "name": "stderr",
          "text": [
            "\u001b[1mRows: \u001b[22m\u001b[34m351028\u001b[39m \u001b[1mColumns: \u001b[22m\u001b[34m45\u001b[39m\n",
            "\u001b[36m──\u001b[39m \u001b[1mColumn specification\u001b[22m \u001b[36m────────────────────────────────────────────────────────\u001b[39m\n",
            "\u001b[1mDelimiter:\u001b[22m \",\"\n",
            "\u001b[31mchr\u001b[39m (12): trial_type, last_commit, first_travel_task, key_press, decision, t...\n",
            "\u001b[32mdbl\u001b[39m (32): trial_index, rt, order_num, round, round_duration, travel_duration...\n",
            "\u001b[33mlgl\u001b[39m  (1): is_missed\n",
            "\n",
            "\u001b[36mℹ\u001b[39m Use `spec()` to retrieve the full column specification for this data.\n",
            "\u001b[36mℹ\u001b[39m Specify the column types or set `show_col_types = FALSE` to quiet this message.\n"
          ]
        },
        {
          "output_type": "display_data",
          "data": {
            "text/html": [
              "<table class=\"dataframe\">\n",
              "<caption>A tibble: 6 × 45</caption>\n",
              "<thead>\n",
              "\t<tr><th scope=col>trial_type</th><th scope=col>trial_index</th><th scope=col>last_commit</th><th scope=col>first_travel_task</th><th scope=col>rt</th><th scope=col>key_press</th><th scope=col>decision</th><th scope=col>order_num</th><th scope=col>round</th><th scope=col>travel_task</th><th scope=col>⋯</th><th scope=col>second_last_reward</th><th scope=col>expectedReward</th><th scope=col>expectedReward_log</th><th scope=col>travelTask</th><th scope=col>n_harvest_periods</th><th scope=col>overall_round</th><th scope=col>MSIT_trial_type</th><th scope=col>isMatching</th><th scope=col>isSmall</th><th scope=col>subject_id</th></tr>\n",
              "\t<tr><th scope=col>&lt;chr&gt;</th><th scope=col>&lt;dbl&gt;</th><th scope=col>&lt;chr&gt;</th><th scope=col>&lt;chr&gt;</th><th scope=col>&lt;dbl&gt;</th><th scope=col>&lt;chr&gt;</th><th scope=col>&lt;chr&gt;</th><th scope=col>&lt;dbl&gt;</th><th scope=col>&lt;dbl&gt;</th><th scope=col>&lt;chr&gt;</th><th scope=col>⋯</th><th scope=col>&lt;dbl&gt;</th><th scope=col>&lt;dbl&gt;</th><th scope=col>&lt;dbl&gt;</th><th scope=col>&lt;chr&gt;</th><th scope=col>&lt;dbl&gt;</th><th scope=col>&lt;dbl&gt;</th><th scope=col>&lt;chr&gt;</th><th scope=col>&lt;dbl&gt;</th><th scope=col>&lt;dbl&gt;</th><th scope=col>&lt;chr&gt;</th></tr>\n",
              "</thead>\n",
              "<tbody>\n",
              "\t<tr><td>foraging</td><td>178</td><td>25b0467</td><td>button-pressing</td><td>347.3</td><td>downarrow </td><td>stay</td><td>8</td><td>1</td><td>bp</td><td>⋯</td><td> 5.421609</td><td> 2.385508</td><td>0.8694121</td><td>button-pressing</td><td>240</td><td>1</td><td>NA</td><td>NA</td><td>1</td><td>08aiu2bm6t15qij5826jxz50</td></tr>\n",
              "\t<tr><td>foraging</td><td>178</td><td>25b0467</td><td>button-pressing</td><td>329.1</td><td>downarrow </td><td>stay</td><td>8</td><td>1</td><td>bp</td><td>⋯</td><td> 0.000000</td><td>12.162508</td><td>2.4983581</td><td>button-pressing</td><td>240</td><td>1</td><td>NA</td><td>NA</td><td>1</td><td>08aiu2bm6t15qij5826jxz50</td></tr>\n",
              "\t<tr><td>foraging</td><td>178</td><td>25b0467</td><td>button-pressing</td><td>544.2</td><td>rightarrow</td><td>exit</td><td>8</td><td>1</td><td>bp</td><td>⋯</td><td>13.821032</td><td>11.557546</td><td>2.4473385</td><td>button-pressing</td><td>240</td><td>1</td><td>NA</td><td>NA</td><td>1</td><td>08aiu2bm6t15qij5826jxz50</td></tr>\n",
              "\t<tr><td>foraging</td><td>180</td><td>25b0467</td><td>button-pressing</td><td>378.9</td><td>downarrow </td><td>stay</td><td>8</td><td>1</td><td>bp</td><td>⋯</td><td>12.446117</td><td> 5.476291</td><td>1.7004281</td><td>button-pressing</td><td>240</td><td>1</td><td>NA</td><td>NA</td><td>1</td><td>08aiu2bm6t15qij5826jxz50</td></tr>\n",
              "\t<tr><td>foraging</td><td>180</td><td>25b0467</td><td>button-pressing</td><td>295.9</td><td>downarrow </td><td>stay</td><td>8</td><td>1</td><td>bp</td><td>⋯</td><td> 0.000000</td><td>12.083010</td><td>2.4918003</td><td>button-pressing</td><td>240</td><td>1</td><td>NA</td><td>NA</td><td>1</td><td>08aiu2bm6t15qij5826jxz50</td></tr>\n",
              "\t<tr><td>foraging</td><td>180</td><td>25b0467</td><td>button-pressing</td><td>308.4</td><td>downarrow </td><td>stay</td><td>8</td><td>1</td><td>bp</td><td>⋯</td><td>13.730693</td><td>11.127353</td><td>2.4094063</td><td>button-pressing</td><td>240</td><td>1</td><td>NA</td><td>NA</td><td>1</td><td>08aiu2bm6t15qij5826jxz50</td></tr>\n",
              "</tbody>\n",
              "</table>\n"
            ],
            "text/markdown": "\nA tibble: 6 × 45\n\n| trial_type &lt;chr&gt; | trial_index &lt;dbl&gt; | last_commit &lt;chr&gt; | first_travel_task &lt;chr&gt; | rt &lt;dbl&gt; | key_press &lt;chr&gt; | decision &lt;chr&gt; | order_num &lt;dbl&gt; | round &lt;dbl&gt; | travel_task &lt;chr&gt; | ⋯ ⋯ | second_last_reward &lt;dbl&gt; | expectedReward &lt;dbl&gt; | expectedReward_log &lt;dbl&gt; | travelTask &lt;chr&gt; | n_harvest_periods &lt;dbl&gt; | overall_round &lt;dbl&gt; | MSIT_trial_type &lt;chr&gt; | isMatching &lt;dbl&gt; | isSmall &lt;dbl&gt; | subject_id &lt;chr&gt; |\n|---|---|---|---|---|---|---|---|---|---|---|---|---|---|---|---|---|---|---|---|---|\n| foraging | 178 | 25b0467 | button-pressing | 347.3 | downarrow  | stay | 8 | 1 | bp | ⋯ |  5.421609 |  2.385508 | 0.8694121 | button-pressing | 240 | 1 | NA | NA | 1 | 08aiu2bm6t15qij5826jxz50 |\n| foraging | 178 | 25b0467 | button-pressing | 329.1 | downarrow  | stay | 8 | 1 | bp | ⋯ |  0.000000 | 12.162508 | 2.4983581 | button-pressing | 240 | 1 | NA | NA | 1 | 08aiu2bm6t15qij5826jxz50 |\n| foraging | 178 | 25b0467 | button-pressing | 544.2 | rightarrow | exit | 8 | 1 | bp | ⋯ | 13.821032 | 11.557546 | 2.4473385 | button-pressing | 240 | 1 | NA | NA | 1 | 08aiu2bm6t15qij5826jxz50 |\n| foraging | 180 | 25b0467 | button-pressing | 378.9 | downarrow  | stay | 8 | 1 | bp | ⋯ | 12.446117 |  5.476291 | 1.7004281 | button-pressing | 240 | 1 | NA | NA | 1 | 08aiu2bm6t15qij5826jxz50 |\n| foraging | 180 | 25b0467 | button-pressing | 295.9 | downarrow  | stay | 8 | 1 | bp | ⋯ |  0.000000 | 12.083010 | 2.4918003 | button-pressing | 240 | 1 | NA | NA | 1 | 08aiu2bm6t15qij5826jxz50 |\n| foraging | 180 | 25b0467 | button-pressing | 308.4 | downarrow  | stay | 8 | 1 | bp | ⋯ | 13.730693 | 11.127353 | 2.4094063 | button-pressing | 240 | 1 | NA | NA | 1 | 08aiu2bm6t15qij5826jxz50 |\n\n",
            "text/latex": "A tibble: 6 × 45\n\\begin{tabular}{lllllllllllllllllllll}\n trial\\_type & trial\\_index & last\\_commit & first\\_travel\\_task & rt & key\\_press & decision & order\\_num & round & travel\\_task & ⋯ & second\\_last\\_reward & expectedReward & expectedReward\\_log & travelTask & n\\_harvest\\_periods & overall\\_round & MSIT\\_trial\\_type & isMatching & isSmall & subject\\_id\\\\\n <chr> & <dbl> & <chr> & <chr> & <dbl> & <chr> & <chr> & <dbl> & <dbl> & <chr> & ⋯ & <dbl> & <dbl> & <dbl> & <chr> & <dbl> & <dbl> & <chr> & <dbl> & <dbl> & <chr>\\\\\n\\hline\n\t foraging & 178 & 25b0467 & button-pressing & 347.3 & downarrow  & stay & 8 & 1 & bp & ⋯ &  5.421609 &  2.385508 & 0.8694121 & button-pressing & 240 & 1 & NA & NA & 1 & 08aiu2bm6t15qij5826jxz50\\\\\n\t foraging & 178 & 25b0467 & button-pressing & 329.1 & downarrow  & stay & 8 & 1 & bp & ⋯ &  0.000000 & 12.162508 & 2.4983581 & button-pressing & 240 & 1 & NA & NA & 1 & 08aiu2bm6t15qij5826jxz50\\\\\n\t foraging & 178 & 25b0467 & button-pressing & 544.2 & rightarrow & exit & 8 & 1 & bp & ⋯ & 13.821032 & 11.557546 & 2.4473385 & button-pressing & 240 & 1 & NA & NA & 1 & 08aiu2bm6t15qij5826jxz50\\\\\n\t foraging & 180 & 25b0467 & button-pressing & 378.9 & downarrow  & stay & 8 & 1 & bp & ⋯ & 12.446117 &  5.476291 & 1.7004281 & button-pressing & 240 & 1 & NA & NA & 1 & 08aiu2bm6t15qij5826jxz50\\\\\n\t foraging & 180 & 25b0467 & button-pressing & 295.9 & downarrow  & stay & 8 & 1 & bp & ⋯ &  0.000000 & 12.083010 & 2.4918003 & button-pressing & 240 & 1 & NA & NA & 1 & 08aiu2bm6t15qij5826jxz50\\\\\n\t foraging & 180 & 25b0467 & button-pressing & 308.4 & downarrow  & stay & 8 & 1 & bp & ⋯ & 13.730693 & 11.127353 & 2.4094063 & button-pressing & 240 & 1 & NA & NA & 1 & 08aiu2bm6t15qij5826jxz50\\\\\n\\end{tabular}\n",
            "text/plain": [
              "  trial_type trial_index last_commit first_travel_task rt    key_press \n",
              "1 foraging   178         25b0467     button-pressing   347.3 downarrow \n",
              "2 foraging   178         25b0467     button-pressing   329.1 downarrow \n",
              "3 foraging   178         25b0467     button-pressing   544.2 rightarrow\n",
              "4 foraging   180         25b0467     button-pressing   378.9 downarrow \n",
              "5 foraging   180         25b0467     button-pressing   295.9 downarrow \n",
              "6 foraging   180         25b0467     button-pressing   308.4 downarrow \n",
              "  decision order_num round travel_task ⋯ second_last_reward expectedReward\n",
              "1 stay     8         1     bp          ⋯  5.421609           2.385508     \n",
              "2 stay     8         1     bp          ⋯  0.000000          12.162508     \n",
              "3 exit     8         1     bp          ⋯ 13.821032          11.557546     \n",
              "4 stay     8         1     bp          ⋯ 12.446117           5.476291     \n",
              "5 stay     8         1     bp          ⋯  0.000000          12.083010     \n",
              "6 stay     8         1     bp          ⋯ 13.730693          11.127353     \n",
              "  expectedReward_log travelTask      n_harvest_periods overall_round\n",
              "1 0.8694121          button-pressing 240               1            \n",
              "2 2.4983581          button-pressing 240               1            \n",
              "3 2.4473385          button-pressing 240               1            \n",
              "4 1.7004281          button-pressing 240               1            \n",
              "5 2.4918003          button-pressing 240               1            \n",
              "6 2.4094063          button-pressing 240               1            \n",
              "  MSIT_trial_type isMatching isSmall subject_id              \n",
              "1 NA              NA         1       08aiu2bm6t15qij5826jxz50\n",
              "2 NA              NA         1       08aiu2bm6t15qij5826jxz50\n",
              "3 NA              NA         1       08aiu2bm6t15qij5826jxz50\n",
              "4 NA              NA         1       08aiu2bm6t15qij5826jxz50\n",
              "5 NA              NA         1       08aiu2bm6t15qij5826jxz50\n",
              "6 NA              NA         1       08aiu2bm6t15qij5826jxz50"
            ]
          },
          "metadata": {}
        }
      ]
    },
    {
      "cell_type": "markdown",
      "source": [
        "## Individual differences in overall threshold\n",
        "\n",
        "In the observed data, we typically use linear mixed effects regression on the exit trials to estimate participants exit thresholds (given by the fixed+random effects). Below we extract the individual differences in exit threshold looking only at the low effort blocks, which are least confounded by effort."
      ],
      "metadata": {
        "id": "2Amq4gHf4JmG"
      }
    },
    {
      "cell_type": "code",
      "source": [
        "### Figure S2: Individual differences in overall threshold.\n",
        "lmer_threshold_subj_experiment_1 <- lmer(\n",
        "  'expectedReward ~ 1 + (1 | subject_id)',\n",
        "  data = choiceData_experiment_1 %>%\n",
        "    filter(decision == \"exit\",\n",
        "    effort_level == \"low\"))\n",
        "exit_threshold_subj_experiment_1 <- ranef(lmer_threshold_subj_experiment_1)$subject_id %>%\n",
        "  mutate(subject_id = row.names(.)) %>%\n",
        "  rename(threshold_subj = \"(Intercept)\") %>%\n",
        "  mutate(Threshold = threshold_subj + fixef(lmer_threshold_subj_experiment_1))\n",
        "threshold_subj_max <- max(max(exit_threshold_subj_experiment_1$Threshold))\n",
        "p_threshold_subj_experiment_1 <- ggplot(data = exit_threshold_subj_experiment_1) +\n",
        "  geom_histogram(aes(Threshold),\n",
        "                 binwidth = 0.5) +\n",
        "  labs(y = \"Number of Participants\",\n",
        "       x = \"Overall exit threshold (apples)\") +\n",
        "  scale_y_continuous(breaks = scales::breaks_pretty(n = 3)) +\n",
        "  scale_x_continuous(limits = c(0,\n",
        "                                threshold_subj_max),\n",
        "                     breaks = scales::breaks_pretty()) +\n",
        "  theme(text=element_text(size = 14,\n",
        "                          family = \"serif\"),\n",
        "        axis.text = element_text(size = 14),\n",
        "        panel.background = element_blank(),\n",
        "        panel.grid.major = element_line(size = 0.5,\n",
        "                                        linetype = 'solid',\n",
        "                                        colour = \"grey60\")) +\n",
        "  geom_vline(aes(xintercept = 6.78),\n",
        "             linetype = \"dashed\")\n",
        "print(p_threshold_subj_experiment_1)"
      ],
      "metadata": {
        "id": "2VPVRZUICpKE",
        "colab": {
          "base_uri": "https://localhost:8080/",
          "height": 524
        },
        "outputId": "5574c654-74fd-4d81-b7ee-e4e8318d205e"
      },
      "execution_count": 8,
      "outputs": [
        {
          "output_type": "stream",
          "name": "stderr",
          "text": [
            "Warning message:\n",
            "“\u001b[1m\u001b[22mThe `size` argument of `element_line()` is deprecated as of ggplot2 3.4.0.\n",
            "\u001b[36mℹ\u001b[39m Please use the `linewidth` argument instead.”\n",
            "Warning message:\n",
            "“\u001b[1m\u001b[22mRemoved 2 rows containing missing values (`geom_bar()`).”\n"
          ]
        },
        {
          "output_type": "display_data",
          "data": {
            "text/plain": [
              "plot without title"
            ],
            "image/png": "[encoded data removed]"
          },
          "metadata": {
            "image/png": {
              "width": 420,
              "height": 420
            }
          }
        }
      ]
    },
    {
      "cell_type": "markdown",
      "source": [
        "# Question 3: why some individuals have very low or high exit thresholds?\n",
        "There were large individual differences in foraging strategy!\n",
        "\n",
        "What reasons can you come up with for why some individuals have very high exit thresholds? Or very low thresholds? Can you think of any ways to test your account?"
      ],
      "metadata": {
        "id": "VU4x1RsVVoph"
      }
    },
    {
      "cell_type": "markdown",
      "source": [
        "## Recovering exit thresholds from simulated data\n",
        "Beyond examining the best threshold, we can simulate the observed distribution of thresholds across participants, and see how well we can recover them using the same method we do for observed data. The code below will generate simulated data for each participant based on their overall exit threshold estimated by regression.\n"
      ],
      "metadata": {
        "id": "gdBNEwT07mIL"
      }
    },
    {
      "cell_type": "code",
      "source": [
        "# Define the evaluate_threshold function\n",
        "simulate_data <- function(thresh, d, h, mu, sigma, a, b, time) {\n",
        "  # Initialize variables\n",
        "  r_max <- mu + 5\n",
        "  E_kappa <- a / (a + b)\n",
        "  # track observed choices and rewards\n",
        "  choices <- c()\n",
        "  rewards <- c()\n",
        "  kappas <- c()\n",
        "  harvest_counters <- c()\n",
        "  # Iterate for the specified amount of time\n",
        "  t_counter <- 0\n",
        "  r_counter <- 0\n",
        "  harvest_counter <- 0\n",
        "  # Simulate foraging process\n",
        "  while ((t_counter + h) <= time) {\n",
        "    if (harvest_counter == 0) {\n",
        "      # Get initial reward from a normal distribution\n",
        "      r <- rnorm(1, mean = mu, sd = sigma)\n",
        "      if (r > r_max) {\n",
        "        r <- r_max\n",
        "      }\n",
        "      t_counter <- t_counter + h\n",
        "      r_counter <- r_counter + r\n",
        "      harvest_counter <- harvest_counter + 1\n",
        "      choices <- c(choices, \"harvest\")\n",
        "      rewards <- c(rewards, r)\n",
        "      kappas <- c(kappas, NA)\n",
        "      harvest_counters <- c(harvest_counters, harvest_counter)\n",
        "    } else {\n",
        "      # Calculate expected reward based on decay rate\n",
        "      Er <- E_kappa * r\n",
        "      if (Er < thresh) {\n",
        "        # If expected reward is below threshold, exit\n",
        "        t_counter <- t_counter + d\n",
        "        harvest_counter <- 0\n",
        "        choices <- c(choices, \"exit\")\n",
        "        rewards <- c(rewards, 0)\n",
        "        kappas <- c(kappas, NA)\n",
        "      } else {\n",
        "        # If expected reward is above threshold, continue harvesting\n",
        "        kappa <- rbeta(1, shape1 = a, shape2 = b)\n",
        "        r <- kappa * r\n",
        "        r_counter <- r_counter + r\n",
        "        t_counter <- t_counter + h\n",
        "        harvest_counter <- harvest_counter + 1\n",
        "        kappas <- c(kappas, kappa)\n",
        "        choices <- c(choices, \"harvest\")\n",
        "        rewards <- c(rewards, r)\n",
        "      }\n",
        "      harvest_counters <- c(harvest_counters, harvest_counter)\n",
        "    }\n",
        "  }\n",
        "  # Calculate average reward rate and number of exits\n",
        "  data.frame(\n",
        "    decision = choices,\n",
        "    reward = rewards,\n",
        "    travel_duration = d,\n",
        "    choice_duration = h,\n",
        "    start_reward_mean = mu,\n",
        "    start_reward_sd = sigma,\n",
        "    depletion = kappas,\n",
        "    depletion_rate_mean = E_kappa,\n",
        "    depletion_rate_alpha = a,\n",
        "    depletion_rate_beta = b,\n",
        "    round_duration = time,\n",
        "    simulation_threshold = thresh,\n",
        "    harvest_counter = harvest_counters\n",
        "    );\n",
        "}\n",
        "\n",
        "choiceData_experiment_1_simulated <- c()\n",
        "for (s in 1:dim(exit_threshold_subj_experiment_1)[1]){\n",
        "  simulated_participant <- simulate_data(\n",
        "    exit_threshold_subj_experiment_1$Threshold[s], 8.33, 2, 15, 1, 14.90873, 2.033008, 480) %>%\n",
        "      mutate(subject_id = exit_threshold_subj_experiment_1$subject_id[s],\n",
        "            last_reward = lag(reward),\n",
        "            second_last_reward = lag(last_reward),\n",
        "            expectedReward = ((last_reward+second_last_reward)/2)*depletion_rate_mean,\n",
        "            expectedReward = ifelse(harvest_counter == 1,\n",
        "                                    last_reward*depletion_rate_mean,\n",
        "                                    expectedReward))\n",
        "  choiceData_experiment_1_simulated <- bind_rows(choiceData_experiment_1_simulated,\n",
        "                                      simulated_participant)\n",
        "}\n",
        "head(choiceData_experiment_1_simulated,25)\n"
      ],
      "metadata": {
        "colab": {
          "base_uri": "https://localhost:8080/",
          "height": 902
        },
        "id": "l7icy1hOv8cG",
        "outputId": "d34cc7f4-e8a9-467b-8a56-3ec89ec9aa29"
      },
      "execution_count": 9,
      "outputs": [
        {
          "output_type": "display_data",
          "data": {
            "text/html": [
              "<table class=\"dataframe\">\n",
              "<caption>A data.frame: 25 × 17</caption>\n",
              "<thead>\n",
              "\t<tr><th></th><th scope=col>decision</th><th scope=col>reward</th><th scope=col>travel_duration</th><th scope=col>choice_duration</th><th scope=col>start_reward_mean</th><th scope=col>start_reward_sd</th><th scope=col>depletion</th><th scope=col>depletion_rate_mean</th><th scope=col>depletion_rate_alpha</th><th scope=col>depletion_rate_beta</th><th scope=col>round_duration</th><th scope=col>simulation_threshold</th><th scope=col>harvest_counter</th><th scope=col>subject_id</th><th scope=col>last_reward</th><th scope=col>second_last_reward</th><th scope=col>expectedReward</th></tr>\n",
              "\t<tr><th></th><th scope=col>&lt;chr&gt;</th><th scope=col>&lt;dbl&gt;</th><th scope=col>&lt;dbl&gt;</th><th scope=col>&lt;dbl&gt;</th><th scope=col>&lt;dbl&gt;</th><th scope=col>&lt;dbl&gt;</th><th scope=col>&lt;dbl&gt;</th><th scope=col>&lt;dbl&gt;</th><th scope=col>&lt;dbl&gt;</th><th scope=col>&lt;dbl&gt;</th><th scope=col>&lt;dbl&gt;</th><th scope=col>&lt;dbl&gt;</th><th scope=col>&lt;dbl&gt;</th><th scope=col>&lt;chr&gt;</th><th scope=col>&lt;dbl&gt;</th><th scope=col>&lt;dbl&gt;</th><th scope=col>&lt;dbl&gt;</th></tr>\n",
              "</thead>\n",
              "<tbody>\n",
              "\t<tr><th scope=row>1</th><td>harvest</td><td>13.977389</td><td>8.33</td><td>2</td><td>15</td><td>1</td><td>       NA</td><td>0.88</td><td>14.90873</td><td>2.033008</td><td>480</td><td>8.157199</td><td>1</td><td>08aiu2bm6t15qij5826jxz50</td><td>       NA</td><td>       NA</td><td>       NA</td></tr>\n",
              "\t<tr><th scope=row>2</th><td>harvest</td><td>11.844424</td><td>8.33</td><td>2</td><td>15</td><td>1</td><td>0.8473989</td><td>0.88</td><td>14.90873</td><td>2.033008</td><td>480</td><td>8.157199</td><td>2</td><td>08aiu2bm6t15qij5826jxz50</td><td>13.977389</td><td>       NA</td><td>       NA</td></tr>\n",
              "\t<tr><th scope=row>3</th><td>harvest</td><td> 9.489083</td><td>8.33</td><td>2</td><td>15</td><td>1</td><td>0.8011435</td><td>0.88</td><td>14.90873</td><td>2.033008</td><td>480</td><td>8.157199</td><td>3</td><td>08aiu2bm6t15qij5826jxz50</td><td>11.844424</td><td>13.977389</td><td>11.361598</td></tr>\n",
              "\t<tr><th scope=row>4</th><td>harvest</td><td> 8.718919</td><td>8.33</td><td>2</td><td>15</td><td>1</td><td>0.9188368</td><td>0.88</td><td>14.90873</td><td>2.033008</td><td>480</td><td>8.157199</td><td>4</td><td>08aiu2bm6t15qij5826jxz50</td><td> 9.489083</td><td>11.844424</td><td> 9.386744</td></tr>\n",
              "\t<tr><th scope=row>5</th><td>exit   </td><td> 0.000000</td><td>8.33</td><td>2</td><td>15</td><td>1</td><td>       NA</td><td>0.88</td><td>14.90873</td><td>2.033008</td><td>480</td><td>8.157199</td><td>0</td><td>08aiu2bm6t15qij5826jxz50</td><td> 8.718919</td><td> 9.489083</td><td> 8.011521</td></tr>\n",
              "\t<tr><th scope=row>6</th><td>harvest</td><td>15.831131</td><td>8.33</td><td>2</td><td>15</td><td>1</td><td>       NA</td><td>0.88</td><td>14.90873</td><td>2.033008</td><td>480</td><td>8.157199</td><td>1</td><td>08aiu2bm6t15qij5826jxz50</td><td> 0.000000</td><td> 8.718919</td><td> 0.000000</td></tr>\n",
              "\t<tr><th scope=row>7</th><td>harvest</td><td>14.361260</td><td>8.33</td><td>2</td><td>15</td><td>1</td><td>0.9071531</td><td>0.88</td><td>14.90873</td><td>2.033008</td><td>480</td><td>8.157199</td><td>2</td><td>08aiu2bm6t15qij5826jxz50</td><td>15.831131</td><td> 0.000000</td><td> 6.965698</td></tr>\n",
              "\t<tr><th scope=row>8</th><td>harvest</td><td>10.954371</td><td>8.33</td><td>2</td><td>15</td><td>1</td><td>0.7627723</td><td>0.88</td><td>14.90873</td><td>2.033008</td><td>480</td><td>8.157199</td><td>3</td><td>08aiu2bm6t15qij5826jxz50</td><td>14.361260</td><td>15.831131</td><td>13.284652</td></tr>\n",
              "\t<tr><th scope=row>9</th><td>harvest</td><td> 8.750242</td><td>8.33</td><td>2</td><td>15</td><td>1</td><td>0.7987900</td><td>0.88</td><td>14.90873</td><td>2.033008</td><td>480</td><td>8.157199</td><td>4</td><td>08aiu2bm6t15qij5826jxz50</td><td>10.954371</td><td>14.361260</td><td>11.138878</td></tr>\n",
              "\t<tr><th scope=row>10</th><td>exit   </td><td> 0.000000</td><td>8.33</td><td>2</td><td>15</td><td>1</td><td>       NA</td><td>0.88</td><td>14.90873</td><td>2.033008</td><td>480</td><td>8.157199</td><td>0</td><td>08aiu2bm6t15qij5826jxz50</td><td> 8.750242</td><td>10.954371</td><td> 8.670030</td></tr>\n",
              "\t<tr><th scope=row>11</th><td>harvest</td><td>16.074715</td><td>8.33</td><td>2</td><td>15</td><td>1</td><td>       NA</td><td>0.88</td><td>14.90873</td><td>2.033008</td><td>480</td><td>8.157199</td><td>1</td><td>08aiu2bm6t15qij5826jxz50</td><td> 0.000000</td><td> 8.750242</td><td> 0.000000</td></tr>\n",
              "\t<tr><th scope=row>12</th><td>harvest</td><td>15.524890</td><td>8.33</td><td>2</td><td>15</td><td>1</td><td>0.9657956</td><td>0.88</td><td>14.90873</td><td>2.033008</td><td>480</td><td>8.157199</td><td>2</td><td>08aiu2bm6t15qij5826jxz50</td><td>16.074715</td><td> 0.000000</td><td> 7.072875</td></tr>\n",
              "\t<tr><th scope=row>13</th><td>harvest</td><td>13.128664</td><td>8.33</td><td>2</td><td>15</td><td>1</td><td>0.8456526</td><td>0.88</td><td>14.90873</td><td>2.033008</td><td>480</td><td>8.157199</td><td>3</td><td>08aiu2bm6t15qij5826jxz50</td><td>15.524890</td><td>16.074715</td><td>13.903827</td></tr>\n",
              "\t<tr><th scope=row>14</th><td>harvest</td><td>10.382572</td><td>8.33</td><td>2</td><td>15</td><td>1</td><td>0.7908324</td><td>0.88</td><td>14.90873</td><td>2.033008</td><td>480</td><td>8.157199</td><td>4</td><td>08aiu2bm6t15qij5826jxz50</td><td>13.128664</td><td>15.524890</td><td>12.607564</td></tr>\n",
              "\t<tr><th scope=row>15</th><td>harvest</td><td>10.174177</td><td>8.33</td><td>2</td><td>15</td><td>1</td><td>0.9799283</td><td>0.88</td><td>14.90873</td><td>2.033008</td><td>480</td><td>8.157199</td><td>5</td><td>08aiu2bm6t15qij5826jxz50</td><td>10.382572</td><td>13.128664</td><td>10.344945</td></tr>\n",
              "\t<tr><th scope=row>16</th><td>harvest</td><td> 8.801457</td><td>8.33</td><td>2</td><td>15</td><td>1</td><td>0.8650781</td><td>0.88</td><td>14.90873</td><td>2.033008</td><td>480</td><td>8.157199</td><td>6</td><td>08aiu2bm6t15qij5826jxz50</td><td>10.174177</td><td>10.382572</td><td> 9.044970</td></tr>\n",
              "\t<tr><th scope=row>17</th><td>exit   </td><td> 0.000000</td><td>8.33</td><td>2</td><td>15</td><td>1</td><td>       NA</td><td>0.88</td><td>14.90873</td><td>2.033008</td><td>480</td><td>8.157199</td><td>0</td><td>08aiu2bm6t15qij5826jxz50</td><td> 8.801457</td><td>10.174177</td><td> 8.349279</td></tr>\n",
              "\t<tr><th scope=row>18</th><td>harvest</td><td>16.235605</td><td>8.33</td><td>2</td><td>15</td><td>1</td><td>       NA</td><td>0.88</td><td>14.90873</td><td>2.033008</td><td>480</td><td>8.157199</td><td>1</td><td>08aiu2bm6t15qij5826jxz50</td><td> 0.000000</td><td> 8.801457</td><td> 0.000000</td></tr>\n",
              "\t<tr><th scope=row>19</th><td>harvest</td><td>14.542933</td><td>8.33</td><td>2</td><td>15</td><td>1</td><td>0.8957433</td><td>0.88</td><td>14.90873</td><td>2.033008</td><td>480</td><td>8.157199</td><td>2</td><td>08aiu2bm6t15qij5826jxz50</td><td>16.235605</td><td> 0.000000</td><td> 7.143666</td></tr>\n",
              "\t<tr><th scope=row>20</th><td>harvest</td><td>12.855730</td><td>8.33</td><td>2</td><td>15</td><td>1</td><td>0.8839847</td><td>0.88</td><td>14.90873</td><td>2.033008</td><td>480</td><td>8.157199</td><td>3</td><td>08aiu2bm6t15qij5826jxz50</td><td>14.542933</td><td>16.235605</td><td>13.542557</td></tr>\n",
              "\t<tr><th scope=row>21</th><td>harvest</td><td>12.006381</td><td>8.33</td><td>2</td><td>15</td><td>1</td><td>0.9339322</td><td>0.88</td><td>14.90873</td><td>2.033008</td><td>480</td><td>8.157199</td><td>4</td><td>08aiu2bm6t15qij5826jxz50</td><td>12.855730</td><td>14.542933</td><td>12.055412</td></tr>\n",
              "\t<tr><th scope=row>22</th><td>harvest</td><td>10.421594</td><td>8.33</td><td>2</td><td>15</td><td>1</td><td>0.8680046</td><td>0.88</td><td>14.90873</td><td>2.033008</td><td>480</td><td>8.157199</td><td>5</td><td>08aiu2bm6t15qij5826jxz50</td><td>12.006381</td><td>12.855730</td><td>10.939329</td></tr>\n",
              "\t<tr><th scope=row>23</th><td>harvest</td><td> 8.977156</td><td>8.33</td><td>2</td><td>15</td><td>1</td><td>0.8613995</td><td>0.88</td><td>14.90873</td><td>2.033008</td><td>480</td><td>8.157199</td><td>6</td><td>08aiu2bm6t15qij5826jxz50</td><td>10.421594</td><td>12.006381</td><td> 9.868309</td></tr>\n",
              "\t<tr><th scope=row>24</th><td>exit   </td><td> 0.000000</td><td>8.33</td><td>2</td><td>15</td><td>1</td><td>       NA</td><td>0.88</td><td>14.90873</td><td>2.033008</td><td>480</td><td>8.157199</td><td>0</td><td>08aiu2bm6t15qij5826jxz50</td><td> 8.977156</td><td>10.421594</td><td> 8.535451</td></tr>\n",
              "\t<tr><th scope=row>25</th><td>harvest</td><td>15.692020</td><td>8.33</td><td>2</td><td>15</td><td>1</td><td>       NA</td><td>0.88</td><td>14.90873</td><td>2.033008</td><td>480</td><td>8.157199</td><td>1</td><td>08aiu2bm6t15qij5826jxz50</td><td> 0.000000</td><td> 8.977156</td><td> 0.000000</td></tr>\n",
              "</tbody>\n",
              "</table>\n"
            ],
            "text/markdown": "\nA data.frame: 25 × 17\n\n| <!--/--> | decision &lt;chr&gt; | reward &lt;dbl&gt; | travel_duration &lt;dbl&gt; | choice_duration &lt;dbl&gt; | start_reward_mean &lt;dbl&gt; | start_reward_sd &lt;dbl&gt; | depletion &lt;dbl&gt; | depletion_rate_mean &lt;dbl&gt; | depletion_rate_alpha &lt;dbl&gt; | depletion_rate_beta &lt;dbl&gt; | round_duration &lt;dbl&gt; | simulation_threshold &lt;dbl&gt; | harvest_counter &lt;dbl&gt; | subject_id &lt;chr&gt; | last_reward &lt;dbl&gt; | second_last_reward &lt;dbl&gt; | expectedReward &lt;dbl&gt; |\n|---|---|---|---|---|---|---|---|---|---|---|---|---|---|---|---|---|---|\n| 1 | harvest | 13.977389 | 8.33 | 2 | 15 | 1 |        NA | 0.88 | 14.90873 | 2.033008 | 480 | 8.157199 | 1 | 08aiu2bm6t15qij5826jxz50 |        NA |        NA |        NA |\n| 2 | harvest | 11.844424 | 8.33 | 2 | 15 | 1 | 0.8473989 | 0.88 | 14.90873 | 2.033008 | 480 | 8.157199 | 2 | 08aiu2bm6t15qij5826jxz50 | 13.977389 |        NA |        NA |\n| 3 | harvest |  9.489083 | 8.33 | 2 | 15 | 1 | 0.8011435 | 0.88 | 14.90873 | 2.033008 | 480 | 8.157199 | 3 | 08aiu2bm6t15qij5826jxz50 | 11.844424 | 13.977389 | 11.361598 |\n| 4 | harvest |  8.718919 | 8.33 | 2 | 15 | 1 | 0.9188368 | 0.88 | 14.90873 | 2.033008 | 480 | 8.157199 | 4 | 08aiu2bm6t15qij5826jxz50 |  9.489083 | 11.844424 |  9.386744 |\n| 5 | exit    |  0.000000 | 8.33 | 2 | 15 | 1 |        NA | 0.88 | 14.90873 | 2.033008 | 480 | 8.157199 | 0 | 08aiu2bm6t15qij5826jxz50 |  8.718919 |  9.489083 |  8.011521 |\n| 6 | harvest | 15.831131 | 8.33 | 2 | 15 | 1 |        NA | 0.88 | 14.90873 | 2.033008 | 480 | 8.157199 | 1 | 08aiu2bm6t15qij5826jxz50 |  0.000000 |  8.718919 |  0.000000 |\n| 7 | harvest | 14.361260 | 8.33 | 2 | 15 | 1 | 0.9071531 | 0.88 | 14.90873 | 2.033008 | 480 | 8.157199 | 2 | 08aiu2bm6t15qij5826jxz50 | 15.831131 |  0.000000 |  6.965698 |\n| 8 | harvest | 10.954371 | 8.33 | 2 | 15 | 1 | 0.7627723 | 0.88 | 14.90873 | 2.033008 | 480 | 8.157199 | 3 | 08aiu2bm6t15qij5826jxz50 | 14.361260 | 15.831131 | 13.284652 |\n| 9 | harvest |  8.750242 | 8.33 | 2 | 15 | 1 | 0.7987900 | 0.88 | 14.90873 | 2.033008 | 480 | 8.157199 | 4 | 08aiu2bm6t15qij5826jxz50 | 10.954371 | 14.361260 | 11.138878 |\n| 10 | exit    |  0.000000 | 8.33 | 2 | 15 | 1 |        NA | 0.88 | 14.90873 | 2.033008 | 480 | 8.157199 | 0 | 08aiu2bm6t15qij5826jxz50 |  8.750242 | 10.954371 |  8.670030 |\n| 11 | harvest | 16.074715 | 8.33 | 2 | 15 | 1 |        NA | 0.88 | 14.90873 | 2.033008 | 480 | 8.157199 | 1 | 08aiu2bm6t15qij5826jxz50 |  0.000000 |  8.750242 |  0.000000 |\n| 12 | harvest | 15.524890 | 8.33 | 2 | 15 | 1 | 0.9657956 | 0.88 | 14.90873 | 2.033008 | 480 | 8.157199 | 2 | 08aiu2bm6t15qij5826jxz50 | 16.074715 |  0.000000 |  7.072875 |\n| 13 | harvest | 13.128664 | 8.33 | 2 | 15 | 1 | 0.8456526 | 0.88 | 14.90873 | 2.033008 | 480 | 8.157199 | 3 | 08aiu2bm6t15qij5826jxz50 | 15.524890 | 16.074715 | 13.903827 |\n| 14 | harvest | 10.382572 | 8.33 | 2 | 15 | 1 | 0.7908324 | 0.88 | 14.90873 | 2.033008 | 480 | 8.157199 | 4 | 08aiu2bm6t15qij5826jxz50 | 13.128664 | 15.524890 | 12.607564 |\n| 15 | harvest | 10.174177 | 8.33 | 2 | 15 | 1 | 0.9799283 | 0.88 | 14.90873 | 2.033008 | 480 | 8.157199 | 5 | 08aiu2bm6t15qij5826jxz50 | 10.382572 | 13.128664 | 10.344945 |\n| 16 | harvest |  8.801457 | 8.33 | 2 | 15 | 1 | 0.8650781 | 0.88 | 14.90873 | 2.033008 | 480 | 8.157199 | 6 | 08aiu2bm6t15qij5826jxz50 | 10.174177 | 10.382572 |  9.044970 |\n| 17 | exit    |  0.000000 | 8.33 | 2 | 15 | 1 |        NA | 0.88 | 14.90873 | 2.033008 | 480 | 8.157199 | 0 | 08aiu2bm6t15qij5826jxz50 |  8.801457 | 10.174177 |  8.349279 |\n| 18 | harvest | 16.235605 | 8.33 | 2 | 15 | 1 |        NA | 0.88 | 14.90873 | 2.033008 | 480 | 8.157199 | 1 | 08aiu2bm6t15qij5826jxz50 |  0.000000 |  8.801457 |  0.000000 |\n| 19 | harvest | 14.542933 | 8.33 | 2 | 15 | 1 | 0.8957433 | 0.88 | 14.90873 | 2.033008 | 480 | 8.157199 | 2 | 08aiu2bm6t15qij5826jxz50 | 16.235605 |  0.000000 |  7.143666 |\n| 20 | harvest | 12.855730 | 8.33 | 2 | 15 | 1 | 0.8839847 | 0.88 | 14.90873 | 2.033008 | 480 | 8.157199 | 3 | 08aiu2bm6t15qij5826jxz50 | 14.542933 | 16.235605 | 13.542557 |\n| 21 | harvest | 12.006381 | 8.33 | 2 | 15 | 1 | 0.9339322 | 0.88 | 14.90873 | 2.033008 | 480 | 8.157199 | 4 | 08aiu2bm6t15qij5826jxz50 | 12.855730 | 14.542933 | 12.055412 |\n| 22 | harvest | 10.421594 | 8.33 | 2 | 15 | 1 | 0.8680046 | 0.88 | 14.90873 | 2.033008 | 480 | 8.157199 | 5 | 08aiu2bm6t15qij5826jxz50 | 12.006381 | 12.855730 | 10.939329 |\n| 23 | harvest |  8.977156 | 8.33 | 2 | 15 | 1 | 0.8613995 | 0.88 | 14.90873 | 2.033008 | 480 | 8.157199 | 6 | 08aiu2bm6t15qij5826jxz50 | 10.421594 | 12.006381 |  9.868309 |\n| 24 | exit    |  0.000000 | 8.33 | 2 | 15 | 1 |        NA | 0.88 | 14.90873 | 2.033008 | 480 | 8.157199 | 0 | 08aiu2bm6t15qij5826jxz50 |  8.977156 | 10.421594 |  8.535451 |\n| 25 | harvest | 15.692020 | 8.33 | 2 | 15 | 1 |        NA | 0.88 | 14.90873 | 2.033008 | 480 | 8.157199 | 1 | 08aiu2bm6t15qij5826jxz50 |  0.000000 |  8.977156 |  0.000000 |\n\n",
            "text/latex": "A data.frame: 25 × 17\n\\begin{tabular}{r|lllllllllllllllll}\n  & decision & reward & travel\\_duration & choice\\_duration & start\\_reward\\_mean & start\\_reward\\_sd & depletion & depletion\\_rate\\_mean & depletion\\_rate\\_alpha & depletion\\_rate\\_beta & round\\_duration & simulation\\_threshold & harvest\\_counter & subject\\_id & last\\_reward & second\\_last\\_reward & expectedReward\\\\\n  & <chr> & <dbl> & <dbl> & <dbl> & <dbl> & <dbl> & <dbl> & <dbl> & <dbl> & <dbl> & <dbl> & <dbl> & <dbl> & <chr> & <dbl> & <dbl> & <dbl>\\\\\n\\hline\n\t1 & harvest & 13.977389 & 8.33 & 2 & 15 & 1 &        NA & 0.88 & 14.90873 & 2.033008 & 480 & 8.157199 & 1 & 08aiu2bm6t15qij5826jxz50 &        NA &        NA &        NA\\\\\n\t2 & harvest & 11.844424 & 8.33 & 2 & 15 & 1 & 0.8473989 & 0.88 & 14.90873 & 2.033008 & 480 & 8.157199 & 2 & 08aiu2bm6t15qij5826jxz50 & 13.977389 &        NA &        NA\\\\\n\t3 & harvest &  9.489083 & 8.33 & 2 & 15 & 1 & 0.8011435 & 0.88 & 14.90873 & 2.033008 & 480 & 8.157199 & 3 & 08aiu2bm6t15qij5826jxz50 & 11.844424 & 13.977389 & 11.361598\\\\\n\t4 & harvest &  8.718919 & 8.33 & 2 & 15 & 1 & 0.9188368 & 0.88 & 14.90873 & 2.033008 & 480 & 8.157199 & 4 & 08aiu2bm6t15qij5826jxz50 &  9.489083 & 11.844424 &  9.386744\\\\\n\t5 & exit    &  0.000000 & 8.33 & 2 & 15 & 1 &        NA & 0.88 & 14.90873 & 2.033008 & 480 & 8.157199 & 0 & 08aiu2bm6t15qij5826jxz50 &  8.718919 &  9.489083 &  8.011521\\\\\n\t6 & harvest & 15.831131 & 8.33 & 2 & 15 & 1 &        NA & 0.88 & 14.90873 & 2.033008 & 480 & 8.157199 & 1 & 08aiu2bm6t15qij5826jxz50 &  0.000000 &  8.718919 &  0.000000\\\\\n\t7 & harvest & 14.361260 & 8.33 & 2 & 15 & 1 & 0.9071531 & 0.88 & 14.90873 & 2.033008 & 480 & 8.157199 & 2 & 08aiu2bm6t15qij5826jxz50 & 15.831131 &  0.000000 &  6.965698\\\\\n\t8 & harvest & 10.954371 & 8.33 & 2 & 15 & 1 & 0.7627723 & 0.88 & 14.90873 & 2.033008 & 480 & 8.157199 & 3 & 08aiu2bm6t15qij5826jxz50 & 14.361260 & 15.831131 & 13.284652\\\\\n\t9 & harvest &  8.750242 & 8.33 & 2 & 15 & 1 & 0.7987900 & 0.88 & 14.90873 & 2.033008 & 480 & 8.157199 & 4 & 08aiu2bm6t15qij5826jxz50 & 10.954371 & 14.361260 & 11.138878\\\\\n\t10 & exit    &  0.000000 & 8.33 & 2 & 15 & 1 &        NA & 0.88 & 14.90873 & 2.033008 & 480 & 8.157199 & 0 & 08aiu2bm6t15qij5826jxz50 &  8.750242 & 10.954371 &  8.670030\\\\\n\t11 & harvest & 16.074715 & 8.33 & 2 & 15 & 1 &        NA & 0.88 & 14.90873 & 2.033008 & 480 & 8.157199 & 1 & 08aiu2bm6t15qij5826jxz50 &  0.000000 &  8.750242 &  0.000000\\\\\n\t12 & harvest & 15.524890 & 8.33 & 2 & 15 & 1 & 0.9657956 & 0.88 & 14.90873 & 2.033008 & 480 & 8.157199 & 2 & 08aiu2bm6t15qij5826jxz50 & 16.074715 &  0.000000 &  7.072875\\\\\n\t13 & harvest & 13.128664 & 8.33 & 2 & 15 & 1 & 0.8456526 & 0.88 & 14.90873 & 2.033008 & 480 & 8.157199 & 3 & 08aiu2bm6t15qij5826jxz50 & 15.524890 & 16.074715 & 13.903827\\\\\n\t14 & harvest & 10.382572 & 8.33 & 2 & 15 & 1 & 0.7908324 & 0.88 & 14.90873 & 2.033008 & 480 & 8.157199 & 4 & 08aiu2bm6t15qij5826jxz50 & 13.128664 & 15.524890 & 12.607564\\\\\n\t15 & harvest & 10.174177 & 8.33 & 2 & 15 & 1 & 0.9799283 & 0.88 & 14.90873 & 2.033008 & 480 & 8.157199 & 5 & 08aiu2bm6t15qij5826jxz50 & 10.382572 & 13.128664 & 10.344945\\\\\n\t16 & harvest &  8.801457 & 8.33 & 2 & 15 & 1 & 0.8650781 & 0.88 & 14.90873 & 2.033008 & 480 & 8.157199 & 6 & 08aiu2bm6t15qij5826jxz50 & 10.174177 & 10.382572 &  9.044970\\\\\n\t17 & exit    &  0.000000 & 8.33 & 2 & 15 & 1 &        NA & 0.88 & 14.90873 & 2.033008 & 480 & 8.157199 & 0 & 08aiu2bm6t15qij5826jxz50 &  8.801457 & 10.174177 &  8.349279\\\\\n\t18 & harvest & 16.235605 & 8.33 & 2 & 15 & 1 &        NA & 0.88 & 14.90873 & 2.033008 & 480 & 8.157199 & 1 & 08aiu2bm6t15qij5826jxz50 &  0.000000 &  8.801457 &  0.000000\\\\\n\t19 & harvest & 14.542933 & 8.33 & 2 & 15 & 1 & 0.8957433 & 0.88 & 14.90873 & 2.033008 & 480 & 8.157199 & 2 & 08aiu2bm6t15qij5826jxz50 & 16.235605 &  0.000000 &  7.143666\\\\\n\t20 & harvest & 12.855730 & 8.33 & 2 & 15 & 1 & 0.8839847 & 0.88 & 14.90873 & 2.033008 & 480 & 8.157199 & 3 & 08aiu2bm6t15qij5826jxz50 & 14.542933 & 16.235605 & 13.542557\\\\\n\t21 & harvest & 12.006381 & 8.33 & 2 & 15 & 1 & 0.9339322 & 0.88 & 14.90873 & 2.033008 & 480 & 8.157199 & 4 & 08aiu2bm6t15qij5826jxz50 & 12.855730 & 14.542933 & 12.055412\\\\\n\t22 & harvest & 10.421594 & 8.33 & 2 & 15 & 1 & 0.8680046 & 0.88 & 14.90873 & 2.033008 & 480 & 8.157199 & 5 & 08aiu2bm6t15qij5826jxz50 & 12.006381 & 12.855730 & 10.939329\\\\\n\t23 & harvest &  8.977156 & 8.33 & 2 & 15 & 1 & 0.8613995 & 0.88 & 14.90873 & 2.033008 & 480 & 8.157199 & 6 & 08aiu2bm6t15qij5826jxz50 & 10.421594 & 12.006381 &  9.868309\\\\\n\t24 & exit    &  0.000000 & 8.33 & 2 & 15 & 1 &        NA & 0.88 & 14.90873 & 2.033008 & 480 & 8.157199 & 0 & 08aiu2bm6t15qij5826jxz50 &  8.977156 & 10.421594 &  8.535451\\\\\n\t25 & harvest & 15.692020 & 8.33 & 2 & 15 & 1 &        NA & 0.88 & 14.90873 & 2.033008 & 480 & 8.157199 & 1 & 08aiu2bm6t15qij5826jxz50 &  0.000000 &  8.977156 &  0.000000\\\\\n\\end{tabular}\n",
            "text/plain": [
              "   decision reward    travel_duration choice_duration start_reward_mean\n",
              "1  harvest  13.977389 8.33            2               15               \n",
              "2  harvest  11.844424 8.33            2               15               \n",
              "3  harvest   9.489083 8.33            2               15               \n",
              "4  harvest   8.718919 8.33            2               15               \n",
              "5  exit      0.000000 8.33            2               15               \n",
              "6  harvest  15.831131 8.33            2               15               \n",
              "7  harvest  14.361260 8.33            2               15               \n",
              "8  harvest  10.954371 8.33            2               15               \n",
              "9  harvest   8.750242 8.33            2               15               \n",
              "10 exit      0.000000 8.33            2               15               \n",
              "11 harvest  16.074715 8.33            2               15               \n",
              "12 harvest  15.524890 8.33            2               15               \n",
              "13 harvest  13.128664 8.33            2               15               \n",
              "14 harvest  10.382572 8.33            2               15               \n",
              "15 harvest  10.174177 8.33            2               15               \n",
              "16 harvest   8.801457 8.33            2               15               \n",
              "17 exit      0.000000 8.33            2               15               \n",
              "18 harvest  16.235605 8.33            2               15               \n",
              "19 harvest  14.542933 8.33            2               15               \n",
              "20 harvest  12.855730 8.33            2               15               \n",
              "21 harvest  12.006381 8.33            2               15               \n",
              "22 harvest  10.421594 8.33            2               15               \n",
              "23 harvest   8.977156 8.33            2               15               \n",
              "24 exit      0.000000 8.33            2               15               \n",
              "25 harvest  15.692020 8.33            2               15               \n",
              "   start_reward_sd depletion depletion_rate_mean depletion_rate_alpha\n",
              "1  1                      NA 0.88                14.90873            \n",
              "2  1               0.8473989 0.88                14.90873            \n",
              "3  1               0.8011435 0.88                14.90873            \n",
              "4  1               0.9188368 0.88                14.90873            \n",
              "5  1                      NA 0.88                14.90873            \n",
              "6  1                      NA 0.88                14.90873            \n",
              "7  1               0.9071531 0.88                14.90873            \n",
              "8  1               0.7627723 0.88                14.90873            \n",
              "9  1               0.7987900 0.88                14.90873            \n",
              "10 1                      NA 0.88                14.90873            \n",
              "11 1                      NA 0.88                14.90873            \n",
              "12 1               0.9657956 0.88                14.90873            \n",
              "13 1               0.8456526 0.88                14.90873            \n",
              "14 1               0.7908324 0.88                14.90873            \n",
              "15 1               0.9799283 0.88                14.90873            \n",
              "16 1               0.8650781 0.88                14.90873            \n",
              "17 1                      NA 0.88                14.90873            \n",
              "18 1                      NA 0.88                14.90873            \n",
              "19 1               0.8957433 0.88                14.90873            \n",
              "20 1               0.8839847 0.88                14.90873            \n",
              "21 1               0.9339322 0.88                14.90873            \n",
              "22 1               0.8680046 0.88                14.90873            \n",
              "23 1               0.8613995 0.88                14.90873            \n",
              "24 1                      NA 0.88                14.90873            \n",
              "25 1                      NA 0.88                14.90873            \n",
              "   depletion_rate_beta round_duration simulation_threshold harvest_counter\n",
              "1  2.033008            480            8.157199             1              \n",
              "2  2.033008            480            8.157199             2              \n",
              "3  2.033008            480            8.157199             3              \n",
              "4  2.033008            480            8.157199             4              \n",
              "5  2.033008            480            8.157199             0              \n",
              "6  2.033008            480            8.157199             1              \n",
              "7  2.033008            480            8.157199             2              \n",
              "8  2.033008            480            8.157199             3              \n",
              "9  2.033008            480            8.157199             4              \n",
              "10 2.033008            480            8.157199             0              \n",
              "11 2.033008            480            8.157199             1              \n",
              "12 2.033008            480            8.157199             2              \n",
              "13 2.033008            480            8.157199             3              \n",
              "14 2.033008            480            8.157199             4              \n",
              "15 2.033008            480            8.157199             5              \n",
              "16 2.033008            480            8.157199             6              \n",
              "17 2.033008            480            8.157199             0              \n",
              "18 2.033008            480            8.157199             1              \n",
              "19 2.033008            480            8.157199             2              \n",
              "20 2.033008            480            8.157199             3              \n",
              "21 2.033008            480            8.157199             4              \n",
              "22 2.033008            480            8.157199             5              \n",
              "23 2.033008            480            8.157199             6              \n",
              "24 2.033008            480            8.157199             0              \n",
              "25 2.033008            480            8.157199             1              \n",
              "   subject_id               last_reward second_last_reward expectedReward\n",
              "1  08aiu2bm6t15qij5826jxz50        NA          NA                 NA     \n",
              "2  08aiu2bm6t15qij5826jxz50 13.977389          NA                 NA     \n",
              "3  08aiu2bm6t15qij5826jxz50 11.844424   13.977389          11.361598     \n",
              "4  08aiu2bm6t15qij5826jxz50  9.489083   11.844424           9.386744     \n",
              "5  08aiu2bm6t15qij5826jxz50  8.718919    9.489083           8.011521     \n",
              "6  08aiu2bm6t15qij5826jxz50  0.000000    8.718919           0.000000     \n",
              "7  08aiu2bm6t15qij5826jxz50 15.831131    0.000000           6.965698     \n",
              "8  08aiu2bm6t15qij5826jxz50 14.361260   15.831131          13.284652     \n",
              "9  08aiu2bm6t15qij5826jxz50 10.954371   14.361260          11.138878     \n",
              "10 08aiu2bm6t15qij5826jxz50  8.750242   10.954371           8.670030     \n",
              "11 08aiu2bm6t15qij5826jxz50  0.000000    8.750242           0.000000     \n",
              "12 08aiu2bm6t15qij5826jxz50 16.074715    0.000000           7.072875     \n",
              "13 08aiu2bm6t15qij5826jxz50 15.524890   16.074715          13.903827     \n",
              "14 08aiu2bm6t15qij5826jxz50 13.128664   15.524890          12.607564     \n",
              "15 08aiu2bm6t15qij5826jxz50 10.382572   13.128664          10.344945     \n",
              "16 08aiu2bm6t15qij5826jxz50 10.174177   10.382572           9.044970     \n",
              "17 08aiu2bm6t15qij5826jxz50  8.801457   10.174177           8.349279     \n",
              "18 08aiu2bm6t15qij5826jxz50  0.000000    8.801457           0.000000     \n",
              "19 08aiu2bm6t15qij5826jxz50 16.235605    0.000000           7.143666     \n",
              "20 08aiu2bm6t15qij5826jxz50 14.542933   16.235605          13.542557     \n",
              "21 08aiu2bm6t15qij5826jxz50 12.855730   14.542933          12.055412     \n",
              "22 08aiu2bm6t15qij5826jxz50 12.006381   12.855730          10.939329     \n",
              "23 08aiu2bm6t15qij5826jxz50 10.421594   12.006381           9.868309     \n",
              "24 08aiu2bm6t15qij5826jxz50  8.977156   10.421594           8.535451     \n",
              "25 08aiu2bm6t15qij5826jxz50  0.000000    8.977156           0.000000     "
            ]
          },
          "metadata": {}
        }
      ]
    },
    {
      "cell_type": "markdown",
      "source": [
        "Now that we have the simulated data, we will fit the same regression model and plot the individual differences in overall exit threshold.  "
      ],
      "metadata": {
        "id": "yxI1IdYu9w6V"
      }
    },
    {
      "cell_type": "code",
      "source": [
        "lmer_threshold_subj_experiment_1_simulated <- lmer(\n",
        "  'expectedReward ~ 1 + (1 | subject_id)',\n",
        "  data = choiceData_experiment_1_simulated %>%\n",
        "    filter(decision == \"exit\"))\n",
        "summary(lmer_threshold_subj_experiment_1_simulated)\n",
        "\n",
        "exit_threshold_subj_experiment_1_simulated <- ranef(lmer_threshold_subj_experiment_1_simulated)$subject_id %>%\n",
        "  mutate(subject_id = row.names(.)) %>%\n",
        "  rename(threshold_subj = \"(Intercept)\") %>%\n",
        "  mutate(Threshold = threshold_subj + fixef(lmer_threshold_subj_experiment_1_simulated))\n",
        "threshold_subj_max <- max(max(exit_threshold_subj_experiment_1_simulated$Threshold))\n",
        "p_threshold_subj_experiment_1_simulated <- ggplot(data = exit_threshold_subj_experiment_1_simulated) +\n",
        "  geom_histogram(aes(Threshold),\n",
        "                 binwidth = 0.5) +\n",
        "  labs(y = \"Number of Simulated Participants\",\n",
        "       x = \"Overall exit threshold (apples)\") +\n",
        "  scale_y_continuous(breaks = scales::breaks_pretty(n = 3)) +\n",
        "  scale_x_continuous(limits = c(0,\n",
        "                                threshold_subj_max),\n",
        "                     breaks = scales::breaks_pretty()) +\n",
        "  theme(text=element_text(size = 14,\n",
        "                          family = \"serif\"),\n",
        "        axis.text = element_text(size = 14),\n",
        "        panel.background = element_blank(),\n",
        "        panel.grid.major = element_line(size = 0.5,\n",
        "                                        linetype = 'solid',\n",
        "                                        colour = \"grey60\")) +\n",
        "  geom_vline(aes(xintercept = 6.78),\n",
        "             linetype = \"dashed\")\n",
        "print(p_threshold_subj_experiment_1_simulated)"
      ],
      "metadata": {
        "colab": {
          "base_uri": "https://localhost:8080/",
          "height": 802
        },
        "id": "NrQDnMbRzuca",
        "outputId": "1dfd28cd-1ed0-451c-a8a8-110030b5833a"
      },
      "execution_count": 12,
      "outputs": [
        {
          "output_type": "display_data",
          "data": {
            "text/plain": [
              "Linear mixed model fit by REML ['lmerMod']\n",
              "Formula: expectedReward ~ 1 + (1 | subject_id)\n",
              "   Data: choiceData_experiment_1_simulated %>% filter(decision == \"exit\")\n",
              "\n",
              "REML criterion at convergence: 32511.9\n",
              "\n",
              "Scaled residuals: \n",
              "    Min      1Q  Median      3Q     Max \n",
              "-6.6844 -0.2842 -0.0212  0.3070  4.7680 \n",
              "\n",
              "Random effects:\n",
              " Groups     Name        Variance Std.Dev.\n",
              " subject_id (Intercept) 6.3315   2.5162  \n",
              " Residual               0.7828   0.8848  \n",
              "Number of obs: 11479, groups:  subject_id, 537\n",
              "\n",
              "Fixed effects:\n",
              "            Estimate Std. Error t value\n",
              "(Intercept)   6.4049     0.1089    58.8"
            ]
          },
          "metadata": {}
        },
        {
          "output_type": "stream",
          "name": "stderr",
          "text": [
            "Warning message:\n",
            "“\u001b[1m\u001b[22mRemoved 2 rows containing missing values (`geom_bar()`).”\n"
          ]
        },
        {
          "output_type": "display_data",
          "data": {
            "text/plain": [
              "plot without title"
            ],
            "image/png": "[encoded data removed]"
          },
          "metadata": {
            "image/png": {
              "width": 420,
              "height": 420
            }
          }
        }
      ]
    },
    {
      "cell_type": "markdown",
      "source": [
        "The distribution looks quite similar! In the code below we can directly compare the true thresholds to the simulated thresholds."
      ],
      "metadata": {
        "id": "bc5nPPhk-RiH"
      }
    },
    {
      "cell_type": "code",
      "source": [
        "exit_threshold_compare_real_simulated <- exit_threshold_subj_experiment_1 %>%\n",
        "  select(subject_id,\n",
        "Threshold) %>%\n",
        "  full_join(exit_threshold_subj_experiment_1_simulated %>%\n",
        "  select(subject_id,\n",
        "Threshold_simulated = Threshold),\n",
        "by = \"subject_id\")\n",
        "head(exit_threshold_compare_real_simulated)\n",
        "\n",
        "ggplot(data = exit_threshold_compare_real_simulated,\n",
        "aes(x = Threshold,\n",
        "  y = Threshold_simulated)) +\n",
        "  geom_point() +\n",
        "  labs(y = \"Simulated exit threshold (apples)\",\n",
        "       x = \"Observed exit threshold (apples)\") +\n",
        "  theme(text=element_text(size = 14,\n",
        "                          family = \"serif\"),\n",
        "        axis.text = element_text(size = 14),\n",
        "        panel.background = element_blank(),\n",
        "        panel.grid.major = element_line(size = 0.5,\n",
        "                                        linetype = 'solid',\n",
        "                                        colour = \"grey60\")) +\n",
        "  geom_abline(aes(intercept = 0,\n",
        "                  slope = 1),\n",
        "             linetype = \"dashed\")"
      ],
      "metadata": {
        "colab": {
          "base_uri": "https://localhost:8080/",
          "height": 706
        },
        "id": "Y7llnq0d2o4-",
        "outputId": "1b7c55bf-fdcf-44fc-9c85-017b9b30753b"
      },
      "execution_count": 24,
      "outputs": [
        {
          "output_type": "display_data",
          "data": {
            "text/html": [
              "<table class=\"dataframe\">\n",
              "<caption>A data.frame: 6 × 3</caption>\n",
              "<thead>\n",
              "\t<tr><th></th><th scope=col>subject_id</th><th scope=col>Threshold</th><th scope=col>Threshold_simulated</th></tr>\n",
              "\t<tr><th></th><th scope=col>&lt;chr&gt;</th><th scope=col>&lt;dbl&gt;</th><th scope=col>&lt;dbl&gt;</th></tr>\n",
              "</thead>\n",
              "<tbody>\n",
              "\t<tr><th scope=row>1</th><td>08aiu2bm6t15qij5826jxz50</td><td>8.157199</td><td>8.200738</td></tr>\n",
              "\t<tr><th scope=row>2</th><td>09j932f828pn7h7bozp9mpnl</td><td>5.682763</td><td>5.650956</td></tr>\n",
              "\t<tr><th scope=row>3</th><td>0ax9htcbhfi3ncsospqzwjx2</td><td>8.781321</td><td>8.976749</td></tr>\n",
              "\t<tr><th scope=row>4</th><td>0e6zivqly335lojgb4c6606t</td><td>7.287457</td><td>7.245085</td></tr>\n",
              "\t<tr><th scope=row>5</th><td>0fawro1pivqnh4lem4ayf4o0</td><td>3.457076</td><td>3.515997</td></tr>\n",
              "\t<tr><th scope=row>6</th><td>0jru2culdqol34gpc90oigjn</td><td>7.270041</td><td>7.487507</td></tr>\n",
              "</tbody>\n",
              "</table>\n"
            ],
            "text/markdown": "\nA data.frame: 6 × 3\n\n| <!--/--> | subject_id &lt;chr&gt; | Threshold &lt;dbl&gt; | Threshold_simulated &lt;dbl&gt; |\n|---|---|---|---|\n| 1 | 08aiu2bm6t15qij5826jxz50 | 8.157199 | 8.200738 |\n| 2 | 09j932f828pn7h7bozp9mpnl | 5.682763 | 5.650956 |\n| 3 | 0ax9htcbhfi3ncsospqzwjx2 | 8.781321 | 8.976749 |\n| 4 | 0e6zivqly335lojgb4c6606t | 7.287457 | 7.245085 |\n| 5 | 0fawro1pivqnh4lem4ayf4o0 | 3.457076 | 3.515997 |\n| 6 | 0jru2culdqol34gpc90oigjn | 7.270041 | 7.487507 |\n\n",
            "text/latex": "A data.frame: 6 × 3\n\\begin{tabular}{r|lll}\n  & subject\\_id & Threshold & Threshold\\_simulated\\\\\n  & <chr> & <dbl> & <dbl>\\\\\n\\hline\n\t1 & 08aiu2bm6t15qij5826jxz50 & 8.157199 & 8.200738\\\\\n\t2 & 09j932f828pn7h7bozp9mpnl & 5.682763 & 5.650956\\\\\n\t3 & 0ax9htcbhfi3ncsospqzwjx2 & 8.781321 & 8.976749\\\\\n\t4 & 0e6zivqly335lojgb4c6606t & 7.287457 & 7.245085\\\\\n\t5 & 0fawro1pivqnh4lem4ayf4o0 & 3.457076 & 3.515997\\\\\n\t6 & 0jru2culdqol34gpc90oigjn & 7.270041 & 7.487507\\\\\n\\end{tabular}\n",
            "text/plain": [
              "  subject_id               Threshold Threshold_simulated\n",
              "1 08aiu2bm6t15qij5826jxz50 8.157199  8.200738           \n",
              "2 09j932f828pn7h7bozp9mpnl 5.682763  5.650956           \n",
              "3 0ax9htcbhfi3ncsospqzwjx2 8.781321  8.976749           \n",
              "4 0e6zivqly335lojgb4c6606t 7.287457  7.245085           \n",
              "5 0fawro1pivqnh4lem4ayf4o0 3.457076  3.515997           \n",
              "6 0jru2culdqol34gpc90oigjn 7.270041  7.487507           "
            ]
          },
          "metadata": {}
        },
        {
          "output_type": "display_data",
          "data": {
            "text/plain": [
              "plot without title"
            ],
            "image/png": "[encoded data removed]"
          },
          "metadata": {
            "image/png": {
              "width": 420,
              "height": 420
            }
          }
        }
      ]
    },
    {
      "cell_type": "markdown",
      "source": [
        "Recovery looks pretty good, except for very high exit thresholds. Can you think of any reasons this might be? Hint: patch decay is non-linear... Bonus exercise: repeat these steps but use the 'expectedReward_log' variable.  "
      ],
      "metadata": {
        "id": "xXwG7g0g-mcT"
      }
    },
    {
      "cell_type": "markdown",
      "source": [
        "# Effect of effort on foraging behavior\n",
        "\n",
        "Lastly, we are going to examine the effect of the effortful travel tasks on foraging behavior"
      ],
      "metadata": {
        "id": "-2sunib-v0XR"
      }
    },
    {
      "cell_type": "code",
      "source": [
        "### Figure S1: Group level exit thresholds by Experiment\n",
        "threshold_by_effort_type_subj_experiment_1 <- choiceData_experiment_1 %>%\n",
        "  filter(decision == \"exit\") %>%\n",
        "  group_by(effort_level, travel_task, subject_id) %>%\n",
        "  summarise(Threshold = mean(expectedReward, na.rm = TRUE),\n",
        "            Threshold_sd = sd(expectedReward, na.rm = TRUE))\n",
        "\n",
        "threshold_by_effort_type_experiment_1 <- threshold_by_effort_type_subj_experiment_1 %>%\n",
        "  summarise(threshold = mean(Threshold, na.rm = TRUE),\n",
        "            nsubj = n(),\n",
        "            threshold_sem = sd(Threshold, na.rm = TRUE)/sqrt(nsubj)) %>%\n",
        "  mutate(threshold_sem = ifelse(is.na(threshold_sem), 0, threshold_sem),\n",
        "         block_str = case_when(effort_level == \"low\" & travel_task == \"msit\" ~\n",
        "                                 \"Cognitive, low\",\n",
        "                               effort_level == \"high\" & travel_task == \"msit\" ~\n",
        "                                 \"Cognitive, high\",\n",
        "                               effort_level == \"low\" & travel_task == \"bp\" ~\n",
        "                                 \"Physical, low\",\n",
        "                               effort_level == \"high\" & travel_task == \"bp\" ~\n",
        "                                 \"Physical, high\"),\n",
        "         block_str = factor(block_str,\n",
        "                            levels = c(\"Cognitive, low\",\n",
        "                                       \"Cognitive, high\",\n",
        "                                       \"Physical, low\",\n",
        "                                       \"Physical, high\")),\n",
        "         experiment = \"Experiment 1\")\n",
        "\n",
        "threshold_max <- max(threshold_by_effort_type_experiment_1$threshold +\n",
        "                    threshold_by_effort_type_experiment_1$threshold_sem) + 0.5\n",
        "\n",
        "p_threshold_experiment_1 <- ggplot(data = threshold_by_effort_type_experiment_1) +\n",
        "  geom_bar(aes(x = block_str,\n",
        "               y = threshold,\n",
        "               fill = effort_level),\n",
        "           stat = \"identity\",\n",
        "           position = position_dodge(),\n",
        "           width = 0.6,\n",
        "           size = 2) +\n",
        "  geom_hline(aes(yintercept = 6.78),\n",
        "             linetype = \"dashed\") +\n",
        "  scale_fill_manual(values=c(\"grey30\",\n",
        "                             \"grey50\")) +\n",
        "      geom_errorbar(aes(x = block_str,\n",
        "                      ymax = threshold + threshold_sem,\n",
        "                      ymin = threshold - threshold_sem),\n",
        "                      width = 0,\n",
        "                      size = 1,\n",
        "                      position = position_dodge(width=0.1),\n",
        "                      color = \"black\") +\n",
        "  labs(title = \"Experiment 1 (MSIT)\",\n",
        "       y = \"Group mean exit threshold (apples)\",\n",
        "       fill = \"Effort level\",\n",
        "       tags = \"A\") +\n",
        "  theme(text=element_text(size = 14,\n",
        "                          family = \"serif\"),\n",
        "        axis.text.y = element_text(size = 14),\n",
        "        axis.text.x = element_text(size = 12,\n",
        "                                   angle = 45,\n",
        "                                   vjust = 1,\n",
        "                                   hjust = 1.1),\n",
        "        axis.title.x = element_blank(),\n",
        "        legend.position = \"none\",\n",
        "        panel.background = element_blank(),\n",
        "        panel.grid.major.x = element_blank(),\n",
        "        panel.grid.major.y = element_line(size = 0.5,\n",
        "                                        linetype = 'solid',\n",
        "                                        colour = \"grey60\")) +\n",
        "  scale_y_continuous(limits = c(0, threshold_max),\n",
        "                     breaks = scales::breaks_pretty())\n",
        "print(p_threshold_experiment_1)"
      ],
      "metadata": {
        "colab": {
          "base_uri": "https://localhost:8080/",
          "height": 506
        },
        "id": "-0RKL12zvy7l",
        "outputId": "70329d4b-0286-455c-a87d-4e0bd7290d48"
      },
      "execution_count": 15,
      "outputs": [
        {
          "output_type": "stream",
          "name": "stderr",
          "text": [
            "\u001b[1m\u001b[22m`summarise()` has grouped output by 'effort_level', 'travel_task'. You can\n",
            "override using the `.groups` argument.\n",
            "\u001b[1m\u001b[22m`summarise()` has grouped output by 'effort_level'. You can override using the\n",
            "`.groups` argument.\n"
          ]
        },
        {
          "output_type": "display_data",
          "data": {
            "text/plain": [
              "plot without title"
            ],
            "image/png": "[encoded data removed]"
          },
          "metadata": {
            "image/png": {
              "width": 420,
              "height": 420
            }
          }
        }
      ]
    },
    {
      "cell_type": "markdown",
      "source": [
        "The prediction was that exit thresholds would be lower in high relative to low effort conditions, it does look like that is the case, but we can plot it more directly by taking the difference in exit thresholds per effort level, per participant."
      ],
      "metadata": {
        "id": "JbtsheNc_dCK"
      }
    },
    {
      "cell_type": "code",
      "source": [
        "### Figure 3: Change in exit thresholds by effort condition.\n",
        "# participant\n",
        "change_exit_threshold_participant_experiment_1 <- choiceData_experiment_1 %>%\n",
        "  filter(decision == \"exit\") %>%\n",
        "  group_by(subject_id, travel_task, effort_level) %>%\n",
        "  summarise(exit_threshold = mean(expectedReward, na.rm = TRUE)) %>%\n",
        "  pivot_wider(names_from = c(\"travel_task\",\n",
        "                             \"effort_level\"),\n",
        "              values_from = c(\"exit_threshold\")) %>%\n",
        "  mutate(change_exit_msit = msit_high - msit_low,\n",
        "         change_exit_bp = bp_high - bp_low) %>%\n",
        "  ungroup() %>%\n",
        "  select(subject_id,\n",
        "         change_exit_msit,\n",
        "         change_exit_bp) %>%\n",
        "  pivot_longer(-subject_id) %>%\n",
        "  mutate(effort_type = case_when(name == \"change_exit_msit\" ~ \"Cognitive (MSIT)\",\n",
        "                                 name == \"change_exit_bp\" ~ \"Physical\"),\n",
        "         effort_type = factor(effort_type,\n",
        "                              levels = c(\"Cognitive (MSIT)\",\n",
        "                                         \"Physical\")))\n",
        "change_exit_threshold_min <- min(change_exit_threshold_participant_experiment_1$value)\n",
        "change_exit_threshold_max <- max(change_exit_threshold_participant_experiment_1$value)\n",
        "\n",
        "# group\n",
        "nsubj_experiment_1 <- length(unique(choiceData_experiment_1$subject_id))\n",
        "change_exit_threshold_group_experiment_1 <- change_exit_threshold_participant_experiment_1 %>%\n",
        "  group_by(effort_type) %>%\n",
        "  summarise(change_threshold_group_mean = mean(value),\n",
        "            change_threshold_group_sem = sd(value)/sqrt(nsubj_experiment_1))\n",
        "change_threshold_group_min <- min(change_exit_threshold_group_experiment_1$change_threshold_group_mean -\n",
        "                         change_exit_threshold_group_experiment_1$change_threshold_group_sem)\n",
        "# plot\n",
        "p_change_exit_threshold_group_experiment_1 <- ggplot(\n",
        "  data = change_exit_threshold_group_experiment_1,\n",
        "       aes(y = change_threshold_group_mean, x = effort_type)) +\n",
        "  geom_bar(stat = \"identity\", position = position_dodge(width=0.9)) +\n",
        "  labs(y = \"Change exit threshold (high - low effort, apples)\",\n",
        "       tag = \"A\") +\n",
        "    geom_errorbar(aes(ymax = change_threshold_group_mean + change_threshold_group_sem,\n",
        "                    ymin= change_threshold_group_mean - change_threshold_group_sem),\n",
        "                  width = 0,\n",
        "                  size = 1,\n",
        "                  position = position_dodge(width=0.9),\n",
        "                  color = \"grey20\") +\n",
        "  geom_hline(yintercept = 0,\n",
        "             color = \"black\") +\n",
        "  scale_y_continuous(limits = c(change_threshold_group_min, 0),\n",
        "                     breaks = scales::breaks_pretty()) +\n",
        "  theme(text = element_text(size = 14,\n",
        "                            family = \"Times New Roman\"),\n",
        "        axis.text = element_text(size = 14),\n",
        "        axis.title.x = element_blank(),\n",
        "        panel.background = element_blank(),\n",
        "        panel.grid.major = element_line(size = 0.5,\n",
        "                                          linetype = 'solid',\n",
        "                                colour = \"grey60\"),\n",
        "        panel.grid.major.x = element_blank())\n",
        "print(p_change_exit_threshold_group_experiment_1)\n",
        "\n",
        "p_change_exit_threshold_participant_experiment_1 <- ggplot(\n",
        "  data = change_exit_threshold_participant_experiment_1) +\n",
        "  geom_histogram(aes(value),\n",
        "                 binwidth = 0.25) +\n",
        "  facet_wrap(~ effort_type,\n",
        "             ncol = 1) +\n",
        "  labs(y = \"Number of participants\",\n",
        "       x = \"Change exit threshold (high - low effort, apples)\",\n",
        "       tag = \"B\") +\n",
        "  scale_y_continuous(breaks = scales::breaks_pretty()) +\n",
        "  scale_x_continuous(limits = c(change_exit_threshold_min,\n",
        "                                change_exit_threshold_max),\n",
        "                     breaks = scales::breaks_pretty()) +\n",
        "  theme(text=element_text(size = 14,\n",
        "                          family = \"Times New Roman\"),\n",
        "        axis.text = element_text(size = 14),\n",
        "        panel.background = element_blank(),\n",
        "        panel.grid.major = element_line(size = 0.5,\n",
        "                                          linetype = 'solid',\n",
        "                                colour = \"grey60\")) +\n",
        "  geom_vline(xintercept = 0)\n",
        "print(p_change_exit_threshold_participant_experiment_1)"
      ],
      "metadata": {
        "id": "bB2ErWiyCRv3",
        "colab": {
          "base_uri": "https://localhost:8080/",
          "height": 926
        },
        "outputId": "17c87309-95f2-434e-ac77-240fb77bae66"
      },
      "execution_count": 16,
      "outputs": [
        {
          "output_type": "stream",
          "name": "stderr",
          "text": [
            "\u001b[1m\u001b[22m`summarise()` has grouped output by 'subject_id', 'travel_task'. You can\n",
            "override using the `.groups` argument.\n",
            "Warning message:\n",
            "“\u001b[1m\u001b[22mRemoved 4 rows containing missing values (`geom_bar()`).”\n"
          ]
        },
        {
          "output_type": "display_data",
          "data": {
            "text/plain": [
              "plot without title"
            ],
            "image/png": "[encoded data removed]"
          },
          "metadata": {
            "image/png": {
              "width": 420,
              "height": 420
            }
          }
        },
        {
          "output_type": "display_data",
          "data": {
            "text/plain": [
              "plot without title"
            ],
            "image/png": "[encoded data removed]"
          },
          "metadata": {
            "image/png": {
              "width": 420,
              "height": 420
            }
          }
        }
      ]
    },
    {
      "cell_type": "markdown",
      "source": [
        "# Question 4: positive values for change in exit threshold\n",
        "We predicted participants would have a lower exit threshold in the high versus low effort condition. Here we can see that some participants showed a higher exit threshold in the high relative to low effort condition. What hypotheses can you come up with for why participants did this? Can you think of an analysis you can do in this study to test your account? Is there an experiment you could design to test your hypothesis?"
      ],
      "metadata": {
        "id": "JEVwRlwdex5a"
      }
    },
    {
      "cell_type": "markdown",
      "source": [
        "#Question 5: How well can we recover the change in exit threshold?\n",
        "It seems like we can recover overall exit thresholds well, but to get the effect of effort on foraging behavior we have to be able to detect changes in exit thresholds. Next we will calculate the change in exit threshold from high to low cognitive effort and simulate it."
      ],
      "metadata": {
        "id": "Pb58Qa9ZBjVh"
      }
    },
    {
      "cell_type": "code",
      "source": [
        "# Extract the threshold for high and low effort for each participant,\n",
        "# simulate the data, and compare the change in exit threshold for the simulated versus empirical data.\n",
        "lmer_change_threshold_subj_experiment_1 <- lmer(\n",
        "  'expectedReward ~ 1 + isMatching + (1 + isMatching | subject_id)',\n",
        "  data = choiceData_experiment_1 %>%\n",
        "    filter(decision == \"exit\",\n",
        "           travelTask == \"MSIT\"))\n",
        "change_exit_threshold_subj_experiment_1 <- ranef(lmer_change_threshold_subj_experiment_1)$subject_id %>%\n",
        "  transmute(subject_id = row.names(.),\n",
        "         threshold_high_effort = `(Intercept)`+fixef(lmer_change_threshold_subj_experiment_1)[1],\n",
        "         threshold_change = isMatching+fixef(lmer_change_threshold_subj_experiment_1)[2],\n",
        "         threshold_low_effort = threshold_high_effort+threshold_change)\n",
        "head(change_exit_threshold_subj_experiment_1)\n",
        "\n",
        "choiceData_experiment_1_change_threshold_simulated <- c()\n",
        "for (s in 1:dim(change_exit_threshold_subj_experiment_1)[1]){\n",
        "  simulated_low_effort_participant <- simulate_data(\n",
        "    change_exit_threshold_subj_experiment_1$threshold_low_effort[s], 8.33, 2, 15, 1, 14.90873, 2.033008, 480) %>%\n",
        "      mutate(subject_id = change_exit_threshold_subj_experiment_1$subject_id[s],\n",
        "            last_reward = lag(reward),\n",
        "            second_last_reward = lag(last_reward),\n",
        "            expectedReward = ((last_reward+second_last_reward)/2)*depletion_rate_mean,\n",
        "            expectedReward = ifelse(harvest_counter == 1,\n",
        "                                    last_reward*depletion_rate_mean,\n",
        "                                    expectedReward),\n",
        "            isMatching = 1)\n",
        "  simulated_high_effort_participant <- simulate_data(\n",
        "    change_exit_threshold_subj_experiment_1$threshold_high_effort[s], 8.33, 2, 15, 1, 14.90873, 2.033008, 480) %>%\n",
        "      mutate(subject_id = change_exit_threshold_subj_experiment_1$subject_id[s],\n",
        "            last_reward = lag(reward),\n",
        "            second_last_reward = lag(last_reward),\n",
        "            expectedReward = ((last_reward+second_last_reward)/2)*depletion_rate_mean,\n",
        "            expectedReward = ifelse(harvest_counter == 1,\n",
        "                                    last_reward*depletion_rate_mean,\n",
        "                                    expectedReward),\n",
        "            isMatching = 0)\n",
        "  choiceData_experiment_1_change_threshold_simulated <- bind_rows(choiceData_experiment_1_change_threshold_simulated,\n",
        "                                      simulated_low_effort_participant) %>%\n",
        "                                        bind_rows(., simulated_high_effort_participant)\n",
        "}\n",
        "head(choiceData_experiment_1_change_threshold_simulated,25)"
      ],
      "metadata": {
        "colab": {
          "base_uri": "https://localhost:8080/",
          "height": 1000
        },
        "id": "Ch4o-u8TcXoz",
        "outputId": "46c014d4-175e-4206-f594-a195facb36f9"
      },
      "execution_count": 23,
      "outputs": [
        {
          "output_type": "display_data",
          "data": {
            "text/html": [
              "<table class=\"dataframe\">\n",
              "<caption>A data.frame: 6 × 4</caption>\n",
              "<thead>\n",
              "\t<tr><th></th><th scope=col>subject_id</th><th scope=col>threshold_high_effort</th><th scope=col>threshold_change</th><th scope=col>threshold_low_effort</th></tr>\n",
              "\t<tr><th></th><th scope=col>&lt;chr&gt;</th><th scope=col>&lt;dbl&gt;</th><th scope=col>&lt;dbl&gt;</th><th scope=col>&lt;dbl&gt;</th></tr>\n",
              "</thead>\n",
              "<tbody>\n",
              "\t<tr><th scope=row>08aiu2bm6t15qij5826jxz50</th><td>08aiu2bm6t15qij5826jxz50</td><td>7.525899</td><td>-0.43439470</td><td>7.091504</td></tr>\n",
              "\t<tr><th scope=row>09j932f828pn7h7bozp9mpnl</th><td>09j932f828pn7h7bozp9mpnl</td><td>4.384694</td><td> 0.81643559</td><td>5.201129</td></tr>\n",
              "\t<tr><th scope=row>0ax9htcbhfi3ncsospqzwjx2</th><td>0ax9htcbhfi3ncsospqzwjx2</td><td>8.401473</td><td> 0.27353324</td><td>8.675006</td></tr>\n",
              "\t<tr><th scope=row>0e6zivqly335lojgb4c6606t</th><td>0e6zivqly335lojgb4c6606t</td><td>7.414251</td><td>-0.13104155</td><td>7.283210</td></tr>\n",
              "\t<tr><th scope=row>0fawro1pivqnh4lem4ayf4o0</th><td>0fawro1pivqnh4lem4ayf4o0</td><td>2.747724</td><td> 0.89729533</td><td>3.645020</td></tr>\n",
              "\t<tr><th scope=row>0jru2culdqol34gpc90oigjn</th><td>0jru2culdqol34gpc90oigjn</td><td>7.499753</td><td>-0.04907372</td><td>7.450679</td></tr>\n",
              "</tbody>\n",
              "</table>\n"
            ],
            "text/markdown": "\nA data.frame: 6 × 4\n\n| <!--/--> | subject_id &lt;chr&gt; | threshold_high_effort &lt;dbl&gt; | threshold_change &lt;dbl&gt; | threshold_low_effort &lt;dbl&gt; |\n|---|---|---|---|---|\n| 08aiu2bm6t15qij5826jxz50 | 08aiu2bm6t15qij5826jxz50 | 7.525899 | -0.43439470 | 7.091504 |\n| 09j932f828pn7h7bozp9mpnl | 09j932f828pn7h7bozp9mpnl | 4.384694 |  0.81643559 | 5.201129 |\n| 0ax9htcbhfi3ncsospqzwjx2 | 0ax9htcbhfi3ncsospqzwjx2 | 8.401473 |  0.27353324 | 8.675006 |\n| 0e6zivqly335lojgb4c6606t | 0e6zivqly335lojgb4c6606t | 7.414251 | -0.13104155 | 7.283210 |\n| 0fawro1pivqnh4lem4ayf4o0 | 0fawro1pivqnh4lem4ayf4o0 | 2.747724 |  0.89729533 | 3.645020 |\n| 0jru2culdqol34gpc90oigjn | 0jru2culdqol34gpc90oigjn | 7.499753 | -0.04907372 | 7.450679 |\n\n",
            "text/latex": "A data.frame: 6 × 4\n\\begin{tabular}{r|llll}\n  & subject\\_id & threshold\\_high\\_effort & threshold\\_change & threshold\\_low\\_effort\\\\\n  & <chr> & <dbl> & <dbl> & <dbl>\\\\\n\\hline\n\t08aiu2bm6t15qij5826jxz50 & 08aiu2bm6t15qij5826jxz50 & 7.525899 & -0.43439470 & 7.091504\\\\\n\t09j932f828pn7h7bozp9mpnl & 09j932f828pn7h7bozp9mpnl & 4.384694 &  0.81643559 & 5.201129\\\\\n\t0ax9htcbhfi3ncsospqzwjx2 & 0ax9htcbhfi3ncsospqzwjx2 & 8.401473 &  0.27353324 & 8.675006\\\\\n\t0e6zivqly335lojgb4c6606t & 0e6zivqly335lojgb4c6606t & 7.414251 & -0.13104155 & 7.283210\\\\\n\t0fawro1pivqnh4lem4ayf4o0 & 0fawro1pivqnh4lem4ayf4o0 & 2.747724 &  0.89729533 & 3.645020\\\\\n\t0jru2culdqol34gpc90oigjn & 0jru2culdqol34gpc90oigjn & 7.499753 & -0.04907372 & 7.450679\\\\\n\\end{tabular}\n",
            "text/plain": [
              "                         subject_id               threshold_high_effort\n",
              "08aiu2bm6t15qij5826jxz50 08aiu2bm6t15qij5826jxz50 7.525899             \n",
              "09j932f828pn7h7bozp9mpnl 09j932f828pn7h7bozp9mpnl 4.384694             \n",
              "0ax9htcbhfi3ncsospqzwjx2 0ax9htcbhfi3ncsospqzwjx2 8.401473             \n",
              "0e6zivqly335lojgb4c6606t 0e6zivqly335lojgb4c6606t 7.414251             \n",
              "0fawro1pivqnh4lem4ayf4o0 0fawro1pivqnh4lem4ayf4o0 2.747724             \n",
              "0jru2culdqol34gpc90oigjn 0jru2culdqol34gpc90oigjn 7.499753             \n",
              "                         threshold_change threshold_low_effort\n",
              "08aiu2bm6t15qij5826jxz50 -0.43439470      7.091504            \n",
              "09j932f828pn7h7bozp9mpnl  0.81643559      5.201129            \n",
              "0ax9htcbhfi3ncsospqzwjx2  0.27353324      8.675006            \n",
              "0e6zivqly335lojgb4c6606t -0.13104155      7.283210            \n",
              "0fawro1pivqnh4lem4ayf4o0  0.89729533      3.645020            \n",
              "0jru2culdqol34gpc90oigjn -0.04907372      7.450679            "
            ]
          },
          "metadata": {}
        },
        {
          "output_type": "display_data",
          "data": {
            "text/html": [
              "<table class=\"dataframe\">\n",
              "<caption>A data.frame: 25 × 18</caption>\n",
              "<thead>\n",
              "\t<tr><th></th><th scope=col>decision</th><th scope=col>reward</th><th scope=col>travel_duration</th><th scope=col>choice_duration</th><th scope=col>start_reward_mean</th><th scope=col>start_reward_sd</th><th scope=col>depletion</th><th scope=col>depletion_rate_mean</th><th scope=col>depletion_rate_alpha</th><th scope=col>depletion_rate_beta</th><th scope=col>round_duration</th><th scope=col>simulation_threshold</th><th scope=col>harvest_counter</th><th scope=col>subject_id</th><th scope=col>last_reward</th><th scope=col>second_last_reward</th><th scope=col>expectedReward</th><th scope=col>isMatching</th></tr>\n",
              "\t<tr><th></th><th scope=col>&lt;chr&gt;</th><th scope=col>&lt;dbl&gt;</th><th scope=col>&lt;dbl&gt;</th><th scope=col>&lt;dbl&gt;</th><th scope=col>&lt;dbl&gt;</th><th scope=col>&lt;dbl&gt;</th><th scope=col>&lt;dbl&gt;</th><th scope=col>&lt;dbl&gt;</th><th scope=col>&lt;dbl&gt;</th><th scope=col>&lt;dbl&gt;</th><th scope=col>&lt;dbl&gt;</th><th scope=col>&lt;dbl&gt;</th><th scope=col>&lt;dbl&gt;</th><th scope=col>&lt;chr&gt;</th><th scope=col>&lt;dbl&gt;</th><th scope=col>&lt;dbl&gt;</th><th scope=col>&lt;dbl&gt;</th><th scope=col>&lt;dbl&gt;</th></tr>\n",
              "</thead>\n",
              "<tbody>\n",
              "\t<tr><th scope=row>1</th><td>harvest</td><td>14.527316</td><td>8.33</td><td>2</td><td>15</td><td>1</td><td>       NA</td><td>0.88</td><td>14.90873</td><td>2.033008</td><td>480</td><td>7.091504</td><td>1</td><td>08aiu2bm6t15qij5826jxz50</td><td>       NA</td><td>       NA</td><td>       NA</td><td>1</td></tr>\n",
              "\t<tr><th scope=row>2</th><td>harvest</td><td>13.134710</td><td>8.33</td><td>2</td><td>15</td><td>1</td><td>0.9041388</td><td>0.88</td><td>14.90873</td><td>2.033008</td><td>480</td><td>7.091504</td><td>2</td><td>08aiu2bm6t15qij5826jxz50</td><td>14.527316</td><td>       NA</td><td>       NA</td><td>1</td></tr>\n",
              "\t<tr><th scope=row>3</th><td>harvest</td><td>12.587041</td><td>8.33</td><td>2</td><td>15</td><td>1</td><td>0.9583037</td><td>0.88</td><td>14.90873</td><td>2.033008</td><td>480</td><td>7.091504</td><td>3</td><td>08aiu2bm6t15qij5826jxz50</td><td>13.134710</td><td>14.527316</td><td>12.171292</td><td>1</td></tr>\n",
              "\t<tr><th scope=row>4</th><td>harvest</td><td> 9.850392</td><td>8.33</td><td>2</td><td>15</td><td>1</td><td>0.7825820</td><td>0.88</td><td>14.90873</td><td>2.033008</td><td>480</td><td>7.091504</td><td>4</td><td>08aiu2bm6t15qij5826jxz50</td><td>12.587041</td><td>13.134710</td><td>11.317571</td><td>1</td></tr>\n",
              "\t<tr><th scope=row>5</th><td>harvest</td><td> 9.330708</td><td>8.33</td><td>2</td><td>15</td><td>1</td><td>0.9472423</td><td>0.88</td><td>14.90873</td><td>2.033008</td><td>480</td><td>7.091504</td><td>5</td><td>08aiu2bm6t15qij5826jxz50</td><td> 9.850392</td><td>12.587041</td><td> 9.872471</td><td>1</td></tr>\n",
              "\t<tr><th scope=row>6</th><td>harvest</td><td> 9.039895</td><td>8.33</td><td>2</td><td>15</td><td>1</td><td>0.9688326</td><td>0.88</td><td>14.90873</td><td>2.033008</td><td>480</td><td>7.091504</td><td>6</td><td>08aiu2bm6t15qij5826jxz50</td><td> 9.330708</td><td> 9.850392</td><td> 8.439685</td><td>1</td></tr>\n",
              "\t<tr><th scope=row>7</th><td>harvest</td><td> 8.434851</td><td>8.33</td><td>2</td><td>15</td><td>1</td><td>0.9330696</td><td>0.88</td><td>14.90873</td><td>2.033008</td><td>480</td><td>7.091504</td><td>7</td><td>08aiu2bm6t15qij5826jxz50</td><td> 9.039895</td><td> 9.330708</td><td> 8.083066</td><td>1</td></tr>\n",
              "\t<tr><th scope=row>8</th><td>harvest</td><td> 7.790638</td><td>8.33</td><td>2</td><td>15</td><td>1</td><td>0.9236248</td><td>0.88</td><td>14.90873</td><td>2.033008</td><td>480</td><td>7.091504</td><td>8</td><td>08aiu2bm6t15qij5826jxz50</td><td> 8.434851</td><td> 9.039895</td><td> 7.688888</td><td>1</td></tr>\n",
              "\t<tr><th scope=row>9</th><td>exit   </td><td> 0.000000</td><td>8.33</td><td>2</td><td>15</td><td>1</td><td>       NA</td><td>0.88</td><td>14.90873</td><td>2.033008</td><td>480</td><td>7.091504</td><td>0</td><td>08aiu2bm6t15qij5826jxz50</td><td> 7.790638</td><td> 8.434851</td><td> 7.139216</td><td>1</td></tr>\n",
              "\t<tr><th scope=row>10</th><td>harvest</td><td>15.430444</td><td>8.33</td><td>2</td><td>15</td><td>1</td><td>       NA</td><td>0.88</td><td>14.90873</td><td>2.033008</td><td>480</td><td>7.091504</td><td>1</td><td>08aiu2bm6t15qij5826jxz50</td><td> 0.000000</td><td> 7.790638</td><td> 0.000000</td><td>1</td></tr>\n",
              "\t<tr><th scope=row>11</th><td>harvest</td><td>14.984905</td><td>8.33</td><td>2</td><td>15</td><td>1</td><td>0.9711260</td><td>0.88</td><td>14.90873</td><td>2.033008</td><td>480</td><td>7.091504</td><td>2</td><td>08aiu2bm6t15qij5826jxz50</td><td>15.430444</td><td> 0.000000</td><td> 6.789396</td><td>1</td></tr>\n",
              "\t<tr><th scope=row>12</th><td>harvest</td><td>11.360689</td><td>8.33</td><td>2</td><td>15</td><td>1</td><td>0.7581422</td><td>0.88</td><td>14.90873</td><td>2.033008</td><td>480</td><td>7.091504</td><td>3</td><td>08aiu2bm6t15qij5826jxz50</td><td>14.984905</td><td>15.430444</td><td>13.382754</td><td>1</td></tr>\n",
              "\t<tr><th scope=row>13</th><td>harvest</td><td> 9.497033</td><td>8.33</td><td>2</td><td>15</td><td>1</td><td>0.8359557</td><td>0.88</td><td>14.90873</td><td>2.033008</td><td>480</td><td>7.091504</td><td>4</td><td>08aiu2bm6t15qij5826jxz50</td><td>11.360689</td><td>14.984905</td><td>11.592062</td><td>1</td></tr>\n",
              "\t<tr><th scope=row>14</th><td>harvest</td><td> 7.724227</td><td>8.33</td><td>2</td><td>15</td><td>1</td><td>0.8133305</td><td>0.88</td><td>14.90873</td><td>2.033008</td><td>480</td><td>7.091504</td><td>5</td><td>08aiu2bm6t15qij5826jxz50</td><td> 9.497033</td><td>11.360689</td><td> 9.177398</td><td>1</td></tr>\n",
              "\t<tr><th scope=row>15</th><td>exit   </td><td> 0.000000</td><td>8.33</td><td>2</td><td>15</td><td>1</td><td>       NA</td><td>0.88</td><td>14.90873</td><td>2.033008</td><td>480</td><td>7.091504</td><td>0</td><td>08aiu2bm6t15qij5826jxz50</td><td> 7.724227</td><td> 9.497033</td><td> 7.577355</td><td>1</td></tr>\n",
              "\t<tr><th scope=row>16</th><td>harvest</td><td>14.773481</td><td>8.33</td><td>2</td><td>15</td><td>1</td><td>       NA</td><td>0.88</td><td>14.90873</td><td>2.033008</td><td>480</td><td>7.091504</td><td>1</td><td>08aiu2bm6t15qij5826jxz50</td><td> 0.000000</td><td> 7.724227</td><td> 0.000000</td><td>1</td></tr>\n",
              "\t<tr><th scope=row>17</th><td>harvest</td><td>13.413726</td><td>8.33</td><td>2</td><td>15</td><td>1</td><td>0.9079597</td><td>0.88</td><td>14.90873</td><td>2.033008</td><td>480</td><td>7.091504</td><td>2</td><td>08aiu2bm6t15qij5826jxz50</td><td>14.773481</td><td> 0.000000</td><td> 6.500332</td><td>1</td></tr>\n",
              "\t<tr><th scope=row>18</th><td>harvest</td><td>11.966388</td><td>8.33</td><td>2</td><td>15</td><td>1</td><td>0.8921002</td><td>0.88</td><td>14.90873</td><td>2.033008</td><td>480</td><td>7.091504</td><td>3</td><td>08aiu2bm6t15qij5826jxz50</td><td>13.413726</td><td>14.773481</td><td>12.402372</td><td>1</td></tr>\n",
              "\t<tr><th scope=row>19</th><td>harvest</td><td> 8.257853</td><td>8.33</td><td>2</td><td>15</td><td>1</td><td>0.6900874</td><td>0.88</td><td>14.90873</td><td>2.033008</td><td>480</td><td>7.091504</td><td>4</td><td>08aiu2bm6t15qij5826jxz50</td><td>11.966388</td><td>13.413726</td><td>11.167251</td><td>1</td></tr>\n",
              "\t<tr><th scope=row>20</th><td>harvest</td><td> 7.624230</td><td>8.33</td><td>2</td><td>15</td><td>1</td><td>0.9232703</td><td>0.88</td><td>14.90873</td><td>2.033008</td><td>480</td><td>7.091504</td><td>5</td><td>08aiu2bm6t15qij5826jxz50</td><td> 8.257853</td><td>11.966388</td><td> 8.898667</td><td>1</td></tr>\n",
              "\t<tr><th scope=row>21</th><td>exit   </td><td> 0.000000</td><td>8.33</td><td>2</td><td>15</td><td>1</td><td>       NA</td><td>0.88</td><td>14.90873</td><td>2.033008</td><td>480</td><td>7.091504</td><td>0</td><td>08aiu2bm6t15qij5826jxz50</td><td> 7.624230</td><td> 8.257853</td><td> 6.988117</td><td>1</td></tr>\n",
              "\t<tr><th scope=row>22</th><td>harvest</td><td>14.515419</td><td>8.33</td><td>2</td><td>15</td><td>1</td><td>       NA</td><td>0.88</td><td>14.90873</td><td>2.033008</td><td>480</td><td>7.091504</td><td>1</td><td>08aiu2bm6t15qij5826jxz50</td><td> 0.000000</td><td> 7.624230</td><td> 0.000000</td><td>1</td></tr>\n",
              "\t<tr><th scope=row>23</th><td>harvest</td><td>12.350477</td><td>8.33</td><td>2</td><td>15</td><td>1</td><td>0.8508523</td><td>0.88</td><td>14.90873</td><td>2.033008</td><td>480</td><td>7.091504</td><td>2</td><td>08aiu2bm6t15qij5826jxz50</td><td>14.515419</td><td> 0.000000</td><td> 6.386785</td><td>1</td></tr>\n",
              "\t<tr><th scope=row>24</th><td>harvest</td><td>11.441241</td><td>8.33</td><td>2</td><td>15</td><td>1</td><td>0.9263805</td><td>0.88</td><td>14.90873</td><td>2.033008</td><td>480</td><td>7.091504</td><td>3</td><td>08aiu2bm6t15qij5826jxz50</td><td>12.350477</td><td>14.515419</td><td>11.820995</td><td>1</td></tr>\n",
              "\t<tr><th scope=row>25</th><td>harvest</td><td>10.866218</td><td>8.33</td><td>2</td><td>15</td><td>1</td><td>0.9497413</td><td>0.88</td><td>14.90873</td><td>2.033008</td><td>480</td><td>7.091504</td><td>4</td><td>08aiu2bm6t15qij5826jxz50</td><td>11.441241</td><td>12.350477</td><td>10.468356</td><td>1</td></tr>\n",
              "</tbody>\n",
              "</table>\n"
            ],
            "text/markdown": "\nA data.frame: 25 × 18\n\n| <!--/--> | decision &lt;chr&gt; | reward &lt;dbl&gt; | travel_duration &lt;dbl&gt; | choice_duration &lt;dbl&gt; | start_reward_mean &lt;dbl&gt; | start_reward_sd &lt;dbl&gt; | depletion &lt;dbl&gt; | depletion_rate_mean &lt;dbl&gt; | depletion_rate_alpha &lt;dbl&gt; | depletion_rate_beta &lt;dbl&gt; | round_duration &lt;dbl&gt; | simulation_threshold &lt;dbl&gt; | harvest_counter &lt;dbl&gt; | subject_id &lt;chr&gt; | last_reward &lt;dbl&gt; | second_last_reward &lt;dbl&gt; | expectedReward &lt;dbl&gt; | isMatching &lt;dbl&gt; |\n|---|---|---|---|---|---|---|---|---|---|---|---|---|---|---|---|---|---|---|\n| 1 | harvest | 14.527316 | 8.33 | 2 | 15 | 1 |        NA | 0.88 | 14.90873 | 2.033008 | 480 | 7.091504 | 1 | 08aiu2bm6t15qij5826jxz50 |        NA |        NA |        NA | 1 |\n| 2 | harvest | 13.134710 | 8.33 | 2 | 15 | 1 | 0.9041388 | 0.88 | 14.90873 | 2.033008 | 480 | 7.091504 | 2 | 08aiu2bm6t15qij5826jxz50 | 14.527316 |        NA |        NA | 1 |\n| 3 | harvest | 12.587041 | 8.33 | 2 | 15 | 1 | 0.9583037 | 0.88 | 14.90873 | 2.033008 | 480 | 7.091504 | 3 | 08aiu2bm6t15qij5826jxz50 | 13.134710 | 14.527316 | 12.171292 | 1 |\n| 4 | harvest |  9.850392 | 8.33 | 2 | 15 | 1 | 0.7825820 | 0.88 | 14.90873 | 2.033008 | 480 | 7.091504 | 4 | 08aiu2bm6t15qij5826jxz50 | 12.587041 | 13.134710 | 11.317571 | 1 |\n| 5 | harvest |  9.330708 | 8.33 | 2 | 15 | 1 | 0.9472423 | 0.88 | 14.90873 | 2.033008 | 480 | 7.091504 | 5 | 08aiu2bm6t15qij5826jxz50 |  9.850392 | 12.587041 |  9.872471 | 1 |\n| 6 | harvest |  9.039895 | 8.33 | 2 | 15 | 1 | 0.9688326 | 0.88 | 14.90873 | 2.033008 | 480 | 7.091504 | 6 | 08aiu2bm6t15qij5826jxz50 |  9.330708 |  9.850392 |  8.439685 | 1 |\n| 7 | harvest |  8.434851 | 8.33 | 2 | 15 | 1 | 0.9330696 | 0.88 | 14.90873 | 2.033008 | 480 | 7.091504 | 7 | 08aiu2bm6t15qij5826jxz50 |  9.039895 |  9.330708 |  8.083066 | 1 |\n| 8 | harvest |  7.790638 | 8.33 | 2 | 15 | 1 | 0.9236248 | 0.88 | 14.90873 | 2.033008 | 480 | 7.091504 | 8 | 08aiu2bm6t15qij5826jxz50 |  8.434851 |  9.039895 |  7.688888 | 1 |\n| 9 | exit    |  0.000000 | 8.33 | 2 | 15 | 1 |        NA | 0.88 | 14.90873 | 2.033008 | 480 | 7.091504 | 0 | 08aiu2bm6t15qij5826jxz50 |  7.790638 |  8.434851 |  7.139216 | 1 |\n| 10 | harvest | 15.430444 | 8.33 | 2 | 15 | 1 |        NA | 0.88 | 14.90873 | 2.033008 | 480 | 7.091504 | 1 | 08aiu2bm6t15qij5826jxz50 |  0.000000 |  7.790638 |  0.000000 | 1 |\n| 11 | harvest | 14.984905 | 8.33 | 2 | 15 | 1 | 0.9711260 | 0.88 | 14.90873 | 2.033008 | 480 | 7.091504 | 2 | 08aiu2bm6t15qij5826jxz50 | 15.430444 |  0.000000 |  6.789396 | 1 |\n| 12 | harvest | 11.360689 | 8.33 | 2 | 15 | 1 | 0.7581422 | 0.88 | 14.90873 | 2.033008 | 480 | 7.091504 | 3 | 08aiu2bm6t15qij5826jxz50 | 14.984905 | 15.430444 | 13.382754 | 1 |\n| 13 | harvest |  9.497033 | 8.33 | 2 | 15 | 1 | 0.8359557 | 0.88 | 14.90873 | 2.033008 | 480 | 7.091504 | 4 | 08aiu2bm6t15qij5826jxz50 | 11.360689 | 14.984905 | 11.592062 | 1 |\n| 14 | harvest |  7.724227 | 8.33 | 2 | 15 | 1 | 0.8133305 | 0.88 | 14.90873 | 2.033008 | 480 | 7.091504 | 5 | 08aiu2bm6t15qij5826jxz50 |  9.497033 | 11.360689 |  9.177398 | 1 |\n| 15 | exit    |  0.000000 | 8.33 | 2 | 15 | 1 |        NA | 0.88 | 14.90873 | 2.033008 | 480 | 7.091504 | 0 | 08aiu2bm6t15qij5826jxz50 |  7.724227 |  9.497033 |  7.577355 | 1 |\n| 16 | harvest | 14.773481 | 8.33 | 2 | 15 | 1 |        NA | 0.88 | 14.90873 | 2.033008 | 480 | 7.091504 | 1 | 08aiu2bm6t15qij5826jxz50 |  0.000000 |  7.724227 |  0.000000 | 1 |\n| 17 | harvest | 13.413726 | 8.33 | 2 | 15 | 1 | 0.9079597 | 0.88 | 14.90873 | 2.033008 | 480 | 7.091504 | 2 | 08aiu2bm6t15qij5826jxz50 | 14.773481 |  0.000000 |  6.500332 | 1 |\n| 18 | harvest | 11.966388 | 8.33 | 2 | 15 | 1 | 0.8921002 | 0.88 | 14.90873 | 2.033008 | 480 | 7.091504 | 3 | 08aiu2bm6t15qij5826jxz50 | 13.413726 | 14.773481 | 12.402372 | 1 |\n| 19 | harvest |  8.257853 | 8.33 | 2 | 15 | 1 | 0.6900874 | 0.88 | 14.90873 | 2.033008 | 480 | 7.091504 | 4 | 08aiu2bm6t15qij5826jxz50 | 11.966388 | 13.413726 | 11.167251 | 1 |\n| 20 | harvest |  7.624230 | 8.33 | 2 | 15 | 1 | 0.9232703 | 0.88 | 14.90873 | 2.033008 | 480 | 7.091504 | 5 | 08aiu2bm6t15qij5826jxz50 |  8.257853 | 11.966388 |  8.898667 | 1 |\n| 21 | exit    |  0.000000 | 8.33 | 2 | 15 | 1 |        NA | 0.88 | 14.90873 | 2.033008 | 480 | 7.091504 | 0 | 08aiu2bm6t15qij5826jxz50 |  7.624230 |  8.257853 |  6.988117 | 1 |\n| 22 | harvest | 14.515419 | 8.33 | 2 | 15 | 1 |        NA | 0.88 | 14.90873 | 2.033008 | 480 | 7.091504 | 1 | 08aiu2bm6t15qij5826jxz50 |  0.000000 |  7.624230 |  0.000000 | 1 |\n| 23 | harvest | 12.350477 | 8.33 | 2 | 15 | 1 | 0.8508523 | 0.88 | 14.90873 | 2.033008 | 480 | 7.091504 | 2 | 08aiu2bm6t15qij5826jxz50 | 14.515419 |  0.000000 |  6.386785 | 1 |\n| 24 | harvest | 11.441241 | 8.33 | 2 | 15 | 1 | 0.9263805 | 0.88 | 14.90873 | 2.033008 | 480 | 7.091504 | 3 | 08aiu2bm6t15qij5826jxz50 | 12.350477 | 14.515419 | 11.820995 | 1 |\n| 25 | harvest | 10.866218 | 8.33 | 2 | 15 | 1 | 0.9497413 | 0.88 | 14.90873 | 2.033008 | 480 | 7.091504 | 4 | 08aiu2bm6t15qij5826jxz50 | 11.441241 | 12.350477 | 10.468356 | 1 |\n\n",
            "text/latex": "A data.frame: 25 × 18\n\\begin{tabular}{r|llllllllllllllllll}\n  & decision & reward & travel\\_duration & choice\\_duration & start\\_reward\\_mean & start\\_reward\\_sd & depletion & depletion\\_rate\\_mean & depletion\\_rate\\_alpha & depletion\\_rate\\_beta & round\\_duration & simulation\\_threshold & harvest\\_counter & subject\\_id & last\\_reward & second\\_last\\_reward & expectedReward & isMatching\\\\\n  & <chr> & <dbl> & <dbl> & <dbl> & <dbl> & <dbl> & <dbl> & <dbl> & <dbl> & <dbl> & <dbl> & <dbl> & <dbl> & <chr> & <dbl> & <dbl> & <dbl> & <dbl>\\\\\n\\hline\n\t1 & harvest & 14.527316 & 8.33 & 2 & 15 & 1 &        NA & 0.88 & 14.90873 & 2.033008 & 480 & 7.091504 & 1 & 08aiu2bm6t15qij5826jxz50 &        NA &        NA &        NA & 1\\\\\n\t2 & harvest & 13.134710 & 8.33 & 2 & 15 & 1 & 0.9041388 & 0.88 & 14.90873 & 2.033008 & 480 & 7.091504 & 2 & 08aiu2bm6t15qij5826jxz50 & 14.527316 &        NA &        NA & 1\\\\\n\t3 & harvest & 12.587041 & 8.33 & 2 & 15 & 1 & 0.9583037 & 0.88 & 14.90873 & 2.033008 & 480 & 7.091504 & 3 & 08aiu2bm6t15qij5826jxz50 & 13.134710 & 14.527316 & 12.171292 & 1\\\\\n\t4 & harvest &  9.850392 & 8.33 & 2 & 15 & 1 & 0.7825820 & 0.88 & 14.90873 & 2.033008 & 480 & 7.091504 & 4 & 08aiu2bm6t15qij5826jxz50 & 12.587041 & 13.134710 & 11.317571 & 1\\\\\n\t5 & harvest &  9.330708 & 8.33 & 2 & 15 & 1 & 0.9472423 & 0.88 & 14.90873 & 2.033008 & 480 & 7.091504 & 5 & 08aiu2bm6t15qij5826jxz50 &  9.850392 & 12.587041 &  9.872471 & 1\\\\\n\t6 & harvest &  9.039895 & 8.33 & 2 & 15 & 1 & 0.9688326 & 0.88 & 14.90873 & 2.033008 & 480 & 7.091504 & 6 & 08aiu2bm6t15qij5826jxz50 &  9.330708 &  9.850392 &  8.439685 & 1\\\\\n\t7 & harvest &  8.434851 & 8.33 & 2 & 15 & 1 & 0.9330696 & 0.88 & 14.90873 & 2.033008 & 480 & 7.091504 & 7 & 08aiu2bm6t15qij5826jxz50 &  9.039895 &  9.330708 &  8.083066 & 1\\\\\n\t8 & harvest &  7.790638 & 8.33 & 2 & 15 & 1 & 0.9236248 & 0.88 & 14.90873 & 2.033008 & 480 & 7.091504 & 8 & 08aiu2bm6t15qij5826jxz50 &  8.434851 &  9.039895 &  7.688888 & 1\\\\\n\t9 & exit    &  0.000000 & 8.33 & 2 & 15 & 1 &        NA & 0.88 & 14.90873 & 2.033008 & 480 & 7.091504 & 0 & 08aiu2bm6t15qij5826jxz50 &  7.790638 &  8.434851 &  7.139216 & 1\\\\\n\t10 & harvest & 15.430444 & 8.33 & 2 & 15 & 1 &        NA & 0.88 & 14.90873 & 2.033008 & 480 & 7.091504 & 1 & 08aiu2bm6t15qij5826jxz50 &  0.000000 &  7.790638 &  0.000000 & 1\\\\\n\t11 & harvest & 14.984905 & 8.33 & 2 & 15 & 1 & 0.9711260 & 0.88 & 14.90873 & 2.033008 & 480 & 7.091504 & 2 & 08aiu2bm6t15qij5826jxz50 & 15.430444 &  0.000000 &  6.789396 & 1\\\\\n\t12 & harvest & 11.360689 & 8.33 & 2 & 15 & 1 & 0.7581422 & 0.88 & 14.90873 & 2.033008 & 480 & 7.091504 & 3 & 08aiu2bm6t15qij5826jxz50 & 14.984905 & 15.430444 & 13.382754 & 1\\\\\n\t13 & harvest &  9.497033 & 8.33 & 2 & 15 & 1 & 0.8359557 & 0.88 & 14.90873 & 2.033008 & 480 & 7.091504 & 4 & 08aiu2bm6t15qij5826jxz50 & 11.360689 & 14.984905 & 11.592062 & 1\\\\\n\t14 & harvest &  7.724227 & 8.33 & 2 & 15 & 1 & 0.8133305 & 0.88 & 14.90873 & 2.033008 & 480 & 7.091504 & 5 & 08aiu2bm6t15qij5826jxz50 &  9.497033 & 11.360689 &  9.177398 & 1\\\\\n\t15 & exit    &  0.000000 & 8.33 & 2 & 15 & 1 &        NA & 0.88 & 14.90873 & 2.033008 & 480 & 7.091504 & 0 & 08aiu2bm6t15qij5826jxz50 &  7.724227 &  9.497033 &  7.577355 & 1\\\\\n\t16 & harvest & 14.773481 & 8.33 & 2 & 15 & 1 &        NA & 0.88 & 14.90873 & 2.033008 & 480 & 7.091504 & 1 & 08aiu2bm6t15qij5826jxz50 &  0.000000 &  7.724227 &  0.000000 & 1\\\\\n\t17 & harvest & 13.413726 & 8.33 & 2 & 15 & 1 & 0.9079597 & 0.88 & 14.90873 & 2.033008 & 480 & 7.091504 & 2 & 08aiu2bm6t15qij5826jxz50 & 14.773481 &  0.000000 &  6.500332 & 1\\\\\n\t18 & harvest & 11.966388 & 8.33 & 2 & 15 & 1 & 0.8921002 & 0.88 & 14.90873 & 2.033008 & 480 & 7.091504 & 3 & 08aiu2bm6t15qij5826jxz50 & 13.413726 & 14.773481 & 12.402372 & 1\\\\\n\t19 & harvest &  8.257853 & 8.33 & 2 & 15 & 1 & 0.6900874 & 0.88 & 14.90873 & 2.033008 & 480 & 7.091504 & 4 & 08aiu2bm6t15qij5826jxz50 & 11.966388 & 13.413726 & 11.167251 & 1\\\\\n\t20 & harvest &  7.624230 & 8.33 & 2 & 15 & 1 & 0.9232703 & 0.88 & 14.90873 & 2.033008 & 480 & 7.091504 & 5 & 08aiu2bm6t15qij5826jxz50 &  8.257853 & 11.966388 &  8.898667 & 1\\\\\n\t21 & exit    &  0.000000 & 8.33 & 2 & 15 & 1 &        NA & 0.88 & 14.90873 & 2.033008 & 480 & 7.091504 & 0 & 08aiu2bm6t15qij5826jxz50 &  7.624230 &  8.257853 &  6.988117 & 1\\\\\n\t22 & harvest & 14.515419 & 8.33 & 2 & 15 & 1 &        NA & 0.88 & 14.90873 & 2.033008 & 480 & 7.091504 & 1 & 08aiu2bm6t15qij5826jxz50 &  0.000000 &  7.624230 &  0.000000 & 1\\\\\n\t23 & harvest & 12.350477 & 8.33 & 2 & 15 & 1 & 0.8508523 & 0.88 & 14.90873 & 2.033008 & 480 & 7.091504 & 2 & 08aiu2bm6t15qij5826jxz50 & 14.515419 &  0.000000 &  6.386785 & 1\\\\\n\t24 & harvest & 11.441241 & 8.33 & 2 & 15 & 1 & 0.9263805 & 0.88 & 14.90873 & 2.033008 & 480 & 7.091504 & 3 & 08aiu2bm6t15qij5826jxz50 & 12.350477 & 14.515419 & 11.820995 & 1\\\\\n\t25 & harvest & 10.866218 & 8.33 & 2 & 15 & 1 & 0.9497413 & 0.88 & 14.90873 & 2.033008 & 480 & 7.091504 & 4 & 08aiu2bm6t15qij5826jxz50 & 11.441241 & 12.350477 & 10.468356 & 1\\\\\n\\end{tabular}\n",
            "text/plain": [
              "   decision reward    travel_duration choice_duration start_reward_mean\n",
              "1  harvest  14.527316 8.33            2               15               \n",
              "2  harvest  13.134710 8.33            2               15               \n",
              "3  harvest  12.587041 8.33            2               15               \n",
              "4  harvest   9.850392 8.33            2               15               \n",
              "5  harvest   9.330708 8.33            2               15               \n",
              "6  harvest   9.039895 8.33            2               15               \n",
              "7  harvest   8.434851 8.33            2               15               \n",
              "8  harvest   7.790638 8.33            2               15               \n",
              "9  exit      0.000000 8.33            2               15               \n",
              "10 harvest  15.430444 8.33            2               15               \n",
              "11 harvest  14.984905 8.33            2               15               \n",
              "12 harvest  11.360689 8.33            2               15               \n",
              "13 harvest   9.497033 8.33            2               15               \n",
              "14 harvest   7.724227 8.33            2               15               \n",
              "15 exit      0.000000 8.33            2               15               \n",
              "16 harvest  14.773481 8.33            2               15               \n",
              "17 harvest  13.413726 8.33            2               15               \n",
              "18 harvest  11.966388 8.33            2               15               \n",
              "19 harvest   8.257853 8.33            2               15               \n",
              "20 harvest   7.624230 8.33            2               15               \n",
              "21 exit      0.000000 8.33            2               15               \n",
              "22 harvest  14.515419 8.33            2               15               \n",
              "23 harvest  12.350477 8.33            2               15               \n",
              "24 harvest  11.441241 8.33            2               15               \n",
              "25 harvest  10.866218 8.33            2               15               \n",
              "   start_reward_sd depletion depletion_rate_mean depletion_rate_alpha\n",
              "1  1                      NA 0.88                14.90873            \n",
              "2  1               0.9041388 0.88                14.90873            \n",
              "3  1               0.9583037 0.88                14.90873            \n",
              "4  1               0.7825820 0.88                14.90873            \n",
              "5  1               0.9472423 0.88                14.90873            \n",
              "6  1               0.9688326 0.88                14.90873            \n",
              "7  1               0.9330696 0.88                14.90873            \n",
              "8  1               0.9236248 0.88                14.90873            \n",
              "9  1                      NA 0.88                14.90873            \n",
              "10 1                      NA 0.88                14.90873            \n",
              "11 1               0.9711260 0.88                14.90873            \n",
              "12 1               0.7581422 0.88                14.90873            \n",
              "13 1               0.8359557 0.88                14.90873            \n",
              "14 1               0.8133305 0.88                14.90873            \n",
              "15 1                      NA 0.88                14.90873            \n",
              "16 1                      NA 0.88                14.90873            \n",
              "17 1               0.9079597 0.88                14.90873            \n",
              "18 1               0.8921002 0.88                14.90873            \n",
              "19 1               0.6900874 0.88                14.90873            \n",
              "20 1               0.9232703 0.88                14.90873            \n",
              "21 1                      NA 0.88                14.90873            \n",
              "22 1                      NA 0.88                14.90873            \n",
              "23 1               0.8508523 0.88                14.90873            \n",
              "24 1               0.9263805 0.88                14.90873            \n",
              "25 1               0.9497413 0.88                14.90873            \n",
              "   depletion_rate_beta round_duration simulation_threshold harvest_counter\n",
              "1  2.033008            480            7.091504             1              \n",
              "2  2.033008            480            7.091504             2              \n",
              "3  2.033008            480            7.091504             3              \n",
              "4  2.033008            480            7.091504             4              \n",
              "5  2.033008            480            7.091504             5              \n",
              "6  2.033008            480            7.091504             6              \n",
              "7  2.033008            480            7.091504             7              \n",
              "8  2.033008            480            7.091504             8              \n",
              "9  2.033008            480            7.091504             0              \n",
              "10 2.033008            480            7.091504             1              \n",
              "11 2.033008            480            7.091504             2              \n",
              "12 2.033008            480            7.091504             3              \n",
              "13 2.033008            480            7.091504             4              \n",
              "14 2.033008            480            7.091504             5              \n",
              "15 2.033008            480            7.091504             0              \n",
              "16 2.033008            480            7.091504             1              \n",
              "17 2.033008            480            7.091504             2              \n",
              "18 2.033008            480            7.091504             3              \n",
              "19 2.033008            480            7.091504             4              \n",
              "20 2.033008            480            7.091504             5              \n",
              "21 2.033008            480            7.091504             0              \n",
              "22 2.033008            480            7.091504             1              \n",
              "23 2.033008            480            7.091504             2              \n",
              "24 2.033008            480            7.091504             3              \n",
              "25 2.033008            480            7.091504             4              \n",
              "   subject_id               last_reward second_last_reward expectedReward\n",
              "1  08aiu2bm6t15qij5826jxz50        NA          NA                 NA     \n",
              "2  08aiu2bm6t15qij5826jxz50 14.527316          NA                 NA     \n",
              "3  08aiu2bm6t15qij5826jxz50 13.134710   14.527316          12.171292     \n",
              "4  08aiu2bm6t15qij5826jxz50 12.587041   13.134710          11.317571     \n",
              "5  08aiu2bm6t15qij5826jxz50  9.850392   12.587041           9.872471     \n",
              "6  08aiu2bm6t15qij5826jxz50  9.330708    9.850392           8.439685     \n",
              "7  08aiu2bm6t15qij5826jxz50  9.039895    9.330708           8.083066     \n",
              "8  08aiu2bm6t15qij5826jxz50  8.434851    9.039895           7.688888     \n",
              "9  08aiu2bm6t15qij5826jxz50  7.790638    8.434851           7.139216     \n",
              "10 08aiu2bm6t15qij5826jxz50  0.000000    7.790638           0.000000     \n",
              "11 08aiu2bm6t15qij5826jxz50 15.430444    0.000000           6.789396     \n",
              "12 08aiu2bm6t15qij5826jxz50 14.984905   15.430444          13.382754     \n",
              "13 08aiu2bm6t15qij5826jxz50 11.360689   14.984905          11.592062     \n",
              "14 08aiu2bm6t15qij5826jxz50  9.497033   11.360689           9.177398     \n",
              "15 08aiu2bm6t15qij5826jxz50  7.724227    9.497033           7.577355     \n",
              "16 08aiu2bm6t15qij5826jxz50  0.000000    7.724227           0.000000     \n",
              "17 08aiu2bm6t15qij5826jxz50 14.773481    0.000000           6.500332     \n",
              "18 08aiu2bm6t15qij5826jxz50 13.413726   14.773481          12.402372     \n",
              "19 08aiu2bm6t15qij5826jxz50 11.966388   13.413726          11.167251     \n",
              "20 08aiu2bm6t15qij5826jxz50  8.257853   11.966388           8.898667     \n",
              "21 08aiu2bm6t15qij5826jxz50  7.624230    8.257853           6.988117     \n",
              "22 08aiu2bm6t15qij5826jxz50  0.000000    7.624230           0.000000     \n",
              "23 08aiu2bm6t15qij5826jxz50 14.515419    0.000000           6.386785     \n",
              "24 08aiu2bm6t15qij5826jxz50 12.350477   14.515419          11.820995     \n",
              "25 08aiu2bm6t15qij5826jxz50 11.441241   12.350477          10.468356     \n",
              "   isMatching\n",
              "1  1         \n",
              "2  1         \n",
              "3  1         \n",
              "4  1         \n",
              "5  1         \n",
              "6  1         \n",
              "7  1         \n",
              "8  1         \n",
              "9  1         \n",
              "10 1         \n",
              "11 1         \n",
              "12 1         \n",
              "13 1         \n",
              "14 1         \n",
              "15 1         \n",
              "16 1         \n",
              "17 1         \n",
              "18 1         \n",
              "19 1         \n",
              "20 1         \n",
              "21 1         \n",
              "22 1         \n",
              "23 1         \n",
              "24 1         \n",
              "25 1         "
            ]
          },
          "metadata": {}
        }
      ]
    },
    {
      "cell_type": "markdown",
      "source": [
        "How well can we recover the change in exit threshold? Write code to run the mixed effects regression on the simulated data, and plot the observed change in exit threshold against the simulated change in exit threshold."
      ],
      "metadata": {
        "id": "qGYAlxkmFqmh"
      }
    },
    {
      "cell_type": "code",
      "source": [
        "# ANSWER:\n",
        "lmer_change_threshold_subj_experiment_1_simulated <- lmer(\n",
        "  'expectedReward ~ 1 + isMatching + (1 + isMatching | subject_id)',\n",
        "  data = choiceData_experiment_1_change_threshold_simulated %>%\n",
        "    filter(decision == \"exit\"))\n",
        "change_exit_threshold_subj_experiment_1_simulated <- ranef(lmer_change_threshold_subj_experiment_1_simulated)$subject_id %>%\n",
        "  transmute(subject_id = row.names(.),\n",
        "         threshold_high_effort = `(Intercept)`+fixef(lmer_change_threshold_subj_experiment_1_simulated)[1],\n",
        "         threshold_change = isMatching+fixef(lmer_change_threshold_subj_experiment_1_simulated)[2],\n",
        "         threshold_low_effort = threshold_high_effort+threshold_change)\n",
        "head(change_exit_threshold_subj_experiment_1_simulated)\n",
        "\n",
        "change_exit_threshold_compare_real_simulated <- change_exit_threshold_subj_experiment_1 %>%\n",
        "  select(subject_id,\n",
        "         threshold_high_effort,\n",
        "         threshold_change) %>%\n",
        "  full_join(change_exit_threshold_subj_experiment_1_simulated %>%\n",
        "            select(subject_id,\n",
        "            threshold_high_effort_simulated = threshold_high_effort,\n",
        "            threshold_change_simulated = threshold_change),\n",
        "by = \"subject_id\")\n",
        "head(change_exit_threshold_compare_real_simulated)\n",
        "\n",
        "ggplot(data = change_exit_threshold_compare_real_simulated,\n",
        "aes(x = threshold_change,\n",
        "  y = threshold_change_simulated)) +\n",
        "  geom_point() +\n",
        "  labs(y = \"Simulated change exit threshold (apples)\",\n",
        "       x = \"Observed change exit threshold (apples)\") +\n",
        "  theme(text=element_text(size = 14,\n",
        "                          family = \"serif\"),\n",
        "        axis.text = element_text(size = 14),\n",
        "        panel.background = element_blank(),\n",
        "        panel.grid.major = element_line(size = 0.5,\n",
        "                                        linetype = 'solid',\n",
        "                                        colour = \"grey60\")) +\n",
        "  geom_abline(aes(intercept = 0,\n",
        "                  slope = 1),\n",
        "             linetype = \"dashed\")"
      ],
      "metadata": {
        "colab": {
          "base_uri": "https://localhost:8080/",
          "height": 975
        },
        "id": "zdvWMJTAjOtL",
        "outputId": "9536595d-bcbd-4298-fa35-1f28d9c5286f"
      },
      "execution_count": 25,
      "outputs": [
        {
          "output_type": "display_data",
          "data": {
            "text/html": [
              "<table class=\"dataframe\">\n",
              "<caption>A data.frame: 6 × 4</caption>\n",
              "<thead>\n",
              "\t<tr><th></th><th scope=col>subject_id</th><th scope=col>threshold_high_effort</th><th scope=col>threshold_change</th><th scope=col>threshold_low_effort</th></tr>\n",
              "\t<tr><th></th><th scope=col>&lt;chr&gt;</th><th scope=col>&lt;dbl&gt;</th><th scope=col>&lt;dbl&gt;</th><th scope=col>&lt;dbl&gt;</th></tr>\n",
              "</thead>\n",
              "<tbody>\n",
              "\t<tr><th scope=row>08aiu2bm6t15qij5826jxz50</th><td>08aiu2bm6t15qij5826jxz50</td><td>7.439586</td><td>-0.28729232</td><td>7.152294</td></tr>\n",
              "\t<tr><th scope=row>09j932f828pn7h7bozp9mpnl</th><td>09j932f828pn7h7bozp9mpnl</td><td>4.576419</td><td> 0.75803724</td><td>5.334456</td></tr>\n",
              "\t<tr><th scope=row>0ax9htcbhfi3ncsospqzwjx2</th><td>0ax9htcbhfi3ncsospqzwjx2</td><td>8.415570</td><td> 0.28923513</td><td>8.704805</td></tr>\n",
              "\t<tr><th scope=row>0e6zivqly335lojgb4c6606t</th><td>0e6zivqly335lojgb4c6606t</td><td>7.454113</td><td>-0.23179609</td><td>7.222317</td></tr>\n",
              "\t<tr><th scope=row>0fawro1pivqnh4lem4ayf4o0</th><td>0fawro1pivqnh4lem4ayf4o0</td><td>2.920338</td><td> 0.67775006</td><td>3.598088</td></tr>\n",
              "\t<tr><th scope=row>0jru2culdqol34gpc90oigjn</th><td>0jru2culdqol34gpc90oigjn</td><td>7.516671</td><td>-0.06074004</td><td>7.455931</td></tr>\n",
              "</tbody>\n",
              "</table>\n"
            ],
            "text/markdown": "\nA data.frame: 6 × 4\n\n| <!--/--> | subject_id &lt;chr&gt; | threshold_high_effort &lt;dbl&gt; | threshold_change &lt;dbl&gt; | threshold_low_effort &lt;dbl&gt; |\n|---|---|---|---|---|\n| 08aiu2bm6t15qij5826jxz50 | 08aiu2bm6t15qij5826jxz50 | 7.439586 | -0.28729232 | 7.152294 |\n| 09j932f828pn7h7bozp9mpnl | 09j932f828pn7h7bozp9mpnl | 4.576419 |  0.75803724 | 5.334456 |\n| 0ax9htcbhfi3ncsospqzwjx2 | 0ax9htcbhfi3ncsospqzwjx2 | 8.415570 |  0.28923513 | 8.704805 |\n| 0e6zivqly335lojgb4c6606t | 0e6zivqly335lojgb4c6606t | 7.454113 | -0.23179609 | 7.222317 |\n| 0fawro1pivqnh4lem4ayf4o0 | 0fawro1pivqnh4lem4ayf4o0 | 2.920338 |  0.67775006 | 3.598088 |\n| 0jru2culdqol34gpc90oigjn | 0jru2culdqol34gpc90oigjn | 7.516671 | -0.06074004 | 7.455931 |\n\n",
            "text/latex": "A data.frame: 6 × 4\n\\begin{tabular}{r|llll}\n  & subject\\_id & threshold\\_high\\_effort & threshold\\_change & threshold\\_low\\_effort\\\\\n  & <chr> & <dbl> & <dbl> & <dbl>\\\\\n\\hline\n\t08aiu2bm6t15qij5826jxz50 & 08aiu2bm6t15qij5826jxz50 & 7.439586 & -0.28729232 & 7.152294\\\\\n\t09j932f828pn7h7bozp9mpnl & 09j932f828pn7h7bozp9mpnl & 4.576419 &  0.75803724 & 5.334456\\\\\n\t0ax9htcbhfi3ncsospqzwjx2 & 0ax9htcbhfi3ncsospqzwjx2 & 8.415570 &  0.28923513 & 8.704805\\\\\n\t0e6zivqly335lojgb4c6606t & 0e6zivqly335lojgb4c6606t & 7.454113 & -0.23179609 & 7.222317\\\\\n\t0fawro1pivqnh4lem4ayf4o0 & 0fawro1pivqnh4lem4ayf4o0 & 2.920338 &  0.67775006 & 3.598088\\\\\n\t0jru2culdqol34gpc90oigjn & 0jru2culdqol34gpc90oigjn & 7.516671 & -0.06074004 & 7.455931\\\\\n\\end{tabular}\n",
            "text/plain": [
              "                         subject_id               threshold_high_effort\n",
              "08aiu2bm6t15qij5826jxz50 08aiu2bm6t15qij5826jxz50 7.439586             \n",
              "09j932f828pn7h7bozp9mpnl 09j932f828pn7h7bozp9mpnl 4.576419             \n",
              "0ax9htcbhfi3ncsospqzwjx2 0ax9htcbhfi3ncsospqzwjx2 8.415570             \n",
              "0e6zivqly335lojgb4c6606t 0e6zivqly335lojgb4c6606t 7.454113             \n",
              "0fawro1pivqnh4lem4ayf4o0 0fawro1pivqnh4lem4ayf4o0 2.920338             \n",
              "0jru2culdqol34gpc90oigjn 0jru2culdqol34gpc90oigjn 7.516671             \n",
              "                         threshold_change threshold_low_effort\n",
              "08aiu2bm6t15qij5826jxz50 -0.28729232      7.152294            \n",
              "09j932f828pn7h7bozp9mpnl  0.75803724      5.334456            \n",
              "0ax9htcbhfi3ncsospqzwjx2  0.28923513      8.704805            \n",
              "0e6zivqly335lojgb4c6606t -0.23179609      7.222317            \n",
              "0fawro1pivqnh4lem4ayf4o0  0.67775006      3.598088            \n",
              "0jru2culdqol34gpc90oigjn -0.06074004      7.455931            "
            ]
          },
          "metadata": {}
        },
        {
          "output_type": "display_data",
          "data": {
            "text/html": [
              "<table class=\"dataframe\">\n",
              "<caption>A data.frame: 6 × 5</caption>\n",
              "<thead>\n",
              "\t<tr><th></th><th scope=col>subject_id</th><th scope=col>threshold_high_effort</th><th scope=col>threshold_change</th><th scope=col>threshold_high_effort_simulated</th><th scope=col>threshold_change_simulated</th></tr>\n",
              "\t<tr><th></th><th scope=col>&lt;chr&gt;</th><th scope=col>&lt;dbl&gt;</th><th scope=col>&lt;dbl&gt;</th><th scope=col>&lt;dbl&gt;</th><th scope=col>&lt;dbl&gt;</th></tr>\n",
              "</thead>\n",
              "<tbody>\n",
              "\t<tr><th scope=row>1</th><td>08aiu2bm6t15qij5826jxz50</td><td>7.525899</td><td>-0.43439470</td><td>7.439586</td><td>-0.28729232</td></tr>\n",
              "\t<tr><th scope=row>2</th><td>09j932f828pn7h7bozp9mpnl</td><td>4.384694</td><td> 0.81643559</td><td>4.576419</td><td> 0.75803724</td></tr>\n",
              "\t<tr><th scope=row>3</th><td>0ax9htcbhfi3ncsospqzwjx2</td><td>8.401473</td><td> 0.27353324</td><td>8.415570</td><td> 0.28923513</td></tr>\n",
              "\t<tr><th scope=row>4</th><td>0e6zivqly335lojgb4c6606t</td><td>7.414251</td><td>-0.13104155</td><td>7.454113</td><td>-0.23179609</td></tr>\n",
              "\t<tr><th scope=row>5</th><td>0fawro1pivqnh4lem4ayf4o0</td><td>2.747724</td><td> 0.89729533</td><td>2.920338</td><td> 0.67775006</td></tr>\n",
              "\t<tr><th scope=row>6</th><td>0jru2culdqol34gpc90oigjn</td><td>7.499753</td><td>-0.04907372</td><td>7.516671</td><td>-0.06074004</td></tr>\n",
              "</tbody>\n",
              "</table>\n"
            ],
            "text/markdown": "\nA data.frame: 6 × 5\n\n| <!--/--> | subject_id &lt;chr&gt; | threshold_high_effort &lt;dbl&gt; | threshold_change &lt;dbl&gt; | threshold_high_effort_simulated &lt;dbl&gt; | threshold_change_simulated &lt;dbl&gt; |\n|---|---|---|---|---|---|\n| 1 | 08aiu2bm6t15qij5826jxz50 | 7.525899 | -0.43439470 | 7.439586 | -0.28729232 |\n| 2 | 09j932f828pn7h7bozp9mpnl | 4.384694 |  0.81643559 | 4.576419 |  0.75803724 |\n| 3 | 0ax9htcbhfi3ncsospqzwjx2 | 8.401473 |  0.27353324 | 8.415570 |  0.28923513 |\n| 4 | 0e6zivqly335lojgb4c6606t | 7.414251 | -0.13104155 | 7.454113 | -0.23179609 |\n| 5 | 0fawro1pivqnh4lem4ayf4o0 | 2.747724 |  0.89729533 | 2.920338 |  0.67775006 |\n| 6 | 0jru2culdqol34gpc90oigjn | 7.499753 | -0.04907372 | 7.516671 | -0.06074004 |\n\n",
            "text/latex": "A data.frame: 6 × 5\n\\begin{tabular}{r|lllll}\n  & subject\\_id & threshold\\_high\\_effort & threshold\\_change & threshold\\_high\\_effort\\_simulated & threshold\\_change\\_simulated\\\\\n  & <chr> & <dbl> & <dbl> & <dbl> & <dbl>\\\\\n\\hline\n\t1 & 08aiu2bm6t15qij5826jxz50 & 7.525899 & -0.43439470 & 7.439586 & -0.28729232\\\\\n\t2 & 09j932f828pn7h7bozp9mpnl & 4.384694 &  0.81643559 & 4.576419 &  0.75803724\\\\\n\t3 & 0ax9htcbhfi3ncsospqzwjx2 & 8.401473 &  0.27353324 & 8.415570 &  0.28923513\\\\\n\t4 & 0e6zivqly335lojgb4c6606t & 7.414251 & -0.13104155 & 7.454113 & -0.23179609\\\\\n\t5 & 0fawro1pivqnh4lem4ayf4o0 & 2.747724 &  0.89729533 & 2.920338 &  0.67775006\\\\\n\t6 & 0jru2culdqol34gpc90oigjn & 7.499753 & -0.04907372 & 7.516671 & -0.06074004\\\\\n\\end{tabular}\n",
            "text/plain": [
              "  subject_id               threshold_high_effort threshold_change\n",
              "1 08aiu2bm6t15qij5826jxz50 7.525899              -0.43439470     \n",
              "2 09j932f828pn7h7bozp9mpnl 4.384694               0.81643559     \n",
              "3 0ax9htcbhfi3ncsospqzwjx2 8.401473               0.27353324     \n",
              "4 0e6zivqly335lojgb4c6606t 7.414251              -0.13104155     \n",
              "5 0fawro1pivqnh4lem4ayf4o0 2.747724               0.89729533     \n",
              "6 0jru2culdqol34gpc90oigjn 7.499753              -0.04907372     \n",
              "  threshold_high_effort_simulated threshold_change_simulated\n",
              "1 7.439586                        -0.28729232               \n",
              "2 4.576419                         0.75803724               \n",
              "3 8.415570                         0.28923513               \n",
              "4 7.454113                        -0.23179609               \n",
              "5 2.920338                         0.67775006               \n",
              "6 7.516671                        -0.06074004               "
            ]
          },
          "metadata": {}
        },
        {
          "output_type": "display_data",
          "data": {
            "text/plain": [
              "plot without title"
            ],
            "image/png": "[encoded data removed]"
          },
          "metadata": {
            "image/png": {
              "width": 420,
              "height": 420
            }
          }
        }
      ]
    },
    {
      "cell_type": "markdown",
      "source": [
        "# Hierarchal Bayesian MVT model\n",
        "\n",
        "In order to recover effort costs, we went beyond just estimating exit thresholds, and built an MVT model to predict trial by trial foraging choices. First we will load data formatted for the model, the OSF repository includes code to create this data."
      ],
      "metadata": {
        "id": "6ExKTGewbKKs"
      }
    },
    {
      "cell_type": "code",
      "source": [
        "urlfile=\"https://raw.githubusercontent.com/laurabustamante/foraging_tutorial/main/foraging_mvt_stan_data_experiment_1.csv.zip\"\n",
        "download.file(urlfile, destfile = \"foraging_mvt_stan_data_experiment_1.zip\")\n",
        "unzip(\"foraging_mvt_stan_data_experiment_1.zip\")\n",
        "data <- readr::read_csv(\"foraging_mvt_stan_data_experiment_1.csv\")\n",
        "head(data)\n",
        "# stan requires a list as input\n",
        "foraging_experiment_1_standata <- list(NS = unique(data$NS),\n",
        "                               K = dim(data)[1],\n",
        "                               choose_stay = data$choose_stay,\n",
        "                               which_S = data$which_S,\n",
        "                               total_reward = data$total_reward,\n",
        "                               total_harvest_periods = data$total_harvest_periods,\n",
        "                               number_trees = data$number_trees,\n",
        "                               expected_reward = data$expected_reward,\n",
        "                               is_Matching = data$is_Matching,\n",
        "                               is_Mismatching = data$is_Mismatching,\n",
        "                               is_small = data$is_small,\n",
        "                               is_large = data$is_large)"
      ],
      "metadata": {
        "id": "Ff74uTNiKk8f",
        "colab": {
          "base_uri": "https://localhost:8080/",
          "height": 445
        },
        "outputId": "31a0f308-c096-489b-9175-06da15538f62"
      },
      "execution_count": 2,
      "outputs": [
        {
          "output_type": "stream",
          "name": "stderr",
          "text": [
            "\u001b[1mRows: \u001b[22m\u001b[34m344217\u001b[39m \u001b[1mColumns: \u001b[22m\u001b[34m14\u001b[39m\n",
            "\u001b[36m──\u001b[39m \u001b[1mColumn specification\u001b[22m \u001b[36m────────────────────────────────────────────────────────\u001b[39m\n",
            "\u001b[1mDelimiter:\u001b[22m \",\"\n",
            "\u001b[31mchr\u001b[39m  (1): subject_id\n",
            "\u001b[32mdbl\u001b[39m (13): NS, NT, MT, which_S, choose_stay, total_reward, total_harvest_peri...\n",
            "\n",
            "\u001b[36mℹ\u001b[39m Use `spec()` to retrieve the full column specification for this data.\n",
            "\u001b[36mℹ\u001b[39m Specify the column types or set `show_col_types = FALSE` to quiet this message.\n"
          ]
        },
        {
          "output_type": "display_data",
          "data": {
            "text/html": [
              "<table class=\"dataframe\">\n",
              "<caption>A tibble: 6 × 14</caption>\n",
              "<thead>\n",
              "\t<tr><th scope=col>NS</th><th scope=col>NT</th><th scope=col>MT</th><th scope=col>which_S</th><th scope=col>choose_stay</th><th scope=col>total_reward</th><th scope=col>total_harvest_periods</th><th scope=col>number_trees</th><th scope=col>expected_reward</th><th scope=col>is_Matching</th><th scope=col>is_Mismatching</th><th scope=col>is_small</th><th scope=col>is_large</th><th scope=col>subject_id</th></tr>\n",
              "\t<tr><th scope=col>&lt;dbl&gt;</th><th scope=col>&lt;dbl&gt;</th><th scope=col>&lt;dbl&gt;</th><th scope=col>&lt;dbl&gt;</th><th scope=col>&lt;dbl&gt;</th><th scope=col>&lt;dbl&gt;</th><th scope=col>&lt;dbl&gt;</th><th scope=col>&lt;dbl&gt;</th><th scope=col>&lt;dbl&gt;</th><th scope=col>&lt;dbl&gt;</th><th scope=col>&lt;dbl&gt;</th><th scope=col>&lt;dbl&gt;</th><th scope=col>&lt;dbl&gt;</th><th scope=col>&lt;chr&gt;</th></tr>\n",
              "</thead>\n",
              "<tbody>\n",
              "\t<tr><td>537</td><td>607</td><td>848</td><td>1</td><td>1</td><td>1383.913</td><td>240</td><td>24</td><td> 2.385508</td><td>0</td><td>0</td><td>1</td><td>0</td><td>08aiu2bm6t15qij5826jxz50</td></tr>\n",
              "\t<tr><td>537</td><td>607</td><td>848</td><td>1</td><td>1</td><td>1383.913</td><td>240</td><td>24</td><td>12.162508</td><td>0</td><td>0</td><td>1</td><td>0</td><td>08aiu2bm6t15qij5826jxz50</td></tr>\n",
              "\t<tr><td>537</td><td>607</td><td>848</td><td>1</td><td>0</td><td>1383.913</td><td>240</td><td>24</td><td>11.557546</td><td>0</td><td>0</td><td>1</td><td>0</td><td>08aiu2bm6t15qij5826jxz50</td></tr>\n",
              "\t<tr><td>537</td><td>607</td><td>848</td><td>1</td><td>1</td><td>1383.913</td><td>240</td><td>24</td><td> 5.476291</td><td>0</td><td>0</td><td>1</td><td>0</td><td>08aiu2bm6t15qij5826jxz50</td></tr>\n",
              "\t<tr><td>537</td><td>607</td><td>848</td><td>1</td><td>1</td><td>1383.913</td><td>240</td><td>24</td><td>12.083010</td><td>0</td><td>0</td><td>1</td><td>0</td><td>08aiu2bm6t15qij5826jxz50</td></tr>\n",
              "\t<tr><td>537</td><td>607</td><td>848</td><td>1</td><td>1</td><td>1383.913</td><td>240</td><td>24</td><td>11.127353</td><td>0</td><td>0</td><td>1</td><td>0</td><td>08aiu2bm6t15qij5826jxz50</td></tr>\n",
              "</tbody>\n",
              "</table>\n"
            ],
            "text/markdown": "\nA tibble: 6 × 14\n\n| NS &lt;dbl&gt; | NT &lt;dbl&gt; | MT &lt;dbl&gt; | which_S &lt;dbl&gt; | choose_stay &lt;dbl&gt; | total_reward &lt;dbl&gt; | total_harvest_periods &lt;dbl&gt; | number_trees &lt;dbl&gt; | expected_reward &lt;dbl&gt; | is_Matching &lt;dbl&gt; | is_Mismatching &lt;dbl&gt; | is_small &lt;dbl&gt; | is_large &lt;dbl&gt; | subject_id &lt;chr&gt; |\n|---|---|---|---|---|---|---|---|---|---|---|---|---|---|\n| 537 | 607 | 848 | 1 | 1 | 1383.913 | 240 | 24 |  2.385508 | 0 | 0 | 1 | 0 | 08aiu2bm6t15qij5826jxz50 |\n| 537 | 607 | 848 | 1 | 1 | 1383.913 | 240 | 24 | 12.162508 | 0 | 0 | 1 | 0 | 08aiu2bm6t15qij5826jxz50 |\n| 537 | 607 | 848 | 1 | 0 | 1383.913 | 240 | 24 | 11.557546 | 0 | 0 | 1 | 0 | 08aiu2bm6t15qij5826jxz50 |\n| 537 | 607 | 848 | 1 | 1 | 1383.913 | 240 | 24 |  5.476291 | 0 | 0 | 1 | 0 | 08aiu2bm6t15qij5826jxz50 |\n| 537 | 607 | 848 | 1 | 1 | 1383.913 | 240 | 24 | 12.083010 | 0 | 0 | 1 | 0 | 08aiu2bm6t15qij5826jxz50 |\n| 537 | 607 | 848 | 1 | 1 | 1383.913 | 240 | 24 | 11.127353 | 0 | 0 | 1 | 0 | 08aiu2bm6t15qij5826jxz50 |\n\n",
            "text/latex": "A tibble: 6 × 14\n\\begin{tabular}{llllllllllllll}\n NS & NT & MT & which\\_S & choose\\_stay & total\\_reward & total\\_harvest\\_periods & number\\_trees & expected\\_reward & is\\_Matching & is\\_Mismatching & is\\_small & is\\_large & subject\\_id\\\\\n <dbl> & <dbl> & <dbl> & <dbl> & <dbl> & <dbl> & <dbl> & <dbl> & <dbl> & <dbl> & <dbl> & <dbl> & <dbl> & <chr>\\\\\n\\hline\n\t 537 & 607 & 848 & 1 & 1 & 1383.913 & 240 & 24 &  2.385508 & 0 & 0 & 1 & 0 & 08aiu2bm6t15qij5826jxz50\\\\\n\t 537 & 607 & 848 & 1 & 1 & 1383.913 & 240 & 24 & 12.162508 & 0 & 0 & 1 & 0 & 08aiu2bm6t15qij5826jxz50\\\\\n\t 537 & 607 & 848 & 1 & 0 & 1383.913 & 240 & 24 & 11.557546 & 0 & 0 & 1 & 0 & 08aiu2bm6t15qij5826jxz50\\\\\n\t 537 & 607 & 848 & 1 & 1 & 1383.913 & 240 & 24 &  5.476291 & 0 & 0 & 1 & 0 & 08aiu2bm6t15qij5826jxz50\\\\\n\t 537 & 607 & 848 & 1 & 1 & 1383.913 & 240 & 24 & 12.083010 & 0 & 0 & 1 & 0 & 08aiu2bm6t15qij5826jxz50\\\\\n\t 537 & 607 & 848 & 1 & 1 & 1383.913 & 240 & 24 & 11.127353 & 0 & 0 & 1 & 0 & 08aiu2bm6t15qij5826jxz50\\\\\n\\end{tabular}\n",
            "text/plain": [
              "  NS  NT  MT  which_S choose_stay total_reward total_harvest_periods\n",
              "1 537 607 848 1       1           1383.913     240                  \n",
              "2 537 607 848 1       1           1383.913     240                  \n",
              "3 537 607 848 1       0           1383.913     240                  \n",
              "4 537 607 848 1       1           1383.913     240                  \n",
              "5 537 607 848 1       1           1383.913     240                  \n",
              "6 537 607 848 1       1           1383.913     240                  \n",
              "  number_trees expected_reward is_Matching is_Mismatching is_small is_large\n",
              "1 24            2.385508       0           0              1        0       \n",
              "2 24           12.162508       0           0              1        0       \n",
              "3 24           11.557546       0           0              1        0       \n",
              "4 24            5.476291       0           0              1        0       \n",
              "5 24           12.083010       0           0              1        0       \n",
              "6 24           11.127353       0           0              1        0       \n",
              "  subject_id              \n",
              "1 08aiu2bm6t15qij5826jxz50\n",
              "2 08aiu2bm6t15qij5826jxz50\n",
              "3 08aiu2bm6t15qij5826jxz50\n",
              "4 08aiu2bm6t15qij5826jxz50\n",
              "5 08aiu2bm6t15qij5826jxz50\n",
              "6 08aiu2bm6t15qij5826jxz50"
            ]
          },
          "metadata": {}
        }
      ]
    },
    {
      "cell_type": "markdown",
      "source": [
        "Here is the model code, don't worry about understanding all of it, we will zoom in on the most important parts:\n",
        "```\n",
        "data {\n",
        "  int NS; // number of particiants\n",
        "  int K; // length of all trials for all participants\n",
        "  array[K] int choose_stay; // whether participant exits the patch (0) or not (1)\n",
        "  array[K] int<lower=1, upper=NS> which_S;\n",
        "  vector[K] total_reward; // total rewards per block type\n",
        "  vector[K] total_harvest_periods; // time spent per block type\n",
        "  vector[K] number_trees; // how many trees visited per block type\n",
        "  vector[K] expected_reward; // reward expected on a trial\n",
        "  vector[K] is_Matching; // 1 = congruent trial block, 0 = not\n",
        "  vector[K] is_Mismatching; // 1 = interference trial block, 0 = not\n",
        "  vector[K] is_small; // 1 = physical low efffort block, 0 = not\n",
        "  vector[K] is_large; // 1 = physical high efffort block, 0 = not\n",
        "}\n",
        "\n",
        "transformed data {\n",
        "  // fixed effects prior ~ N(X_mu_prior, X_s_prior)\n",
        "  // [1] = log inv_temp\n",
        "  // [2] = cost_congruent\n",
        "  // [3] = cost_interference\n",
        "  // [4] = cost_small\n",
        "  // [5] = cost_large\n",
        "  vector[5] gam_mu_prior = [0, 0, 0, 0, 0]';     // mean of fixed effect prior\n",
        "  vector[5] gam_s_prior  = [0.5, 40, 30, 40, 30]'; // sd of fixed effect prior\n",
        "  vector[5] tau_mu_prior = [0.5, 20, 15, 20, 15]'; // mean of random variance prior\n",
        "  vector[5] tau_s_prior  = [0.5, 20, 15, 20, 15]'; // sd of random variance prior\n",
        "}\n",
        "\n",
        "parameters {\n",
        "  // [1] = log inv_temp\n",
        "  // [2] = cost_congruent\n",
        "  // [3] = cost_interference\n",
        "  // [4] = cost_small\n",
        "  // [5] = cost_large\n",
        "  // session mean parameters\n",
        "  vector[5] mu;           //  fixed effects\n",
        "  vector<lower=0>[5] tau; // spread of random effects\n",
        "  // reparameterization, all random effects in a single matrix\n",
        "  matrix[5, NS] U_pr;            // uncorreleated random effects\n",
        "  cholesky_factor_corr[5] L_u;  // decomposition of corr matrix to lower triangular matrix\n",
        "}\n",
        "\n",
        "transformed parameters {\n",
        "  matrix[NS, 5] U;      // random effects\n",
        "  matrix[NS, 5] beta_s; // fixed + random effects\n",
        "  // transform random effects\n",
        "  // these have dimensions NS x Number of parameters\n",
        "  // for example,\n",
        "  // U[1,1]   = random effect inv. temp for subject 1\n",
        "  // U[10, 3] = random effect of cost incongruent for subject 10\n",
        "  U = (diag_pre_multiply(tau, L_u) * U_pr)';\n",
        "  \n",
        "  // compute fixed + random effect for each subject      \n",
        "  for(i in 1:NS) {\n",
        "  \tfor(p in 1:5) {\n",
        "    beta_s[i,p] = mu[p] + U[i,p];\n",
        "    }\n",
        "  }\n",
        "}\n",
        "\n",
        "model {\n",
        "  // priors (adjusted for bounds)\n",
        "  target += normal_lpdf(mu  | gam_mu_prior, gam_s_prior);\n",
        "  target += normal_lpdf(tau | tau_mu_prior, tau_s_prior) - 5*normal_lccdf(0 | tau_mu_prior, tau_s_prior);\n",
        "  target += lkj_corr_cholesky_lpdf(L_u | 1);\n",
        "  target += std_normal_lpdf(to_vector(U_pr));\n",
        "  // likelihood\n",
        "    choose_stay ~ bernoulli_logit((exp(beta_s[which_S, 1]))\n",
        "                                .* (expected_reward\n",
        "                                    - is_Matching\n",
        "                                      .* ((total_reward\n",
        "                                           - beta_s[which_S, 2]\n",
        "                                             .* number_trees)\n",
        "                                          ./ total_harvest_periods)\n",
        "                                    - is_Mismatching\n",
        "                                      .* ((total_reward\n",
        "                                           - (beta_s[which_S, 2]\n",
        "                                              + (beta_s[which_S, 3]))\n",
        "                                             .* number_trees)\n",
        "                                          ./ total_harvest_periods)\n",
        "                                    - is_small\n",
        "                                      .* ((total_reward\n",
        "                                           - beta_s[which_S, 4]\n",
        "                                             .* number_trees)\n",
        "                                          ./ total_harvest_periods)\n",
        "                                    - is_large\n",
        "                                      .* ((total_reward\n",
        "                                           - (beta_s[which_S, 4]\n",
        "                                              + (beta_s[which_S, 5]))\n",
        "                                             .* number_trees)\n",
        "                                          ./ total_harvest_periods)));\n",
        "}\n",
        "  \n",
        "generated quantities {\n",
        "  // \"recompose\" Choleksy to corr matrix\n",
        "  corr_matrix[5] rho = L_u * L_u';\n",
        "}\n",
        "\n",
        "// \"recompose\" Choleksy to corr matrix\n",
        "  corr_matrix[5] rho = L_u * L_u';\n",
        "}\n",
        "```\n",
        "\n",
        "The MVT rule is in this code segment:\n",
        "\n",
        "```\n",
        "// likelihood\n",
        "    choose_stay ~ bernoulli_logit((exp(beta_s[which_S, 1]))\n",
        "                                .* (expected_reward\n",
        "                                    - is_Matching\n",
        "                                      .* ((total_reward\n",
        "                                           - beta_s[which_S, 2]\n",
        "                                             .* number_trees)\n",
        "                                          ./ total_harvest_periods)\n",
        "                                    - is_Mismatching\n",
        "                                      .* ((total_reward\n",
        "                                           - (beta_s[which_S, 2]\n",
        "                                              + (beta_s[which_S, 3]))\n",
        "                                             .* number_trees)\n",
        "                                          ./ total_harvest_periods)\n",
        "```\n",
        "\n",
        "For each foraging trial, model compares the expected reward on the next harvest (```expected_reward```), defined as the average of the previous harvest and the product of the previous harvest with the mean depletion rate (0.88)) against the overall average reward rate for a condition (effort level/type, here indicated by the variables ```is_Matching, is_Mismatching, is_small, is_large```), using a softmax function (with inverse temperature parameter, ```beta_s[which_S, 1]```) to make a choice (stay or exit). The cost of travel in high effort blocks (```beta_s[which_S, 3]``` and ```beta_s[which_S, 5]```) was expressed as the marginal increase in cost of travel (```beta_s[which_S, 2]+beta_s[which_S, 3]``` and ```beta_s[which_S, 4]+beta_s[which_S, 5]```) from low to high effort. Defining this cost as a difference measure controls for any additional biases individual participants may have which are common to both conditions (i.e., consistently high exit thresholds for some participants and low thresholds for others). The conditions are (```is_Matching, is_Mismatching, is_small, is_large```). The parameters of greatest interest are cognitive effort cost ```beta_s[which_S, 3]``` and physical effort cost ```beta_s[which_S, 5]```."
      ],
      "metadata": {
        "id": "likzJiMXws-e"
      }
    },
    {
      "cell_type": "markdown",
      "source": [
        "## Results from pre-fitted model\n",
        "The model can take a significant amount of time to run, so we will load in a pre-fitted models."
      ],
      "metadata": {
        "id": "5ngtKPE8Kilz"
      }
    },
    {
      "cell_type": "code",
      "source": [
        "urlfile=\"https://raw.githubusercontent.com/laurabustamante/foraging_tutorial/main/cmdstan_samples_allsubs_experiment_1.tsv.gz\"\n",
        "download.file(urlfile, destfile = \"/content/cmdstan_samples_allsubs_experiment_1.tsv.gz\")\n",
        "# load pre-fitted model\n",
        "cost_travel_stan_fit_experiment_1 <- data.table::fread(\"/content/cmdstan_samples_allsubs_experiment_1.tsv.gz\")\n",
        "cost_travel_fit_vars <- c(\"inv_temp\",\n",
        "                          \"cost_matching\",\n",
        "                          \"cost_mismatching\",\n",
        "                          \"cost_small\",\n",
        "                          \"cost_large\")\n",
        "cost_travel_fit_vars_titles <- c(\"Inverse Tempurature\",\n",
        "                                \"Cognitive Low Effort Travel Cost\",\n",
        "                                \"Cognitive Effort Cost\",\n",
        "                                \"Physical Low Effort Travel Cost\",\n",
        "                                \"Physical Effort Cost\")"
      ],
      "metadata": {
        "id": "92OxaEfhBlDr"
      },
      "execution_count": 26,
      "outputs": []
    },
    {
      "cell_type": "markdown",
      "source": [
        "## Group level posterior distributions"
      ],
      "metadata": {
        "id": "7JB6H1km49Vo"
      }
    },
    {
      "cell_type": "code",
      "source": [
        "### Table S1: Group level posterior distributions.\n",
        "cost_travel_stan_fit_group_experiment_1 <- cost_travel_stan_fit_experiment_1 %>%\n",
        "    select(contains(\"beta_ms[\")) %>%\n",
        "    pivot_longer(everything(),\n",
        "                 names_to = \"params\",\n",
        "                 values_to = \"params_val\") %>%\n",
        "    mutate(param_name = case_when(params == \"beta_ms[1]\" ~ cost_travel_fit_vars_titles[1],\n",
        "                                  params == \"beta_ms[2]\" ~ cost_travel_fit_vars_titles[2],\n",
        "                                  params == \"beta_ms[3]\" ~ cost_travel_fit_vars_titles[3],\n",
        "                                  params == \"beta_ms[4]\" ~ cost_travel_fit_vars_titles[4],\n",
        "                                  params == \"beta_ms[5]\" ~ cost_travel_fit_vars_titles[5]))\n",
        "table_S1 <- cost_travel_stan_fit_group_experiment_1 %>%\n",
        "  ungroup() %>%\n",
        "  group_by(param_name) %>%\n",
        "  summarise(mean = mean(params_val),\n",
        "            lower = HDInterval::hdi(params_val, credMass = 0.95)[1],\n",
        "            upper = HDInterval::hdi(params_val, credMass = 0.95)[2]) %T>%\n",
        "  print()"
      ],
      "metadata": {
        "id": "NrdULDPFF_Sc",
        "colab": {
          "base_uri": "https://localhost:8080/"
        },
        "outputId": "e5a550ae-2794-40e1-992c-ad712002c312"
      },
      "execution_count": 27,
      "outputs": [
        {
          "output_type": "stream",
          "name": "stdout",
          "text": [
            "\u001b[90m# A tibble: 5 × 4\u001b[39m\n",
            "  param_name                         mean  lower   upper\n",
            "  \u001b[3m\u001b[90m<chr>\u001b[39m\u001b[23m                             \u001b[3m\u001b[90m<dbl>\u001b[39m\u001b[23m  \u001b[3m\u001b[90m<dbl>\u001b[39m\u001b[23m   \u001b[3m\u001b[90m<dbl>\u001b[39m\u001b[23m\n",
            "\u001b[90m1\u001b[39m Cognitive Effort Cost             7.55   5.47    9.62 \n",
            "\u001b[90m2\u001b[39m Cognitive Low Effort Travel Cost 94.6   90.7    98.7  \n",
            "\u001b[90m3\u001b[39m Inverse Tempurature               0.260  0.239   0.283\n",
            "\u001b[90m4\u001b[39m Physical Effort Cost             13.5   10.9    15.9  \n",
            "\u001b[90m5\u001b[39m Physical Low Effort Travel Cost  99.8   95.4   104.   \n"
          ]
        }
      ]
    },
    {
      "cell_type": "markdown",
      "source": [
        "On average we see that the group-level cognitive effort cost is 7.55 apples, and the physical effort cost is 13.5 apples in Experiment 1. How variable were those values?"
      ],
      "metadata": {
        "id": "JpYKqhtLDqY-"
      }
    },
    {
      "cell_type": "markdown",
      "source": [
        "## Individual differences in effort costs"
      ],
      "metadata": {
        "id": "JBZffLDSeEp7"
      }
    },
    {
      "cell_type": "code",
      "source": [
        "urlfile=\"https://raw.githubusercontent.com/laurabustamante/foraging_tutorial/main/cost_travel_participant_experiment_1.csv.zip\"\n",
        "download.file(urlfile, destfile = \"/content/cost_travel_participant_experiment_1.csv.zip\")\n",
        "unzip(\"/content/cost_travel_participant_experiment_1.csv.zip\")\n",
        "cost_travel_participant_experiment_1 <- readr::read_csv(\"cost_travel_participant_experiment_1.csv\") %>%\n",
        "   mutate(param_name_str = case_when(param_name == \"cost_large\" ~ \"Physical effort cost\",\n",
        "                                    param_name == \"cost_small\" ~ \"Physical low effort cost\",\n",
        "                                    param_name == \"cost_matching\" ~ \"Cognitive low effort cost\",\n",
        "                                    param_name == \"cost_mismatching\" ~ \"Cognitive effort cost\",\n",
        "                                    param_name == \"inv_temp\" ~ \"Inverse tempurature\"))\n",
        "# histogram of individual differences in effort cost\n",
        "cost_min <- min(filter(cost_travel_participant_experiment_1,\n",
        "                      param_name == \"cost_mismatching\" |\n",
        "                      param_name == \"cost_large\")$lower)\n",
        "cost_max <- max(filter(cost_travel_participant_experiment_1,\n",
        "                      param_name == \"cost_mismatching\" |\n",
        "                      param_name == \"cost_large\")$upper)\n",
        "p_cost_travel_histogram_experiment_1 <- ggplot(data = cost_travel_participant_experiment_1 %>%\n",
        "         filter(param_name == \"cost_mismatching\" |\n",
        "                param_name == \"cost_large\")) +\n",
        "  geom_histogram(aes(mean),\n",
        "                 binwidth = 2) +\n",
        "  facet_wrap(~ param_name_str, ncol=1) +\n",
        "  labs(y = \"Number of participants\",\n",
        "       x = \" \",\n",
        "       tag = \"A\") +\n",
        "  geom_vline(aes(xintercept = 0),\n",
        "             color = \"black\") +\n",
        "  theme(text = element_text(size = 14,\n",
        "                            family = \"serif\"),\n",
        "        axis.text = element_text(size = 14),\n",
        "        strip.background = element_rect(fill=\"white\"),\n",
        "        strip.text = element_text(size = 14,\n",
        "                                  colour=\"black\"),\n",
        "        panel.background = element_blank(),\n",
        "        panel.grid.major = element_line(size = 0.5,\n",
        "                                        linetype = 'solid',\n",
        "                                        colour = \"grey60\")) +\n",
        "  scale_y_continuous(breaks=scales::breaks_pretty()) +\n",
        "  scale_x_continuous(breaks=scales::breaks_pretty(),\n",
        "                     limits = c(cost_min,\n",
        "                                cost_max))\n",
        "print(p_cost_travel_histogram_experiment_1)"
      ],
      "metadata": {
        "colab": {
          "base_uri": "https://localhost:8080/",
          "height": 611
        },
        "id": "UOwIb8--eJtL",
        "outputId": "824478bb-fe2e-47a3-d180-72ddf660ece1"
      },
      "execution_count": 21,
      "outputs": [
        {
          "output_type": "stream",
          "name": "stderr",
          "text": [
            "\u001b[1mRows: \u001b[22m\u001b[34m2685\u001b[39m \u001b[1mColumns: \u001b[22m\u001b[34m7\u001b[39m\n",
            "\u001b[36m──\u001b[39m \u001b[1mColumn specification\u001b[22m \u001b[36m────────────────────────────────────────────────────────\u001b[39m\n",
            "\u001b[1mDelimiter:\u001b[22m \",\"\n",
            "\u001b[31mchr\u001b[39m (3): param_name, param_name_str, subject_id\n",
            "\u001b[32mdbl\u001b[39m (4): mean, lower, upper, HDIInterval_width\n",
            "\n",
            "\u001b[36mℹ\u001b[39m Use `spec()` to retrieve the full column specification for this data.\n",
            "\u001b[36mℹ\u001b[39m Specify the column types or set `show_col_types = FALSE` to quiet this message.\n",
            "Warning message:\n",
            "“\u001b[1m\u001b[22mRemoved 4 rows containing missing values (`geom_bar()`).”\n"
          ]
        },
        {
          "output_type": "display_data",
          "data": {
            "text/plain": [
              "plot without title"
            ],
            "image/png": "[encoded data removed]"
          },
          "metadata": {
            "image/png": {
              "width": 420,
              "height": 420
            }
          }
        }
      ]
    },
    {
      "cell_type": "markdown",
      "source": [
        "Again we see a nice spread of individual differences, and a proportion of participants who have negative effort costs, which in the paper we discuss within the context of 'effort-seeking'"
      ],
      "metadata": {
        "id": "BmtQAMsaEDUv"
      }
    },
    {
      "cell_type": "markdown",
      "source": [
        "## Correlation between individual differences in cognitive and physical effort costs\n",
        "The model allowed us to directly estimate the correlation between cognitive and physical effort costs, we will plot the posterior distribution (likely values for the correlation, panel C), and a scatter plot of the individual-level paramters (panel B)."
      ],
      "metadata": {
        "id": "sa3BI_Ss42uF"
      }
    },
    {
      "cell_type": "code",
      "source": [
        "### Figure 4: Correlation between individual differences in cognitive and physical effort costs.\n",
        "# scatter plot cognitive versus physical effort cost with HDI intervals\n",
        "cost_travel_param_participant_experiment_1 <- cost_travel_participant_experiment_1 %>%\n",
        "         mutate(HDIInterval_width = upper - lower) %>%\n",
        "         ungroup() %>%\n",
        "         select(-param_name_str) %>%\n",
        "         pivot_wider(names_from = param_name,\n",
        "                     values_from = c(mean, lower, upper, HDIInterval_width))\n",
        "cost_max <- max(max(cost_travel_param_participant_experiment_1$upper_cost_large),\n",
        "                max(cost_travel_param_participant_experiment_1$upper_cost_mismatching))\n",
        "cost_min <- min(min(cost_travel_param_participant_experiment_1$lower_cost_large),\n",
        "                min(cost_travel_param_participant_experiment_1$lower_cost_mismatching))\n",
        "p_cost_travel_scatter_experiment_1 <- ggplot(data = cost_travel_param_participant_experiment_1,\n",
        "       aes(x = mean_cost_mismatching,\n",
        "           y = mean_cost_large)) +\n",
        "  labs(x = \"Cognitive Effort Cost\",\n",
        "       y = \"Physical Effort Cost\",\n",
        "       tag = \"B\") +\n",
        "  geom_vline(aes(xintercept = 0),\n",
        "             color = \"black\") +\n",
        "  geom_hline(aes(yintercept = 0),\n",
        "           color = \"black\") +\n",
        "  geom_errorbar(aes(xmin = lower_cost_mismatching,\n",
        "                    xmax = upper_cost_mismatching),\n",
        "                alpha = 0.1) +\n",
        "  geom_errorbar(aes(ymin = lower_cost_large,\n",
        "                    ymax = upper_cost_large),\n",
        "                alpha = 0.1) +\n",
        "  geom_point(color = \"black\",\n",
        "             fill = \"white\",\n",
        "             alpha = 0.75,\n",
        "             pch=21) +\n",
        "  theme(text = element_text(size = 14,\n",
        "                            family = \"serif\"),\n",
        "        axis.text = element_text(size = 14),\n",
        "        panel.background = element_blank(),\n",
        "        panel.grid.major = element_line(size = 0.5,\n",
        "                                        linetype = 'solid',\n",
        "                                        colour = \"grey60\")) +\n",
        "    coord_fixed(xlim = c(cost_min, cost_max),\n",
        "                ylim = c(cost_min, cost_max)) +\n",
        "  scale_y_continuous(breaks=scales::breaks_pretty()) +\n",
        "  scale_x_continuous(breaks=scales::breaks_pretty())\n",
        "print(p_cost_travel_scatter_experiment_1)\n",
        "\n",
        "p_cog_phys_correlation_posterior_experiment_1 <- ggplot(\n",
        "  data = cost_travel_stan_fit_experiment_1,\n",
        "      aes(x = `r[3,5]`)) +\n",
        "  geom_histogram(bins = 50) +\n",
        "  geom_vline(aes(xintercept = mean(cost_travel_stan_fit_experiment_1$`r[3,5]`)),\n",
        "           color = \"grey20\") +\n",
        "  labs(y = \"Posterior density\",\n",
        "       x = \"Correlation of cognitive and \\n physical effort costs\",\n",
        "       tag = \"C\") +\n",
        "  theme(text = element_text(family = \"serif\",\n",
        "                            size = 14),\n",
        "        axis.text = element_blank(),\n",
        "        axis.ticks.y = element_blank(),\n",
        "        axis.text.x = element_text(family = \"serif\",\n",
        "                            size = 12),\n",
        "        panel.background = element_blank(),\n",
        "        panel.grid.major = element_line(size = 0.5,\n",
        "                                        linetype = 'solid',\n",
        "                                        colour = \"grey60\")) +\n",
        "  scale_x_continuous(breaks=scales::pretty_breaks()) +\n",
        "  scale_fill_manual(values = c(\"transparent\",\n",
        "                               \"grey50\",\n",
        "                               \"transparent\"),\n",
        "                    guide = \"none\")\n",
        "print(p_cog_phys_correlation_posterior_experiment_1)\n"
      ],
      "metadata": {
        "id": "xSC2tS_dCZ9R",
        "colab": {
          "base_uri": "https://localhost:8080/",
          "height": 857
        },
        "outputId": "f65ea40a-7b65-4133-ab10-8a109401aca8"
      },
      "execution_count": 22,
      "outputs": [
        {
          "output_type": "display_data",
          "data": {
            "text/plain": [
              "plot without title"
            ],
            "image/png": "[encoded data removed]"
          },
          "metadata": {
            "image/png": {
              "width": 420,
              "height": 420
            }
          }
        },
        {
          "output_type": "display_data",
          "data": {
            "text/plain": [
              "plot without title"
            ],
            "image/png": "[encoded data removed]"
          },
          "metadata": {
            "image/png": {
              "width": 420,
              "height": 420
            }
          }
        }
      ]
    },
    {
      "cell_type": "markdown",
      "source": [
        "# Question 5:\n",
        "In this experiment participants who avoided cognitive effort more also avoided physical effort more. What reasons can you think of for why that might be? How does it compare to your real life experiences?"
      ],
      "metadata": {
        "id": "LaEKnbTNdTaR"
      }
    },
    {
      "cell_type": "markdown",
      "source": [
        "## Run the model yourself!\n",
        "To run the model you'll need to install cmdstanr. Note the sampling can take hours, so this code will show you how to run the model, which you can try on your own time."
      ],
      "metadata": {
        "id": "9oVrlbsK-0Ha"
      }
    },
    {
      "cell_type": "code",
      "source": [
        "install.packages(\"cmdstanr\", repos = c(\"https://mc-stan.org/r-packages/\", getOption(\"repos\")))\n",
        "library(cmdstanr)\n",
        "install_cmdstan()\n",
        "check_cmdstan_toolchain()"
      ],
      "metadata": {
        "id": "NKrzFUUfv4uX"
      },
      "execution_count": null,
      "outputs": []
    },
    {
      "cell_type": "code",
      "source": [
        "urlfile=\"https://raw.githubusercontent.com/laurabustamante/foraging_tutorial/main/fit_mvt_stan_model_experiment_1.stan\"\n",
        "download.file(urlfile, destfile = \"/content/fit_mvt_stan_model_experiment_1.stan\")\n",
        "mod <- cmdstan_model(\"/content/fit_mvt_stan_model_experiment_1.stan\")\n",
        "# inspect model code\n",
        "mod$print()"
      ],
      "metadata": {
        "colab": {
          "base_uri": "https://localhost:8080/"
        },
        "id": "qk7qbFogbZnF",
        "outputId": "6ea066ca-eff8-4d40-dd09-959e096f3126"
      },
      "execution_count": null,
      "outputs": [
        {
          "output_type": "stream",
          "name": "stdout",
          "text": [
            "//aria:compile=0\n",
            "data {\n",
            "  int NS; // number of particiants\n",
            "  int K; // length of all trials for all participants \n",
            "  array[K] int choose_stay; // whether participant exits the patch (0) or not (1)\n",
            "  array[K] int<lower=1, upper=NS> which_S;\n",
            "  vector[K] total_reward; // total rewards per block type\n",
            "  vector[K] total_harvest_periods; // time spent per block type\n",
            "  vector[K] number_trees; // how many trees visited per block type\n",
            "  vector[K] expected_reward; // reward expected on a trial \n",
            "  vector[K] is_Matching; // 1 = congruent trial block, 0 = not \n",
            "  vector[K] is_Mismatching; // 1 = interference trial block, 0 = not \n",
            "  vector[K] is_small; // 1 = physical low efffort block, 0 = not \n",
            "  vector[K] is_large; // 1 = physical high efffort block, 0 = not \n",
            "} \n",
            "\n",
            "transformed data {\n",
            "  // fixed effects prior ~ N(X_mu_prior, X_s_prior)\n",
            "  // [1] = log inv_temp\n",
            "  // [2] = cost_congruent\n",
            "  // [3] = cost_interference\n",
            "  // [4] = cost_small\n",
            "  // [5] = cost_large\n",
            "  vector[5] gam_mu_prior = [0, 0, 0, 0, 0]';     // mean of fixed effect prior\n",
            "  vector[5] gam_s_prior  = [0.5, 40, 30, 40, 30]'; // sd of fixed effect prior\n",
            "  vector[5] tau_mu_prior = [0.5, 20, 15, 20, 15]'; // mean of random variance prior\n",
            "  vector[5] tau_s_prior  = [0.5, 20, 15, 20, 15]'; // sd of random variance prior\n",
            "} \n",
            "\n",
            "parameters { \n",
            "  // [1] = log inv_temp\n",
            "  // [2] = cost_congruent\n",
            "  // [3] = cost_interference\n",
            "  // [4] = cost_small\n",
            "  // [5] = cost_large\n",
            "  // session mean parameters\n",
            "  vector[5] mu;           //  fixed effects \n",
            "  vector<lower=0>[5] tau; // spread of random effects\n",
            "  // reparameterization, all random effects in a single matrix\n",
            "  matrix[5, NS] U_pr;            // uncorreleated random effects\n",
            "  cholesky_factor_corr[5] L_u;  // decomposition of corr matrix to lower triangular matrix\n",
            "}\n",
            "\n",
            "transformed parameters {\n",
            "  matrix[NS, 5] U;      // random effects\n",
            "  matrix[NS, 5] beta_s; // fixed + random effects\n",
            "  // transform random effects\n",
            "  // these have dimensions NS x Number of parameters\n",
            "  // for example,\n",
            "  // U[1,1]   = random effect inv. temp for subject 1\n",
            "  // U[10, 3] = random effect of cost incongruent for subject 10\n",
            "  U = (diag_pre_multiply(tau, L_u) * U_pr)';\n",
            "  \n",
            "  // compute fixed + random effect for each subject      \n",
            "  for(i in 1:NS) {\n",
            "  \tfor(p in 1:5) {\n",
            "    beta_s[i,p] = mu[p] + U[i,p]; \n",
            "    }\n",
            "  }\n",
            "}\n",
            "\n",
            "model {\n",
            "  // priors (adjusted for bounds)\n",
            "  target += normal_lpdf(mu  | gam_mu_prior, gam_s_prior);\n",
            "  target += normal_lpdf(tau | tau_mu_prior, tau_s_prior) - 5*normal_lccdf(0 | tau_mu_prior, tau_s_prior);\n",
            "  target += lkj_corr_cholesky_lpdf(L_u | 1);\n",
            "  target += std_normal_lpdf(to_vector(U_pr));\n",
            "  // likelihood\n",
            "    choose_stay ~ bernoulli_logit((exp(beta_s[which_S, 1]))\n",
            "                                .* (expected_reward\n",
            "                                    - is_Matching\n",
            "                                      .* ((total_reward\n",
            "                                           - beta_s[which_S, 2]\n",
            "                                             .* number_trees)\n",
            "                                          ./ total_harvest_periods)\n",
            "                                    - is_Mismatching\n",
            "                                      .* ((total_reward\n",
            "                                           - (beta_s[which_S, 2]\n",
            "                                              + (beta_s[which_S, 3]))\n",
            "                                             .* number_trees)\n",
            "                                          ./ total_harvest_periods)\n",
            "                                    - is_small\n",
            "                                      .* ((total_reward\n",
            "                                           - beta_s[which_S, 4]\n",
            "                                             .* number_trees)\n",
            "                                          ./ total_harvest_periods)\n",
            "                                    - is_large\n",
            "                                      .* ((total_reward\n",
            "                                           - (beta_s[which_S, 4]\n",
            "                                              + (beta_s[which_S, 5]))\n",
            "                                             .* number_trees)\n",
            "                                          ./ total_harvest_periods)));\n",
            "}\n",
            "  \n",
            "generated quantities {\n",
            "  // \"recompose\" Choleksy to corr matrix\n",
            "  corr_matrix[5] rho = L_u * L_u';\n",
            "}\n"
          ]
        }
      ]
    },
    {
      "cell_type": "code",
      "source": [
        "# note the sampling can take hours\n",
        "fit_experiment_1 <- mod$sample(\n",
        "  data = foraging_experiment_1_standata,\n",
        "  chains = 4,\n",
        "  parallel_chains = 4,\n",
        "  refresh = 150,\n",
        "  iter_warmup = 500,\n",
        "  iter_sampling = 1000,\n",
        "  thin = 1\n",
        ")\n",
        "\n",
        "fit_experiment_1$summary()\n",
        "cost_travel_experiment_1_fit_full <- fit_experiment_1$draws(format = \"df\")\n",
        "# save the draws and also the model fit object\n",
        "# saveRDS(fit_experiment_1, \"fit_experiment_1.rds\")\n",
        "# write_csv(cost_travel_experiment_1_fit_full, \"cost_travel_experiment_1_fit_full.csv\")"
      ],
      "metadata": {
        "colab": {
          "base_uri": "https://localhost:8080/"
        },
        "id": "xtD8Do6a8nvb",
        "outputId": "80194d77-1714-4ee1-9b94-491138003f7c"
      },
      "execution_count": null,
      "outputs": [
        {
          "output_type": "stream",
          "name": "stdout",
          "text": [
            "Running MCMC with 4 parallel chains...\n",
            "\n"
          ]
        },
        {
          "output_type": "stream",
          "name": "stderr",
          "text": [
            "Chain 1 Informational Message: The current Metropolis proposal is about to be rejected because of the following issue:\n",
            "\n",
            "Chain 1 Exception: lkj_corr_cholesky_lpdf: Random variable[2] is 0, but must be positive! (in '/tmp/Rtmpj9o3ik/model-946472318a.stan', line 66, column 2 to column 44)\n",
            "\n",
            "Chain 1 If this warning occurs sporadically, such as for highly constrained variable types like covariance matrices, then the sampler is fine,\n",
            "\n",
            "Chain 1 but if this warning occurs often then your model may be either severely ill-conditioned or misspecified.\n",
            "\n",
            "Chain 1 \n",
            "\n",
            "Chain 1 Informational Message: The current Metropolis proposal is about to be rejected because of the following issue:\n",
            "\n",
            "Chain 1 Exception: lkj_corr_cholesky_lpdf: Random variable[2] is 0, but must be positive! (in '/tmp/Rtmpj9o3ik/model-946472318a.stan', line 66, column 2 to column 44)\n",
            "\n",
            "Chain 1 If this warning occurs sporadically, such as for highly constrained variable types like covariance matrices, then the sampler is fine,\n",
            "\n",
            "Chain 1 but if this warning occurs often then your model may be either severely ill-conditioned or misspecified.\n",
            "\n",
            "Chain 1 \n",
            "\n",
            "Chain 3 Informational Message: The current Metropolis proposal is about to be rejected because of the following issue:\n",
            "\n",
            "Chain 3 Exception: lkj_corr_cholesky_lpdf: Random variable[2] is 0, but must be positive! (in '/tmp/Rtmpj9o3ik/model-946472318a.stan', line 66, column 2 to column 44)\n",
            "\n",
            "Chain 3 If this warning occurs sporadically, such as for highly constrained variable types like covariance matrices, then the sampler is fine,\n",
            "\n",
            "Chain 3 but if this warning occurs often then your model may be either severely ill-conditioned or misspecified.\n",
            "\n",
            "Chain 3 \n",
            "\n",
            "Chain 1 Informational Message: The current Metropolis proposal is about to be rejected because of the following issue:\n",
            "\n",
            "Chain 1 Exception: lkj_corr_cholesky_lpdf: Random variable[2] is 0, but must be positive! (in '/tmp/Rtmpj9o3ik/model-946472318a.stan', line 66, column 2 to column 44)\n",
            "\n",
            "Chain 1 If this warning occurs sporadically, such as for highly constrained variable types like covariance matrices, then the sampler is fine,\n",
            "\n",
            "Chain 1 but if this warning occurs often then your model may be either severely ill-conditioned or misspecified.\n",
            "\n",
            "Chain 1 \n",
            "\n",
            "Chain 3 Informational Message: The current Metropolis proposal is about to be rejected because of the following issue:\n",
            "\n",
            "Chain 3 Exception: lkj_corr_cholesky_lpdf: Random variable[2] is 0, but must be positive! (in '/tmp/Rtmpj9o3ik/model-946472318a.stan', line 66, column 2 to column 44)\n",
            "\n",
            "Chain 3 If this warning occurs sporadically, such as for highly constrained variable types like covariance matrices, then the sampler is fine,\n",
            "\n",
            "Chain 3 but if this warning occurs often then your model may be either severely ill-conditioned or misspecified.\n",
            "\n",
            "Chain 3 \n",
            "\n",
            "Chain 1 Informational Message: The current Metropolis proposal is about to be rejected because of the following issue:\n",
            "\n",
            "Chain 1 Exception: lkj_corr_cholesky_lpdf: Random variable[2] is 0, but must be positive! (in '/tmp/Rtmpj9o3ik/model-946472318a.stan', line 66, column 2 to column 44)\n",
            "\n",
            "Chain 1 If this warning occurs sporadically, such as for highly constrained variable types like covariance matrices, then the sampler is fine,\n",
            "\n",
            "Chain 1 but if this warning occurs often then your model may be either severely ill-conditioned or misspecified.\n",
            "\n",
            "Chain 1 \n",
            "\n",
            "Chain 4 Informational Message: The current Metropolis proposal is about to be rejected because of the following issue:\n",
            "\n",
            "Chain 4 Exception: lkj_corr_cholesky_lpdf: Random variable[2] is 0, but must be positive! (in '/tmp/Rtmpj9o3ik/model-946472318a.stan', line 66, column 2 to column 44)\n",
            "\n",
            "Chain 4 If this warning occurs sporadically, such as for highly constrained variable types like covariance matrices, then the sampler is fine,\n",
            "\n",
            "Chain 4 but if this warning occurs often then your model may be either severely ill-conditioned or misspecified.\n",
            "\n",
            "Chain 4 \n",
            "\n",
            "Chain 1 Informational Message: The current Metropolis proposal is about to be rejected because of the following issue:\n",
            "\n",
            "Chain 1 Exception: lkj_corr_cholesky_lpdf: Random variable[4] is 0, but must be positive! (in '/tmp/Rtmpj9o3ik/model-946472318a.stan', line 66, column 2 to column 44)\n",
            "\n",
            "Chain 1 If this warning occurs sporadically, such as for highly constrained variable types like covariance matrices, then the sampler is fine,\n",
            "\n",
            "Chain 1 but if this warning occurs often then your model may be either severely ill-conditioned or misspecified.\n",
            "\n",
            "Chain 1 \n",
            "\n",
            "Chain 3 Informational Message: The current Metropolis proposal is about to be rejected because of the following issue:\n",
            "\n",
            "Chain 3 Exception: lkj_corr_cholesky_lpdf: Random variable[2] is 0, but must be positive! (in '/tmp/Rtmpj9o3ik/model-946472318a.stan', line 66, column 2 to column 44)\n",
            "\n",
            "Chain 3 If this warning occurs sporadically, such as for highly constrained variable types like covariance matrices, then the sampler is fine,\n",
            "\n",
            "Chain 3 but if this warning occurs often then your model may be either severely ill-conditioned or misspecified.\n",
            "\n",
            "Chain 3 \n",
            "\n",
            "Chain 4 Informational Message: The current Metropolis proposal is about to be rejected because of the following issue:\n",
            "\n",
            "Chain 4 Exception: lkj_corr_cholesky_lpdf: Random variable[2] is 0, but must be positive! (in '/tmp/Rtmpj9o3ik/model-946472318a.stan', line 66, column 2 to column 44)\n",
            "\n",
            "Chain 4 If this warning occurs sporadically, such as for highly constrained variable types like covariance matrices, then the sampler is fine,\n",
            "\n",
            "Chain 4 but if this warning occurs often then your model may be either severely ill-conditioned or misspecified.\n",
            "\n",
            "Chain 4 \n",
            "\n",
            "Chain 3 Informational Message: The current Metropolis proposal is about to be rejected because of the following issue:\n",
            "\n",
            "Chain 3 Exception: lkj_corr_cholesky_lpdf: Random variable[2] is 0, but must be positive! (in '/tmp/Rtmpj9o3ik/model-946472318a.stan', line 66, column 2 to column 44)\n",
            "\n",
            "Chain 3 If this warning occurs sporadically, such as for highly constrained variable types like covariance matrices, then the sampler is fine,\n",
            "\n",
            "Chain 3 but if this warning occurs often then your model may be either severely ill-conditioned or misspecified.\n",
            "\n",
            "Chain 3 \n",
            "\n",
            "Chain 4 Informational Message: The current Metropolis proposal is about to be rejected because of the following issue:\n",
            "\n",
            "Chain 4 Exception: lkj_corr_cholesky_lpdf: Random variable[2] is 0, but must be positive! (in '/tmp/Rtmpj9o3ik/model-946472318a.stan', line 66, column 2 to column 44)\n",
            "\n",
            "Chain 4 If this warning occurs sporadically, such as for highly constrained variable types like covariance matrices, then the sampler is fine,\n",
            "\n",
            "Chain 4 but if this warning occurs often then your model may be either severely ill-conditioned or misspecified.\n",
            "\n",
            "Chain 4 \n",
            "\n",
            "Chain 3 Informational Message: The current Metropolis proposal is about to be rejected because of the following issue:\n",
            "\n",
            "Chain 3 Exception: lkj_corr_cholesky_lpdf: Random variable[2] is 0, but must be positive! (in '/tmp/Rtmpj9o3ik/model-946472318a.stan', line 66, column 2 to column 44)\n",
            "\n",
            "Chain 3 If this warning occurs sporadically, such as for highly constrained variable types like covariance matrices, then the sampler is fine,\n",
            "\n",
            "Chain 3 but if this warning occurs often then your model may be either severely ill-conditioned or misspecified.\n",
            "\n",
            "Chain 3 \n",
            "\n",
            "Chain 4 Informational Message: The current Metropolis proposal is about to be rejected because of the following issue:\n",
            "\n",
            "Chain 4 Exception: lkj_corr_cholesky_lpdf: Random variable[2] is 0, but must be positive! (in '/tmp/Rtmpj9o3ik/model-946472318a.stan', line 66, column 2 to column 44)\n",
            "\n",
            "Chain 4 If this warning occurs sporadically, such as for highly constrained variable types like covariance matrices, then the sampler is fine,\n",
            "\n",
            "Chain 4 but if this warning occurs often then your model may be either severely ill-conditioned or misspecified.\n",
            "\n",
            "Chain 4 \n",
            "\n",
            "Chain 3 Informational Message: The current Metropolis proposal is about to be rejected because of the following issue:\n",
            "\n",
            "Chain 3 Exception: lkj_corr_cholesky_lpdf: Random variable[2] is 0, but must be positive! (in '/tmp/Rtmpj9o3ik/model-946472318a.stan', line 66, column 2 to column 44)\n",
            "\n",
            "Chain 3 If this warning occurs sporadically, such as for highly constrained variable types like covariance matrices, then the sampler is fine,\n",
            "\n",
            "Chain 3 but if this warning occurs often then your model may be either severely ill-conditioned or misspecified.\n",
            "\n",
            "Chain 3 \n",
            "\n",
            "Chain 4 Informational Message: The current Metropolis proposal is about to be rejected because of the following issue:\n",
            "\n",
            "Chain 4 Exception: lkj_corr_cholesky_lpdf: Random variable[3] is 0, but must be positive! (in '/tmp/Rtmpj9o3ik/model-946472318a.stan', line 66, column 2 to column 44)\n",
            "\n",
            "Chain 4 If this warning occurs sporadically, such as for highly constrained variable types like covariance matrices, then the sampler is fine,\n",
            "\n",
            "Chain 4 but if this warning occurs often then your model may be either severely ill-conditioned or misspecified.\n",
            "\n",
            "Chain 4 \n",
            "\n",
            "Chain 3 Informational Message: The current Metropolis proposal is about to be rejected because of the following issue:\n",
            "\n",
            "Chain 3 Exception: lkj_corr_cholesky_lpdf: Random variable[2] is 0, but must be positive! (in '/tmp/Rtmpj9o3ik/model-946472318a.stan', line 66, column 2 to column 44)\n",
            "\n",
            "Chain 3 If this warning occurs sporadically, such as for highly constrained variable types like covariance matrices, then the sampler is fine,\n",
            "\n",
            "Chain 3 but if this warning occurs often then your model may be either severely ill-conditioned or misspecified.\n",
            "\n",
            "Chain 3 \n",
            "\n",
            "Chain 4 Informational Message: The current Metropolis proposal is about to be rejected because of the following issue:\n",
            "\n",
            "Chain 4 Exception: lkj_corr_cholesky_lpdf: Random variable[3] is 0, but must be positive! (in '/tmp/Rtmpj9o3ik/model-946472318a.stan', line 66, column 2 to column 44)\n",
            "\n",
            "Chain 4 If this warning occurs sporadically, such as for highly constrained variable types like covariance matrices, then the sampler is fine,\n",
            "\n",
            "Chain 4 but if this warning occurs often then your model may be either severely ill-conditioned or misspecified.\n",
            "\n",
            "Chain 4 \n",
            "\n"
          ]
        }
      ]
    }
  ]
}