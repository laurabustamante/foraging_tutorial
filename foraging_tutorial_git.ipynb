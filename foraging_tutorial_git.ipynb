{
  "nbformat": 4,
  "nbformat_minor": 0,
  "metadata": {
    "colab": {
      "provenance": [],
      "toc_visible": true,
      "include_colab_link": true
    },
    "kernelspec": {
      "name": "ir",
      "display_name": "R"
    },
    "language_info": {
      "name": "R"
    }
  },
  "cells": [
    {
      "cell_type": "markdown",
      "metadata": {
        "id": "view-in-github",
        "colab_type": "text"
      },
      "source": [
        "<a href=\"https://colab.research.google.com/github/laurabustamante/foraging_tutorial/blob/main/foraging_tutorial_git.ipynb\" target=\"_parent\"><img src=\"https://colab.research.google.com/assets/colab-badge.svg\" alt=\"Open In Colab\"/></a>"
      ]
    },
    {
      "cell_type": "markdown",
      "source": [
        "# Foraging theory: models and applications to effort-based decision-making\n",
        "<br>\n",
        "Welcome to the tutorial! This tutorial was written by Laura Ana Bustamante from Washington University in St. Louis in April, 2024. Much of the code was adapted from scripts provided to me by Nathaniel Daw, Sean Devine, Kevin Lloyd and Sam Zorowitz, many thanks to them. Thanks to Guillaume Pagnier for feedback on this tutorial.\n",
        "<br>\n",
        "In this tutorial you will learn about how to run simulations to get the optimal policy in a patch foraging environment. Then you will estimate individual differences in willingness to exert cognitive and physical effort by fitting a hierarchical Bayesian Marginal Value Theorem (MVT) model. We will also cover how to utilize hierarchical models to estimate correlations between inter-parameter individual differences. We will use open source Effort Foraging Task data from Bustamante and colleagues (2023).\n",
        "<br>\n",
        "See the [paper](https://www.pnas.org/doi/10.1073/pnas.2221510120) and [OSF](https://osf.io/a4r2e/) repository for complete information."
      ],
      "metadata": {
        "id": "g-VCbVgb9bhC"
      }
    },
    {
      "cell_type": "markdown",
      "source": [
        "# Setup\n",
        "Install and load packages, load data, and other required files."
      ],
      "metadata": {
        "id": "vrDN0U1o2SZy"
      }
    },
    {
      "cell_type": "code",
      "source": [
        "install.packages(\"R.utils\", repos = c(\"https://mc-stan.org/r-packages/\", getOption(\"repos\")))\n",
        "install.packages(\"HDInterval\", repos = c(\"https://mc-stan.org/r-packages/\", getOption(\"repos\")))\n",
        "install.packages(\"lme4\", repos = c(\"https://mc-stan.org/r-packages/\", getOption(\"repos\")))"
      ],
      "metadata": {
        "id": "KCPg_tfKUaoB"
      },
      "execution_count": null,
      "outputs": []
    },
    {
      "cell_type": "code",
      "source": [
        "library(lme4)\n",
        "library(R.utils)\n",
        "library(magrittr)\n",
        "library(tidyr)\n",
        "library(data.table)\n",
        "library(dplyr)\n",
        "library(ggplot2)"
      ],
      "metadata": {
        "id": "YKp3o77kYqgG"
      },
      "execution_count": null,
      "outputs": []
    },
    {
      "cell_type": "markdown",
      "source": [
        "# Simulating patch foraging task to find the best policy\n",
        "\n",
        "First we are going to find the MVT best threshold policy for the foraging environment that participants experiences. This simulated foraging agent, will complete a patch foraging task using fixed exit threshold, and we can then observe the observing the resulting reward rate achieved.\n",
        "\n",
        "To find the best threshold, we used a policy iteration algorithm to find the maximal reward rate for a given foraging environment. The foraging environment was defined by the following parameters from our experiments; the harvest time (2 seconds), travel time (8.33 seconds), the distribution of initial rewards to a tree (N(15, 1)) distribution of the decay function (beta distribution,(alpha=14.90873, beta=2.033008). We assumed the agent knew the mean depletion rate (0.88 multiplied by the previous reward) and used this value to predict the expected reward on the current trial. If the predicted reward ```Er``` was less than or equal to the agent’s threshold ```thresh``` it exited the patch, otherwise it harvested the patch which yielded reward.\n",
        "\n",
        "```\n",
        "# Calculate expected reward based on decay rate\n",
        "Er <- E_kappa * r\n",
        "if (Er < thresh) {\n",
        "  # If expected reward is below threshold, exit\n",
        "  t_counter <- t_counter + d\n",
        "  exit_harvest_counter <- c(exit_harvest_counter, harvest_counter)\n",
        "  exit_harvest_counter_i <- c(exit_harvest_counter_i, harvest_counter)\n",
        "  harvest_counter <- 0\n",
        "} else {\n",
        "  # If expected reward is above threshold, continue harvesting\n",
        "  kappa <- rbeta(1, shape1 = a, shape2 = b)\n",
        "  r <- kappa * r\n",
        "  r_counter <- r_counter + r\n",
        "  t_counter <- t_counter + h\n",
        "  harvest_counter <- harvest_counter + 1\n",
        "}\n",
        "```\n",
        "\n",
        "We simulated 480 ‘seconds’ of foraging time for all experiments (though the result should be robust to duration). The simulation outputs were the ‘best threshold’ (threshold that yielded the highest reward rate, results vary slightly by simulation run), the resulting `best reward rate', as well as the mean and standard deviation number of harvests to reach that exit threshold.\n",
        "\n",
        "The agents' threshold parameter was initialized at 4 apples. For an iteration i, the threshold was set as the mean reward rate observed in iteration i-1, this allowed the threshold to gradually improve in terms of reward rate between iterations. The simulation stopped and the best threshold was determined based on the stopping threshold of a 0.001 apple per second improvement in reward rate on iteration i compared iteration i-1 (with a maximum of 200 iterations)."
      ],
      "metadata": {
        "id": "577PG60SUouD"
      }
    },
    {
      "cell_type": "code",
      "execution_count": null,
      "metadata": {
        "id": "jt9Zf5Wz8vt7"
      },
      "outputs": [],
      "source": [
        "# Define the optimal_threshold function\n",
        "optimal_threshold <- function(d, h, mu, sigma, a, b, time) {\n",
        "\n",
        "  # Initialize variables\n",
        "  thresh_old <- 4\n",
        "  tol <- 1e-3\n",
        "  max_iter <- 200\n",
        "  diff <- 1e3\n",
        "  iter_opt <- 0\n",
        "\n",
        "  # Iterate until convergence or maximum iterations reached\n",
        "  while (diff > tol && iter_opt < max_iter) {\n",
        "    iter_opt <- iter_opt + 1\n",
        "    # Call evaluate_threshold function to get results\n",
        "    results <- evaluate_threshold(thresh_old, max_iter, d, h, mu, sigma, a, b, time)\n",
        "    # Update threshold based on average reward rate\n",
        "    thresh_new <- results$rho_mean * h\n",
        "    diff <- abs(thresh_new - thresh_old)\n",
        "    thresh_old <- thresh_new\n",
        "    # Display iteration information\n",
        "    cat(\"iteration\", iter_opt, \"...\")\n",
        "    cat(\"... threshold value =\", thresh_old, \"...\")\n",
        "    cat(\"... average rho =\", results$rho_mean, \"\\n\")\n",
        "  }\n",
        "\n",
        "  # Return results as a list\n",
        "  list(thresh = thresh_new,\n",
        "       rho = results$rho_mean,\n",
        "       n_harvests_mean = results$n_harvest_mean,\n",
        "       n_harvests_sd = results$n_harvest_sd,\n",
        "       n_exits_mean = results$n_exit_mean,\n",
        "       n_exits_sd = results$n_exit_sd)\n",
        "}\n",
        "\n",
        "# Define the evaluate_threshold function\n",
        "evaluate_threshold <- function(thresh, iter_eval, d, h, mu, sigma, a, b, time) {\n",
        "\n",
        "  # Initialize variables\n",
        "  r_max <- mu + 5\n",
        "  E_kappa <- a / (a + b)\n",
        "  exit_harvest_counter <- c()\n",
        "  rho <- numeric(iter_eval)\n",
        "  num_exit <- numeric(iter_eval)\n",
        "\n",
        "  # Iterate for the specified number of evaluations\n",
        "  for (i in 1:iter_eval) {\n",
        "    t_counter <- 0\n",
        "    r_counter <- 0\n",
        "    harvest_counter <- 0\n",
        "    exit_harvest_counter_i <- c()\n",
        "\n",
        "    # Simulate foraging process\n",
        "    while ((t_counter + h) <= time) {\n",
        "      if (harvest_counter == 0) {\n",
        "        # Get initial reward from a normal distribution\n",
        "        r <- rnorm(1, mean = mu, sd = sigma)\n",
        "        if (r > r_max) {\n",
        "          r <- r_max\n",
        "        }\n",
        "        t_counter <- t_counter + h\n",
        "        r_counter <- r_counter + r\n",
        "        harvest_counter <- harvest_counter + 1\n",
        "      } else {\n",
        "        # Calculate expected reward based on decay rate\n",
        "        Er <- E_kappa * r\n",
        "        if (Er < thresh) {\n",
        "          # If expected reward is below threshold, exit\n",
        "          t_counter <- t_counter + d\n",
        "          exit_harvest_counter <- c(exit_harvest_counter, harvest_counter)\n",
        "          exit_harvest_counter_i <- c(exit_harvest_counter_i, harvest_counter)\n",
        "          harvest_counter <- 0\n",
        "        } else {\n",
        "          # If expected reward is above threshold, continue harvesting\n",
        "          kappa <- rbeta(1, shape1 = a, shape2 = b)\n",
        "          r <- kappa * r\n",
        "          r_counter <- r_counter + r\n",
        "          t_counter <- t_counter + h\n",
        "          harvest_counter <- harvest_counter + 1\n",
        "        }\n",
        "      }\n",
        "    }\n",
        "    # Calculate average reward rate and number of exits\n",
        "    rho[i] <- r_counter / time\n",
        "    num_exit[i] <- length(exit_harvest_counter_i)\n",
        "  }\n",
        "\n",
        "  # Return results as a list\n",
        "  list(rho_mean = mean(rho),\n",
        "       n_harvest_mean = mean(exit_harvest_counter),\n",
        "       n_harvest_sd = sd(exit_harvest_counter),\n",
        "       n_exit_mean = mean(num_exit),\n",
        "       n_exit_sd = sd(num_exit))\n",
        "}"
      ]
    },
    {
      "cell_type": "markdown",
      "source": [
        "Now we are going to find the best threshold for the environment use in Experiment 1 of Bustamante et al. 2023. You can find the numbers reported in the paper in Supplementary Table S7."
      ],
      "metadata": {
        "id": "ACx5FFdI9iIV"
      }
    },
    {
      "cell_type": "code",
      "source": [
        "# call the optimal_threshold function with inputs: (d, h, mu, sigma, a, b, time)\n",
        "# d = travel time, h = harvest time; start reward, normal distribution: mu, sigma; decay, beta distribution: a, b, time = total orchard time\n",
        "result <- optimal_threshold(8.33, 2, 15, 1, 14.90873, 2.033008, 480)\n",
        "\n",
        "# Display the results\n",
        "print(paste(\"best exit threshold:\",\n",
        "            round(result$thresh,5)))\n",
        "print(paste(\"reward rate achieved:\",\n",
        "            round(result$rho,5)))\n",
        "print(paste(\"mean number of harvests before exit:\",\n",
        "            round(result$n_harvests_mean,5)))\n",
        "print(paste(\"sd number of harvests before exit:\",\n",
        "            round(result$n_harvests_sd,5)))\n",
        "print(paste(\"mean number of exits within simulation time:\",\n",
        "            round(result$n_exits_mean,5)))\n",
        "print(paste(\"sd number of exits within simulation time:\",\n",
        "            round(result$n_exits_sd,5)))"
      ],
      "metadata": {
        "id": "7A29BeDw9pZ_"
      },
      "execution_count": null,
      "outputs": []
    },
    {
      "cell_type": "markdown",
      "source": [
        "The ```optimal_threshold``` function allows us to find the best threshold for a given set of foraging environment parameters. Let's use this to explore how optimal behavior should respond to changing environment parameters."
      ],
      "metadata": {
        "id": "rp7IAuoMj8_8"
      }
    },
    {
      "cell_type": "markdown",
      "source": [
        "# Question 1: how will the best exit threshold change if you increase the average starting reward from 15 to 20 apples?\n",
        "Write code below to find out:"
      ],
      "metadata": {
        "id": "wBgNv8lX-DMT"
      }
    },
    {
      "cell_type": "code",
      "source": [
        "# Question 1, find the best exit threshold when the starting reward (mu) is set to 20 apples"
      ],
      "metadata": {
        "id": "aDKK5FAz-HLS"
      },
      "execution_count": null,
      "outputs": []
    },
    {
      "cell_type": "markdown",
      "source": [
        "# Question 2: Which parameters of the environment could you change to decrease the exit threshold?\n",
        " Confirm your predictions with code.\n"
      ],
      "metadata": {
        "id": "rY_J-32i-JUY"
      }
    },
    {
      "cell_type": "code",
      "source": [
        "# Question 2, starting from the environment used in Experiment 1\n",
        "# reference:\n",
        "# result <- optimal_threshold(8.33, 2, 15, 1, 14.90873, 2.033008, 480)\n",
        "# make as many changes as you can think of to decrease the best exit threshold"
      ],
      "metadata": {
        "id": "EEgXeRH3-MY0"
      },
      "execution_count": null,
      "outputs": []
    },
    {
      "cell_type": "markdown",
      "source": [
        "# Empirical patch foraging behavior in humans\n",
        "How do human participants forage compared to the optimal policy? We will look at exit thresholds from the Effort Foraging Task Experiment 1 behavior. We will get the 'overall exit threshold' from the low effort conditions (cognitive and physical) which are least confounded by effort sensitivity. We will explore the impact of effort on foraging behavior (change in exit threshold) later in the tutorial."
      ],
      "metadata": {
        "id": "JgzTfDDj-P4W"
      }
    },
    {
      "cell_type": "code",
      "source": [
        "urlfile=\"https://raw.githubusercontent.com/laurabustamante/foraging_tutorial/main/choiceData_experiment_1.csv.zip\"\n",
        "download.file(urlfile, destfile = \"choiceData_experiment_1.csv.zip\")\n",
        "unzip(\"choiceData_experiment_1.csv.zip\")\n",
        "choiceData_experiment_1 <- readr::read_csv(\"choiceData_experiment_1.csv\")\n",
        "head(choiceData_experiment_1)"
      ],
      "metadata": {
        "id": "XKKxfjn4DlxS"
      },
      "execution_count": null,
      "outputs": []
    },
    {
      "cell_type": "markdown",
      "source": [
        "## Individual differences in overall threshold\n",
        "\n",
        "In the observed data, we typically use linear mixed effects regression on the exit trials to estimate participants exit thresholds (given by the fixed+random effects). Below we extract the individual differences in exit threshold looking only at the low effort blocks, which are least confounded by effort."
      ],
      "metadata": {
        "id": "2Amq4gHf4JmG"
      }
    },
    {
      "cell_type": "code",
      "source": [
        "### Figure S2: Individual differences in overall threshold.\n",
        "lmer_threshold_subj_experiment_1 <- lmer(\n",
        "  'expectedReward ~ 1 + (1 | subject_id)',\n",
        "  data = choiceData_experiment_1 %>%\n",
        "    filter(decision == \"exit\",\n",
        "    effort_level == \"low\"))\n",
        "exit_threshold_subj_experiment_1 <- ranef(lmer_threshold_subj_experiment_1)$subject_id %>%\n",
        "  mutate(subject_id = row.names(.)) %>%\n",
        "  rename(threshold_subj = \"(Intercept)\") %>%\n",
        "  mutate(Threshold = threshold_subj + fixef(lmer_threshold_subj_experiment_1))\n",
        "threshold_subj_max <- max(max(exit_threshold_subj_experiment_1$Threshold))\n",
        "p_threshold_subj_experiment_1 <- ggplot(data = exit_threshold_subj_experiment_1) +\n",
        "  geom_histogram(aes(Threshold),\n",
        "                 binwidth = 0.5) +\n",
        "  labs(y = \"Number of Participants\",\n",
        "       x = \"Overall exit threshold (apples)\") +\n",
        "  scale_y_continuous(breaks = scales::breaks_pretty(n = 3)) +\n",
        "  scale_x_continuous(limits = c(0,\n",
        "                                threshold_subj_max),\n",
        "                     breaks = scales::breaks_pretty()) +\n",
        "  theme(text=element_text(size = 14,\n",
        "                          family = \"serif\"),\n",
        "        axis.text = element_text(size = 14),\n",
        "        panel.background = element_blank(),\n",
        "        panel.grid.major = element_line(size = 0.5,\n",
        "                                        linetype = 'solid',\n",
        "                                        colour = \"grey60\")) +\n",
        "  geom_vline(aes(xintercept = 6.78),\n",
        "             linetype = \"dashed\")\n",
        "print(p_threshold_subj_experiment_1)"
      ],
      "metadata": {
        "id": "2VPVRZUICpKE"
      },
      "execution_count": null,
      "outputs": []
    },
    {
      "cell_type": "markdown",
      "source": [
        "# Question 3: why do some individuals have very low or high exit thresholds?\n",
        "There were large individual differences in foraging strategy!\n",
        "\n",
        "What reasons can you come up with for why some individuals have very high exit thresholds? Or very low thresholds? Can you think of any ways to test your account?"
      ],
      "metadata": {
        "id": "VU4x1RsVVoph"
      }
    },
    {
      "cell_type": "markdown",
      "source": [
        "## Recovering exit thresholds from simulated data\n",
        "Parameter recovery is an important step in validating a computational model. In parameter recovery we take estimated parameters (here, exit threshold) and generate simulated data (here, harvest or exit choices), then we compare the simulated behavior to the empirical data.\n",
        "\n",
        "The code below will generate simulated data for each participant based on their overall exit threshold estimated by regression. Then it will use the same regression method to estimate per participant exit thresholds in simulated data, and check how similar these are to the empirical thresholds."
      ],
      "metadata": {
        "id": "gdBNEwT07mIL"
      }
    },
    {
      "cell_type": "code",
      "source": [
        "# Define the evaluate_threshold function\n",
        "simulate_data <- function(thresh, d, h, mu, sigma, a, b, time) {\n",
        "  # Initialize variables\n",
        "  r_max <- mu + 5\n",
        "  E_kappa <- a / (a + b)\n",
        "  # track observed choices and rewards\n",
        "  choices <- c()\n",
        "  rewards <- c()\n",
        "  kappas <- c()\n",
        "  harvest_counters <- c()\n",
        "  # Iterate for the specified amount of time\n",
        "  t_counter <- 0\n",
        "  r_counter <- 0\n",
        "  harvest_counter <- 0\n",
        "  # Simulate foraging process\n",
        "  while ((t_counter + h) <= time) {\n",
        "    if (harvest_counter == 0) {\n",
        "      # Get initial reward from a normal distribution\n",
        "      r <- rnorm(1, mean = mu, sd = sigma)\n",
        "      if (r > r_max) {\n",
        "        r <- r_max\n",
        "      }\n",
        "      t_counter <- t_counter + h\n",
        "      r_counter <- r_counter + r\n",
        "      harvest_counter <- harvest_counter + 1\n",
        "      choices <- c(choices, \"harvest\")\n",
        "      rewards <- c(rewards, r)\n",
        "      kappas <- c(kappas, NA)\n",
        "      harvest_counters <- c(harvest_counters, harvest_counter)\n",
        "    } else {\n",
        "      # Calculate expected reward based on decay rate\n",
        "      Er <- E_kappa * r\n",
        "      if (Er < thresh) {\n",
        "        # If expected reward is below threshold, exit\n",
        "        t_counter <- t_counter + d\n",
        "        harvest_counter <- 0\n",
        "        choices <- c(choices, \"exit\")\n",
        "        rewards <- c(rewards, 0)\n",
        "        kappas <- c(kappas, NA)\n",
        "      } else {\n",
        "        # If expected reward is above threshold, continue harvesting\n",
        "        kappa <- rbeta(1, shape1 = a, shape2 = b)\n",
        "        r <- kappa * r\n",
        "        r_counter <- r_counter + r\n",
        "        t_counter <- t_counter + h\n",
        "        harvest_counter <- harvest_counter + 1\n",
        "        kappas <- c(kappas, kappa)\n",
        "        choices <- c(choices, \"harvest\")\n",
        "        rewards <- c(rewards, r)\n",
        "      }\n",
        "      harvest_counters <- c(harvest_counters, harvest_counter)\n",
        "    }\n",
        "  }\n",
        "  # Calculate average reward rate and number of exits\n",
        "  data.frame(\n",
        "    decision = choices,\n",
        "    reward = rewards,\n",
        "    travel_duration = d,\n",
        "    choice_duration = h,\n",
        "    start_reward_mean = mu,\n",
        "    start_reward_sd = sigma,\n",
        "    depletion = kappas,\n",
        "    depletion_rate_mean = E_kappa,\n",
        "    depletion_rate_alpha = a,\n",
        "    depletion_rate_beta = b,\n",
        "    round_duration = time,\n",
        "    simulation_threshold = thresh,\n",
        "    harvest_counter = harvest_counters\n",
        "    );\n",
        "}\n",
        "\n",
        "choiceData_experiment_1_simulated <- c()\n",
        "for (s in 1:dim(exit_threshold_subj_experiment_1)[1]){\n",
        "  simulated_participant <- simulate_data(\n",
        "    exit_threshold_subj_experiment_1$Threshold[s], 8.33, 2, 15, 1, 14.90873, 2.033008, 480) %>%\n",
        "      mutate(subject_id = exit_threshold_subj_experiment_1$subject_id[s],\n",
        "            last_reward = lag(reward),\n",
        "            second_last_reward = lag(last_reward),\n",
        "            expectedReward = ((last_reward+second_last_reward)/2)*depletion_rate_mean,\n",
        "            expectedReward = ifelse(harvest_counter == 1,\n",
        "                                    last_reward*depletion_rate_mean,\n",
        "                                    expectedReward))\n",
        "  choiceData_experiment_1_simulated <- bind_rows(choiceData_experiment_1_simulated,\n",
        "                                      simulated_participant)\n",
        "}\n",
        "head(choiceData_experiment_1_simulated,25)\n"
      ],
      "metadata": {
        "id": "l7icy1hOv8cG"
      },
      "execution_count": null,
      "outputs": []
    },
    {
      "cell_type": "markdown",
      "source": [
        "Now that we have the simulated data, we will fit the same regression model and plot the individual differences in overall exit threshold.  "
      ],
      "metadata": {
        "id": "yxI1IdYu9w6V"
      }
    },
    {
      "cell_type": "code",
      "source": [
        "lmer_threshold_subj_experiment_1_simulated <- lmer(\n",
        "  'expectedReward ~ 1 + (1 | subject_id)',\n",
        "  data = choiceData_experiment_1_simulated %>%\n",
        "    filter(decision == \"exit\"))\n",
        "summary(lmer_threshold_subj_experiment_1_simulated)\n",
        "\n",
        "exit_threshold_subj_experiment_1_simulated <- ranef(lmer_threshold_subj_experiment_1_simulated)$subject_id %>%\n",
        "  mutate(subject_id = row.names(.)) %>%\n",
        "  rename(threshold_subj = \"(Intercept)\") %>%\n",
        "  mutate(Threshold = threshold_subj + fixef(lmer_threshold_subj_experiment_1_simulated))\n",
        "threshold_subj_max <- max(max(exit_threshold_subj_experiment_1_simulated$Threshold))\n",
        "p_threshold_subj_experiment_1_simulated <- ggplot(data = exit_threshold_subj_experiment_1_simulated) +\n",
        "  geom_histogram(aes(Threshold),\n",
        "                 binwidth = 0.5) +\n",
        "  labs(y = \"Number of Simulated Participants\",\n",
        "       x = \"Overall exit threshold (apples)\") +\n",
        "  scale_y_continuous(breaks = scales::breaks_pretty(n = 3)) +\n",
        "  scale_x_continuous(limits = c(0,\n",
        "                                threshold_subj_max),\n",
        "                     breaks = scales::breaks_pretty()) +\n",
        "  theme(text=element_text(size = 14,\n",
        "                          family = \"serif\"),\n",
        "        axis.text = element_text(size = 14),\n",
        "        panel.background = element_blank(),\n",
        "        panel.grid.major = element_line(size = 0.5,\n",
        "                                        linetype = 'solid',\n",
        "                                        colour = \"grey60\")) +\n",
        "  geom_vline(aes(xintercept = 6.78),\n",
        "             linetype = \"dashed\")\n",
        "print(p_threshold_subj_experiment_1_simulated)"
      ],
      "metadata": {
        "id": "NrQDnMbRzuca"
      },
      "execution_count": null,
      "outputs": []
    },
    {
      "cell_type": "markdown",
      "source": [
        "The distribution looks quite similar! In the code below we can directly compare the true thresholds to the simulated thresholds."
      ],
      "metadata": {
        "id": "bc5nPPhk-RiH"
      }
    },
    {
      "cell_type": "code",
      "source": [
        "exit_threshold_compare_real_simulated <- exit_threshold_subj_experiment_1 %>%\n",
        "  select(subject_id,\n",
        "Threshold) %>%\n",
        "  full_join(exit_threshold_subj_experiment_1_simulated %>%\n",
        "  select(subject_id,\n",
        "Threshold_simulated = Threshold),\n",
        "by = \"subject_id\")\n",
        "head(exit_threshold_compare_real_simulated)\n",
        "\n",
        "ggplot(data = exit_threshold_compare_real_simulated,\n",
        "aes(x = Threshold,\n",
        "  y = Threshold_simulated)) +\n",
        "  geom_point() +\n",
        "  labs(y = \"Simulated exit threshold (apples)\",\n",
        "       x = \"Observed exit threshold (apples)\") +\n",
        "  theme(text=element_text(size = 14,\n",
        "                          family = \"serif\"),\n",
        "        axis.text = element_text(size = 14),\n",
        "        panel.background = element_blank(),\n",
        "        panel.grid.major = element_line(size = 0.5,\n",
        "                                        linetype = 'solid',\n",
        "                                        colour = \"grey60\")) +\n",
        "  geom_abline(aes(intercept = 0,\n",
        "                  slope = 1),\n",
        "             linetype = \"dashed\")"
      ],
      "metadata": {
        "id": "Y7llnq0d2o4-"
      },
      "execution_count": null,
      "outputs": []
    },
    {
      "cell_type": "markdown",
      "source": [
        "Recovery looks pretty good, except for very high exit thresholds. Can you think of any reasons this might be? Hint: patch decay is non-linear... Bonus exercise: repeat these steps but use the 'expectedReward_log' variable.  "
      ],
      "metadata": {
        "id": "xXwG7g0g-mcT"
      }
    },
    {
      "cell_type": "markdown",
      "source": [
        "# Effect of effort on foraging behavior\n",
        "\n",
        "Lastly, we are going to examine the effect of the effortful travel tasks on foraging behavior"
      ],
      "metadata": {
        "id": "-2sunib-v0XR"
      }
    },
    {
      "cell_type": "code",
      "source": [
        "### Figure S1: Group level exit thresholds by Experiment\n",
        "threshold_by_effort_type_subj_experiment_1 <- choiceData_experiment_1 %>%\n",
        "  filter(decision == \"exit\") %>%\n",
        "  group_by(effort_level, travel_task, subject_id) %>%\n",
        "  summarise(Threshold = mean(expectedReward, na.rm = TRUE),\n",
        "            Threshold_sd = sd(expectedReward, na.rm = TRUE))\n",
        "\n",
        "threshold_by_effort_type_experiment_1 <- threshold_by_effort_type_subj_experiment_1 %>%\n",
        "  summarise(threshold = mean(Threshold, na.rm = TRUE),\n",
        "            nsubj = n(),\n",
        "            threshold_sem = sd(Threshold, na.rm = TRUE)/sqrt(nsubj)) %>%\n",
        "  mutate(threshold_sem = ifelse(is.na(threshold_sem), 0, threshold_sem),\n",
        "         block_str = case_when(effort_level == \"low\" & travel_task == \"msit\" ~\n",
        "                                 \"Cognitive, low\",\n",
        "                               effort_level == \"high\" & travel_task == \"msit\" ~\n",
        "                                 \"Cognitive, high\",\n",
        "                               effort_level == \"low\" & travel_task == \"bp\" ~\n",
        "                                 \"Physical, low\",\n",
        "                               effort_level == \"high\" & travel_task == \"bp\" ~\n",
        "                                 \"Physical, high\"),\n",
        "         block_str = factor(block_str,\n",
        "                            levels = c(\"Cognitive, low\",\n",
        "                                       \"Cognitive, high\",\n",
        "                                       \"Physical, low\",\n",
        "                                       \"Physical, high\")),\n",
        "         experiment = \"Experiment 1\")\n",
        "\n",
        "threshold_max <- max(threshold_by_effort_type_experiment_1$threshold +\n",
        "                    threshold_by_effort_type_experiment_1$threshold_sem) + 0.5\n",
        "\n",
        "p_threshold_experiment_1 <- ggplot(data = threshold_by_effort_type_experiment_1) +\n",
        "  geom_bar(aes(x = block_str,\n",
        "               y = threshold,\n",
        "               fill = effort_level),\n",
        "           stat = \"identity\",\n",
        "           position = position_dodge(),\n",
        "           width = 0.6,\n",
        "           size = 2) +\n",
        "  geom_hline(aes(yintercept = 6.78),\n",
        "             linetype = \"dashed\") +\n",
        "  scale_fill_manual(values=c(\"grey30\",\n",
        "                             \"grey50\")) +\n",
        "      geom_errorbar(aes(x = block_str,\n",
        "                      ymax = threshold + threshold_sem,\n",
        "                      ymin = threshold - threshold_sem),\n",
        "                      width = 0,\n",
        "                      size = 1,\n",
        "                      position = position_dodge(width=0.1),\n",
        "                      color = \"black\") +\n",
        "  labs(title = \"Experiment 1 (MSIT)\",\n",
        "       y = \"Group mean exit threshold (apples)\",\n",
        "       fill = \"Effort level\",\n",
        "       tags = \"A\") +\n",
        "  theme(text=element_text(size = 14,\n",
        "                          family = \"serif\"),\n",
        "        axis.text.y = element_text(size = 14),\n",
        "        axis.text.x = element_text(size = 12,\n",
        "                                   angle = 45,\n",
        "                                   vjust = 1,\n",
        "                                   hjust = 1.1),\n",
        "        axis.title.x = element_blank(),\n",
        "        legend.position = \"none\",\n",
        "        panel.background = element_blank(),\n",
        "        panel.grid.major.x = element_blank(),\n",
        "        panel.grid.major.y = element_line(size = 0.5,\n",
        "                                        linetype = 'solid',\n",
        "                                        colour = \"grey60\")) +\n",
        "  scale_y_continuous(limits = c(0, threshold_max),\n",
        "                     breaks = scales::breaks_pretty())\n",
        "print(p_threshold_experiment_1)"
      ],
      "metadata": {
        "id": "-0RKL12zvy7l"
      },
      "execution_count": null,
      "outputs": []
    },
    {
      "cell_type": "markdown",
      "source": [
        "The prediction was that exit thresholds would be lower in high relative to low effort conditions, it does look like that is the case, but we can plot it more directly by taking the difference in exit thresholds per effort level, per participant."
      ],
      "metadata": {
        "id": "JbtsheNc_dCK"
      }
    },
    {
      "cell_type": "code",
      "source": [
        "### Figure 3: Change in exit thresholds by effort condition.\n",
        "# participant\n",
        "change_exit_threshold_participant_experiment_1 <- choiceData_experiment_1 %>%\n",
        "  filter(decision == \"exit\") %>%\n",
        "  group_by(subject_id, travel_task, effort_level) %>%\n",
        "  summarise(exit_threshold = mean(expectedReward, na.rm = TRUE)) %>%\n",
        "  pivot_wider(names_from = c(\"travel_task\",\n",
        "                             \"effort_level\"),\n",
        "              values_from = c(\"exit_threshold\")) %>%\n",
        "  mutate(change_exit_msit = msit_high - msit_low,\n",
        "         change_exit_bp = bp_high - bp_low) %>%\n",
        "  ungroup() %>%\n",
        "  select(subject_id,\n",
        "         change_exit_msit,\n",
        "         change_exit_bp) %>%\n",
        "  pivot_longer(-subject_id) %>%\n",
        "  mutate(effort_type = case_when(name == \"change_exit_msit\" ~ \"Cognitive (MSIT)\",\n",
        "                                 name == \"change_exit_bp\" ~ \"Physical\"),\n",
        "         effort_type = factor(effort_type,\n",
        "                              levels = c(\"Cognitive (MSIT)\",\n",
        "                                         \"Physical\")))\n",
        "change_exit_threshold_min <- min(change_exit_threshold_participant_experiment_1$value)\n",
        "change_exit_threshold_max <- max(change_exit_threshold_participant_experiment_1$value)\n",
        "\n",
        "# group\n",
        "nsubj_experiment_1 <- length(unique(choiceData_experiment_1$subject_id))\n",
        "change_exit_threshold_group_experiment_1 <- change_exit_threshold_participant_experiment_1 %>%\n",
        "  group_by(effort_type) %>%\n",
        "  summarise(change_threshold_group_mean = mean(value),\n",
        "            change_threshold_group_sem = sd(value)/sqrt(nsubj_experiment_1))\n",
        "change_threshold_group_min <- min(change_exit_threshold_group_experiment_1$change_threshold_group_mean -\n",
        "                         change_exit_threshold_group_experiment_1$change_threshold_group_sem)\n",
        "# plot\n",
        "p_change_exit_threshold_group_experiment_1 <- ggplot(\n",
        "  data = change_exit_threshold_group_experiment_1,\n",
        "       aes(y = change_threshold_group_mean, x = effort_type)) +\n",
        "  geom_bar(stat = \"identity\", position = position_dodge(width=0.9)) +\n",
        "  labs(y = \"Change exit threshold (high - low effort, apples)\",\n",
        "       tag = \"A\") +\n",
        "    geom_errorbar(aes(ymax = change_threshold_group_mean + change_threshold_group_sem,\n",
        "                    ymin= change_threshold_group_mean - change_threshold_group_sem),\n",
        "                  width = 0,\n",
        "                  size = 1,\n",
        "                  position = position_dodge(width=0.9),\n",
        "                  color = \"grey20\") +\n",
        "  geom_hline(yintercept = 0,\n",
        "             color = \"black\") +\n",
        "  scale_y_continuous(limits = c(change_threshold_group_min, 0),\n",
        "                     breaks = scales::breaks_pretty()) +\n",
        "  theme(text = element_text(size = 14,\n",
        "                            family = \"Times New Roman\"),\n",
        "        axis.text = element_text(size = 14),\n",
        "        axis.title.x = element_blank(),\n",
        "        panel.background = element_blank(),\n",
        "        panel.grid.major = element_line(size = 0.5,\n",
        "                                          linetype = 'solid',\n",
        "                                colour = \"grey60\"),\n",
        "        panel.grid.major.x = element_blank())\n",
        "print(p_change_exit_threshold_group_experiment_1)\n",
        "\n",
        "p_change_exit_threshold_participant_experiment_1 <- ggplot(\n",
        "  data = change_exit_threshold_participant_experiment_1) +\n",
        "  geom_histogram(aes(value),\n",
        "                 binwidth = 0.25) +\n",
        "  facet_wrap(~ effort_type,\n",
        "             ncol = 1) +\n",
        "  labs(y = \"Number of participants\",\n",
        "       x = \"Change exit threshold (high - low effort, apples)\",\n",
        "       tag = \"B\") +\n",
        "  scale_y_continuous(breaks = scales::breaks_pretty()) +\n",
        "  scale_x_continuous(limits = c(change_exit_threshold_min,\n",
        "                                change_exit_threshold_max),\n",
        "                     breaks = scales::breaks_pretty()) +\n",
        "  theme(text=element_text(size = 14,\n",
        "                          family = \"Times New Roman\"),\n",
        "        axis.text = element_text(size = 14),\n",
        "        panel.background = element_blank(),\n",
        "        panel.grid.major = element_line(size = 0.5,\n",
        "                                          linetype = 'solid',\n",
        "                                colour = \"grey60\")) +\n",
        "  geom_vline(xintercept = 0)\n",
        "print(p_change_exit_threshold_participant_experiment_1)"
      ],
      "metadata": {
        "id": "bB2ErWiyCRv3"
      },
      "execution_count": null,
      "outputs": []
    },
    {
      "cell_type": "markdown",
      "source": [
        "# Question 4: positive values for change in exit threshold\n",
        "We predicted participants would have a lower exit threshold in the high versus low effort condition. Here we can see that some participants showed a higher exit threshold in the high relative to low effort condition. What hypotheses can you come up with for why participants did this? Can you think of an analysis you can do in this study to test your account? Is there an experiment you could design to test your hypothesis?"
      ],
      "metadata": {
        "id": "JEVwRlwdex5a"
      }
    },
    {
      "cell_type": "markdown",
      "source": [
        "#Question 5: How well can we recover the change in exit threshold?\n",
        "It seems like we can recover overall exit thresholds well, but to get the effect of effort on foraging behavior we have to be able to detect changes in exit thresholds. Next we will calculate the change in exit threshold from high to low cognitive effort and simulate it."
      ],
      "metadata": {
        "id": "Pb58Qa9ZBjVh"
      }
    },
    {
      "cell_type": "code",
      "source": [
        "# Extract the threshold for high and low effort for each participant,\n",
        "# simulate the data, and compare the change in exit threshold for the simulated versus empirical data.\n",
        "lmer_change_threshold_subj_experiment_1 <- lmer(\n",
        "  'expectedReward ~ 1 + isMatching + (1 + isMatching | subject_id)',\n",
        "  data = choiceData_experiment_1 %>%\n",
        "    filter(decision == \"exit\",\n",
        "           travelTask == \"MSIT\"))\n",
        "change_exit_threshold_subj_experiment_1 <- ranef(lmer_change_threshold_subj_experiment_1)$subject_id %>%\n",
        "  transmute(subject_id = row.names(.),\n",
        "         threshold_high_effort = `(Intercept)`+fixef(lmer_change_threshold_subj_experiment_1)[1],\n",
        "         threshold_change = isMatching+fixef(lmer_change_threshold_subj_experiment_1)[2],\n",
        "         threshold_low_effort = threshold_high_effort+threshold_change)\n",
        "head(change_exit_threshold_subj_experiment_1)\n",
        "\n",
        "choiceData_experiment_1_change_threshold_simulated <- c()\n",
        "for (s in 1:dim(change_exit_threshold_subj_experiment_1)[1]){\n",
        "  simulated_low_effort_participant <- simulate_data(\n",
        "    change_exit_threshold_subj_experiment_1$threshold_low_effort[s], 8.33, 2, 15, 1, 14.90873, 2.033008, 480) %>%\n",
        "      mutate(subject_id = change_exit_threshold_subj_experiment_1$subject_id[s],\n",
        "            last_reward = lag(reward),\n",
        "            second_last_reward = lag(last_reward),\n",
        "            expectedReward = ((last_reward+second_last_reward)/2)*depletion_rate_mean,\n",
        "            expectedReward = ifelse(harvest_counter == 1,\n",
        "                                    last_reward*depletion_rate_mean,\n",
        "                                    expectedReward),\n",
        "            isMatching = 1)\n",
        "  simulated_high_effort_participant <- simulate_data(\n",
        "    change_exit_threshold_subj_experiment_1$threshold_high_effort[s], 8.33, 2, 15, 1, 14.90873, 2.033008, 480) %>%\n",
        "      mutate(subject_id = change_exit_threshold_subj_experiment_1$subject_id[s],\n",
        "            last_reward = lag(reward),\n",
        "            second_last_reward = lag(last_reward),\n",
        "            expectedReward = ((last_reward+second_last_reward)/2)*depletion_rate_mean,\n",
        "            expectedReward = ifelse(harvest_counter == 1,\n",
        "                                    last_reward*depletion_rate_mean,\n",
        "                                    expectedReward),\n",
        "            isMatching = 0)\n",
        "  choiceData_experiment_1_change_threshold_simulated <- bind_rows(choiceData_experiment_1_change_threshold_simulated,\n",
        "                                      simulated_low_effort_participant) %>%\n",
        "                                        bind_rows(., simulated_high_effort_participant)\n",
        "}\n",
        "head(choiceData_experiment_1_change_threshold_simulated,25)"
      ],
      "metadata": {
        "id": "Ch4o-u8TcXoz"
      },
      "execution_count": null,
      "outputs": []
    },
    {
      "cell_type": "markdown",
      "source": [
        "How well can we recover the change in exit threshold? Write code to run the mixed effects regression on the simulated data, and plot the observed change in exit threshold against the simulated change in exit threshold."
      ],
      "metadata": {
        "id": "qGYAlxkmFqmh"
      }
    },
    {
      "cell_type": "code",
      "source": [
        "# Answer Question 5"
      ],
      "metadata": {
        "id": "grvyf9JUn1ae"
      },
      "execution_count": null,
      "outputs": []
    },
    {
      "cell_type": "markdown",
      "source": [
        "# Hierarchal Bayesian MVT model\n",
        "\n",
        "In order to recover effort costs, we went beyond just estimating exit thresholds, and built an MVT model to predict trial by trial foraging choices. First we will load data formatted for the model, the OSF repository includes code to create this data."
      ],
      "metadata": {
        "id": "6ExKTGewbKKs"
      }
    },
    {
      "cell_type": "code",
      "source": [
        "urlfile=\"https://raw.githubusercontent.com/laurabustamante/foraging_tutorial/main/foraging_mvt_stan_data_experiment_1.csv.zip\"\n",
        "download.file(urlfile, destfile = \"foraging_mvt_stan_data_experiment_1.zip\")\n",
        "unzip(\"foraging_mvt_stan_data_experiment_1.zip\")\n",
        "data <- readr::read_csv(\"foraging_mvt_stan_data_experiment_1.csv\")\n",
        "head(data)\n",
        "# stan requires a list as input\n",
        "foraging_experiment_1_standata <- list(NS = unique(data$NS),\n",
        "                               K = dim(data)[1],\n",
        "                               choose_stay = data$choose_stay,\n",
        "                               which_S = data$which_S,\n",
        "                               total_reward = data$total_reward,\n",
        "                               total_harvest_periods = data$total_harvest_periods,\n",
        "                               number_trees = data$number_trees,\n",
        "                               expected_reward = data$expected_reward,\n",
        "                               is_Matching = data$is_Matching,\n",
        "                               is_Mismatching = data$is_Mismatching,\n",
        "                               is_small = data$is_small,\n",
        "                               is_large = data$is_large)"
      ],
      "metadata": {
        "id": "Ff74uTNiKk8f"
      },
      "execution_count": null,
      "outputs": []
    },
    {
      "cell_type": "markdown",
      "source": [
        "Here is the model code, don't worry about understanding all of it, we will zoom in on the most important parts:\n",
        "```\n",
        "data {\n",
        "  int NS; // number of particiants\n",
        "  int K; // length of all trials for all participants\n",
        "  array[K] int choose_stay; // whether participant exits the patch (0) or not (1)\n",
        "  array[K] int<lower=1, upper=NS> which_S;\n",
        "  vector[K] total_reward; // total rewards per block type\n",
        "  vector[K] total_harvest_periods; // time spent per block type\n",
        "  vector[K] number_trees; // how many trees visited per block type\n",
        "  vector[K] expected_reward; // reward expected on a trial\n",
        "  vector[K] is_Matching; // 1 = congruent trial block, 0 = not\n",
        "  vector[K] is_Mismatching; // 1 = interference trial block, 0 = not\n",
        "  vector[K] is_small; // 1 = physical low efffort block, 0 = not\n",
        "  vector[K] is_large; // 1 = physical high efffort block, 0 = not\n",
        "}\n",
        "\n",
        "transformed data {\n",
        "  // fixed effects prior ~ N(X_mu_prior, X_s_prior)\n",
        "  // [1] = log inv_temp\n",
        "  // [2] = cost_congruent\n",
        "  // [3] = cost_interference\n",
        "  // [4] = cost_small\n",
        "  // [5] = cost_large\n",
        "  vector[5] gam_mu_prior = [0, 0, 0, 0, 0]';     // mean of fixed effect prior\n",
        "  vector[5] gam_s_prior  = [0.5, 40, 30, 40, 30]'; // sd of fixed effect prior\n",
        "  vector[5] tau_mu_prior = [0.5, 20, 15, 20, 15]'; // mean of random variance prior\n",
        "  vector[5] tau_s_prior  = [0.5, 20, 15, 20, 15]'; // sd of random variance prior\n",
        "}\n",
        "\n",
        "parameters {\n",
        "  // [1] = log inv_temp\n",
        "  // [2] = cost_congruent\n",
        "  // [3] = cost_interference\n",
        "  // [4] = cost_small\n",
        "  // [5] = cost_large\n",
        "  // session mean parameters\n",
        "  vector[5] mu;           //  fixed effects\n",
        "  vector<lower=0>[5] tau; // spread of random effects\n",
        "  // reparameterization, all random effects in a single matrix\n",
        "  matrix[5, NS] U_pr;            // uncorreleated random effects\n",
        "  cholesky_factor_corr[5] L_u;  // decomposition of corr matrix to lower triangular matrix\n",
        "}\n",
        "\n",
        "transformed parameters {\n",
        "  matrix[NS, 5] U;      // random effects\n",
        "  matrix[NS, 5] beta_s; // fixed + random effects\n",
        "  // transform random effects\n",
        "  // these have dimensions NS x Number of parameters\n",
        "  // for example,\n",
        "  // U[1,1]   = random effect inv. temp for subject 1\n",
        "  // U[10, 3] = random effect of cost incongruent for subject 10\n",
        "  U = (diag_pre_multiply(tau, L_u) * U_pr)';\n",
        "  \n",
        "  // compute fixed + random effect for each subject      \n",
        "  for(i in 1:NS) {\n",
        "  \tfor(p in 1:5) {\n",
        "    beta_s[i,p] = mu[p] + U[i,p];\n",
        "    }\n",
        "  }\n",
        "}\n",
        "\n",
        "model {\n",
        "  // priors (adjusted for bounds)\n",
        "  target += normal_lpdf(mu  | gam_mu_prior, gam_s_prior);\n",
        "  target += normal_lpdf(tau | tau_mu_prior, tau_s_prior) - 5*normal_lccdf(0 | tau_mu_prior, tau_s_prior);\n",
        "  target += lkj_corr_cholesky_lpdf(L_u | 1);\n",
        "  target += std_normal_lpdf(to_vector(U_pr));\n",
        "  // likelihood\n",
        "    choose_stay ~ bernoulli_logit((exp(beta_s[which_S, 1]))\n",
        "                                .* (expected_reward\n",
        "                                    - is_Matching\n",
        "                                      .* ((total_reward\n",
        "                                           - beta_s[which_S, 2]\n",
        "                                             .* number_trees)\n",
        "                                          ./ total_harvest_periods)\n",
        "                                    - is_Mismatching\n",
        "                                      .* ((total_reward\n",
        "                                           - (beta_s[which_S, 2]\n",
        "                                              + (beta_s[which_S, 3]))\n",
        "                                             .* number_trees)\n",
        "                                          ./ total_harvest_periods)\n",
        "                                    - is_small\n",
        "                                      .* ((total_reward\n",
        "                                           - beta_s[which_S, 4]\n",
        "                                             .* number_trees)\n",
        "                                          ./ total_harvest_periods)\n",
        "                                    - is_large\n",
        "                                      .* ((total_reward\n",
        "                                           - (beta_s[which_S, 4]\n",
        "                                              + (beta_s[which_S, 5]))\n",
        "                                             .* number_trees)\n",
        "                                          ./ total_harvest_periods)));\n",
        "}\n",
        "  \n",
        "generated quantities {\n",
        "  // \"recompose\" Choleksy to corr matrix\n",
        "  corr_matrix[5] rho = L_u * L_u';\n",
        "}\n",
        "\n",
        "// \"recompose\" Choleksy to corr matrix\n",
        "  corr_matrix[5] rho = L_u * L_u';\n",
        "}\n",
        "```\n",
        "\n",
        "The MVT rule is in this code segment:\n",
        "\n",
        "```\n",
        "// likelihood\n",
        "    choose_stay ~ bernoulli_logit((exp(beta_s[which_S, 1]))\n",
        "                                .* (expected_reward\n",
        "                                    - is_Matching\n",
        "                                      .* ((total_reward\n",
        "                                           - beta_s[which_S, 2]\n",
        "                                             .* number_trees)\n",
        "                                          ./ total_harvest_periods)\n",
        "                                    - is_Mismatching\n",
        "                                      .* ((total_reward\n",
        "                                           - (beta_s[which_S, 2]\n",
        "                                              + (beta_s[which_S, 3]))\n",
        "                                             .* number_trees)\n",
        "                                          ./ total_harvest_periods)\n",
        "```\n",
        "\n",
        "For each foraging trial, model compares the expected reward on the next harvest (```expected_reward```), defined as the average of the previous harvest and the product of the previous harvest with the mean depletion rate (0.88)) against the overall average reward rate for a condition (effort level/type, here indicated by the variables ```is_Matching, is_Mismatching, is_small, is_large```), using a softmax function (with inverse temperature parameter, ```beta_s[which_S, 1]```) to make a choice (stay or exit). The cost of travel in high effort blocks (```beta_s[which_S, 3]``` and ```beta_s[which_S, 5]```) was expressed as the marginal increase in cost of travel (```beta_s[which_S, 2]+beta_s[which_S, 3]``` and ```beta_s[which_S, 4]+beta_s[which_S, 5]```) from low to high effort. Defining this cost as a difference measure controls for any additional biases individual participants may have which are common to both conditions (i.e., consistently high exit thresholds for some participants and low thresholds for others). The conditions are (```is_Matching, is_Mismatching, is_small, is_large```). The parameters of greatest interest are cognitive effort cost ```beta_s[which_S, 3]``` and physical effort cost ```beta_s[which_S, 5]```."
      ],
      "metadata": {
        "id": "likzJiMXws-e"
      }
    },
    {
      "cell_type": "markdown",
      "source": [
        "## Results from pre-fitted model\n",
        "The model can take a significant amount of time to run, so we will load in a pre-fitted models."
      ],
      "metadata": {
        "id": "5ngtKPE8Kilz"
      }
    },
    {
      "cell_type": "code",
      "source": [
        "urlfile=\"https://raw.githubusercontent.com/laurabustamante/foraging_tutorial/main/cmdstan_samples_allsubs_experiment_1.tsv.gz\"\n",
        "download.file(urlfile, destfile = \"/content/cmdstan_samples_allsubs_experiment_1.tsv.gz\")\n",
        "# load pre-fitted model\n",
        "cost_travel_stan_fit_experiment_1 <- data.table::fread(\"/content/cmdstan_samples_allsubs_experiment_1.tsv.gz\")\n",
        "cost_travel_fit_vars <- c(\"inv_temp\",\n",
        "                          \"cost_matching\",\n",
        "                          \"cost_mismatching\",\n",
        "                          \"cost_small\",\n",
        "                          \"cost_large\")\n",
        "cost_travel_fit_vars_titles <- c(\"Inverse Tempurature\",\n",
        "                                \"Cognitive Low Effort Travel Cost\",\n",
        "                                \"Cognitive Effort Cost\",\n",
        "                                \"Physical Low Effort Travel Cost\",\n",
        "                                \"Physical Effort Cost\")"
      ],
      "metadata": {
        "id": "92OxaEfhBlDr"
      },
      "execution_count": null,
      "outputs": []
    },
    {
      "cell_type": "markdown",
      "source": [
        "## Group level posterior distributions"
      ],
      "metadata": {
        "id": "7JB6H1km49Vo"
      }
    },
    {
      "cell_type": "code",
      "source": [
        "### Table S1: Group level posterior distributions.\n",
        "cost_travel_stan_fit_group_experiment_1 <- cost_travel_stan_fit_experiment_1 %>%\n",
        "    select(contains(\"beta_ms[\")) %>%\n",
        "    pivot_longer(everything(),\n",
        "                 names_to = \"params\",\n",
        "                 values_to = \"params_val\") %>%\n",
        "    mutate(param_name = case_when(params == \"beta_ms[1]\" ~ cost_travel_fit_vars_titles[1],\n",
        "                                  params == \"beta_ms[2]\" ~ cost_travel_fit_vars_titles[2],\n",
        "                                  params == \"beta_ms[3]\" ~ cost_travel_fit_vars_titles[3],\n",
        "                                  params == \"beta_ms[4]\" ~ cost_travel_fit_vars_titles[4],\n",
        "                                  params == \"beta_ms[5]\" ~ cost_travel_fit_vars_titles[5]))\n",
        "table_S1 <- cost_travel_stan_fit_group_experiment_1 %>%\n",
        "  ungroup() %>%\n",
        "  group_by(param_name) %>%\n",
        "  summarise(mean = mean(params_val),\n",
        "            lower = HDInterval::hdi(params_val, credMass = 0.95)[1],\n",
        "            upper = HDInterval::hdi(params_val, credMass = 0.95)[2]) %T>%\n",
        "  print()"
      ],
      "metadata": {
        "id": "NrdULDPFF_Sc"
      },
      "execution_count": null,
      "outputs": []
    },
    {
      "cell_type": "markdown",
      "source": [
        "On average we see that the group-level cognitive effort cost is 7.55 apples, and the physical effort cost is 13.5 apples in Experiment 1. How variable were those values?"
      ],
      "metadata": {
        "id": "JpYKqhtLDqY-"
      }
    },
    {
      "cell_type": "markdown",
      "source": [
        "## Individual differences in effort costs"
      ],
      "metadata": {
        "id": "JBZffLDSeEp7"
      }
    },
    {
      "cell_type": "code",
      "source": [
        "urlfile=\"https://raw.githubusercontent.com/laurabustamante/foraging_tutorial/main/cost_travel_participant_experiment_1.csv.zip\"\n",
        "download.file(urlfile, destfile = \"/content/cost_travel_participant_experiment_1.csv.zip\")\n",
        "unzip(\"/content/cost_travel_participant_experiment_1.csv.zip\")\n",
        "cost_travel_participant_experiment_1 <- readr::read_csv(\"cost_travel_participant_experiment_1.csv\") %>%\n",
        "   mutate(param_name_str = case_when(param_name == \"cost_large\" ~ \"Physical effort cost\",\n",
        "                                    param_name == \"cost_small\" ~ \"Physical low effort cost\",\n",
        "                                    param_name == \"cost_matching\" ~ \"Cognitive low effort cost\",\n",
        "                                    param_name == \"cost_mismatching\" ~ \"Cognitive effort cost\",\n",
        "                                    param_name == \"inv_temp\" ~ \"Inverse tempurature\"))\n",
        "# histogram of individual differences in effort cost\n",
        "cost_min <- min(filter(cost_travel_participant_experiment_1,\n",
        "                      param_name == \"cost_mismatching\" |\n",
        "                      param_name == \"cost_large\")$lower)\n",
        "cost_max <- max(filter(cost_travel_participant_experiment_1,\n",
        "                      param_name == \"cost_mismatching\" |\n",
        "                      param_name == \"cost_large\")$upper)\n",
        "p_cost_travel_histogram_experiment_1 <- ggplot(data = cost_travel_participant_experiment_1 %>%\n",
        "         filter(param_name == \"cost_mismatching\" |\n",
        "                param_name == \"cost_large\")) +\n",
        "  geom_histogram(aes(mean),\n",
        "                 binwidth = 2) +\n",
        "  facet_wrap(~ param_name_str, ncol=1) +\n",
        "  labs(y = \"Number of participants\",\n",
        "       x = \" \",\n",
        "       tag = \"A\") +\n",
        "  geom_vline(aes(xintercept = 0),\n",
        "             color = \"black\") +\n",
        "  theme(text = element_text(size = 14,\n",
        "                            family = \"serif\"),\n",
        "        axis.text = element_text(size = 14),\n",
        "        strip.background = element_rect(fill=\"white\"),\n",
        "        strip.text = element_text(size = 14,\n",
        "                                  colour=\"black\"),\n",
        "        panel.background = element_blank(),\n",
        "        panel.grid.major = element_line(size = 0.5,\n",
        "                                        linetype = 'solid',\n",
        "                                        colour = \"grey60\")) +\n",
        "  scale_y_continuous(breaks=scales::breaks_pretty()) +\n",
        "  scale_x_continuous(breaks=scales::breaks_pretty(),\n",
        "                     limits = c(cost_min,\n",
        "                                cost_max))\n",
        "print(p_cost_travel_histogram_experiment_1)"
      ],
      "metadata": {
        "id": "UOwIb8--eJtL"
      },
      "execution_count": null,
      "outputs": []
    },
    {
      "cell_type": "markdown",
      "source": [
        "Again we see a nice spread of individual differences, and a proportion of participants who have negative effort costs, which in the paper we discuss within the context of 'effort-seeking'"
      ],
      "metadata": {
        "id": "BmtQAMsaEDUv"
      }
    },
    {
      "cell_type": "markdown",
      "source": [
        "## Correlation between individual differences in cognitive and physical effort costs\n",
        "The model allowed us to directly estimate the correlation between cognitive and physical effort costs, we will plot the posterior distribution (likely values for the correlation, panel C), and a scatter plot of the individual-level paramters (panel B)."
      ],
      "metadata": {
        "id": "sa3BI_Ss42uF"
      }
    },
    {
      "cell_type": "code",
      "source": [
        "### Figure 4: Correlation between individual differences in cognitive and physical effort costs.\n",
        "# scatter plot cognitive versus physical effort cost with HDI intervals\n",
        "cost_travel_param_participant_experiment_1 <- cost_travel_participant_experiment_1 %>%\n",
        "         mutate(HDIInterval_width = upper - lower) %>%\n",
        "         ungroup() %>%\n",
        "         select(-param_name_str) %>%\n",
        "         pivot_wider(names_from = param_name,\n",
        "                     values_from = c(mean, lower, upper, HDIInterval_width))\n",
        "cost_max <- max(max(cost_travel_param_participant_experiment_1$upper_cost_large),\n",
        "                max(cost_travel_param_participant_experiment_1$upper_cost_mismatching))\n",
        "cost_min <- min(min(cost_travel_param_participant_experiment_1$lower_cost_large),\n",
        "                min(cost_travel_param_participant_experiment_1$lower_cost_mismatching))\n",
        "p_cost_travel_scatter_experiment_1 <- ggplot(data = cost_travel_param_participant_experiment_1,\n",
        "       aes(x = mean_cost_mismatching,\n",
        "           y = mean_cost_large)) +\n",
        "  labs(x = \"Cognitive Effort Cost\",\n",
        "       y = \"Physical Effort Cost\",\n",
        "       tag = \"B\") +\n",
        "  geom_vline(aes(xintercept = 0),\n",
        "             color = \"black\") +\n",
        "  geom_hline(aes(yintercept = 0),\n",
        "           color = \"black\") +\n",
        "  geom_errorbar(aes(xmin = lower_cost_mismatching,\n",
        "                    xmax = upper_cost_mismatching),\n",
        "                alpha = 0.1) +\n",
        "  geom_errorbar(aes(ymin = lower_cost_large,\n",
        "                    ymax = upper_cost_large),\n",
        "                alpha = 0.1) +\n",
        "  geom_point(color = \"black\",\n",
        "             fill = \"white\",\n",
        "             alpha = 0.75,\n",
        "             pch=21) +\n",
        "  theme(text = element_text(size = 14,\n",
        "                            family = \"serif\"),\n",
        "        axis.text = element_text(size = 14),\n",
        "        panel.background = element_blank(),\n",
        "        panel.grid.major = element_line(size = 0.5,\n",
        "                                        linetype = 'solid',\n",
        "                                        colour = \"grey60\")) +\n",
        "    coord_fixed(xlim = c(cost_min, cost_max),\n",
        "                ylim = c(cost_min, cost_max)) +\n",
        "  scale_y_continuous(breaks=scales::breaks_pretty()) +\n",
        "  scale_x_continuous(breaks=scales::breaks_pretty())\n",
        "print(p_cost_travel_scatter_experiment_1)\n",
        "\n",
        "p_cog_phys_correlation_posterior_experiment_1 <- ggplot(\n",
        "  data = cost_travel_stan_fit_experiment_1,\n",
        "      aes(x = `r[3,5]`)) +\n",
        "  geom_histogram(bins = 50) +\n",
        "  geom_vline(aes(xintercept = mean(cost_travel_stan_fit_experiment_1$`r[3,5]`)),\n",
        "           color = \"grey20\") +\n",
        "  labs(y = \"Posterior density\",\n",
        "       x = \"Correlation of cognitive and \\n physical effort costs\",\n",
        "       tag = \"C\") +\n",
        "  theme(text = element_text(family = \"serif\",\n",
        "                            size = 14),\n",
        "        axis.text = element_blank(),\n",
        "        axis.ticks.y = element_blank(),\n",
        "        axis.text.x = element_text(family = \"serif\",\n",
        "                            size = 12),\n",
        "        panel.background = element_blank(),\n",
        "        panel.grid.major = element_line(size = 0.5,\n",
        "                                        linetype = 'solid',\n",
        "                                        colour = \"grey60\")) +\n",
        "  scale_x_continuous(breaks=scales::pretty_breaks()) +\n",
        "  scale_fill_manual(values = c(\"transparent\",\n",
        "                               \"grey50\",\n",
        "                               \"transparent\"),\n",
        "                    guide = \"none\")\n",
        "print(p_cog_phys_correlation_posterior_experiment_1)\n"
      ],
      "metadata": {
        "id": "xSC2tS_dCZ9R"
      },
      "execution_count": null,
      "outputs": []
    },
    {
      "cell_type": "markdown",
      "source": [
        "# Question 5:\n",
        "In this experiment participants who avoided cognitive effort more also avoided physical effort more. What reasons can you think of for why that might be? How does it compare to your real life experiences?"
      ],
      "metadata": {
        "id": "LaEKnbTNdTaR"
      }
    },
    {
      "cell_type": "markdown",
      "source": [
        "## Run the model yourself!\n",
        "To run the model you'll need to install cmdstanr. Note the sampling can take hours, so this code will show you how to run the model, which you can try on your own time."
      ],
      "metadata": {
        "id": "9oVrlbsK-0Ha"
      }
    },
    {
      "cell_type": "code",
      "source": [
        "install.packages(\"cmdstanr\", repos = c(\"https://mc-stan.org/r-packages/\", getOption(\"repos\")))\n",
        "library(cmdstanr)\n",
        "install_cmdstan()\n",
        "check_cmdstan_toolchain()"
      ],
      "metadata": {
        "id": "NKrzFUUfv4uX"
      },
      "execution_count": null,
      "outputs": []
    },
    {
      "cell_type": "code",
      "source": [
        "urlfile=\"https://raw.githubusercontent.com/laurabustamante/foraging_tutorial/main/fit_mvt_stan_model_experiment_1.stan\"\n",
        "download.file(urlfile, destfile = \"/content/fit_mvt_stan_model_experiment_1.stan\")\n",
        "mod <- cmdstan_model(\"/content/fit_mvt_stan_model_experiment_1.stan\")\n",
        "# inspect model code\n",
        "mod$print()"
      ],
      "metadata": {
        "id": "qk7qbFogbZnF"
      },
      "execution_count": null,
      "outputs": []
    },
    {
      "cell_type": "code",
      "source": [
        "# note the sampling can take hours\n",
        "fit_experiment_1 <- mod$sample(\n",
        "  data = foraging_experiment_1_standata,\n",
        "  chains = 4,\n",
        "  parallel_chains = 4,\n",
        "  refresh = 150,\n",
        "  iter_warmup = 500,\n",
        "  iter_sampling = 1000,\n",
        "  thin = 1\n",
        ")\n",
        "\n",
        "fit_experiment_1$summary()\n",
        "cost_travel_experiment_1_fit_full <- fit_experiment_1$draws(format = \"df\")\n",
        "# save the draws and also the model fit object\n",
        "# saveRDS(fit_experiment_1, \"fit_experiment_1.rds\")\n",
        "# write_csv(cost_travel_experiment_1_fit_full, \"cost_travel_experiment_1_fit_full.csv\")"
      ],
      "metadata": {
        "id": "xtD8Do6a8nvb"
      },
      "execution_count": null,
      "outputs": []
    }
  ]
}